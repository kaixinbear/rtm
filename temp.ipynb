{
 "cells": [
  {
   "cell_type": "code",
   "execution_count": 2,
   "metadata": {},
   "outputs": [],
   "source": [
    "import os\n",
    "import time\n",
    "import math\n",
    "import torch\n",
    "import numpy as np\n",
    "from torch import nn\n",
    "from torch.autograd import Variable\n",
    "from torchsummary import summary"
   ]
  },
  {
   "cell_type": "code",
   "execution_count": 3,
   "metadata": {},
   "outputs": [
    {
     "name": "stdout",
     "output_type": "stream",
     "text": [
      "/home/kaixin1/Project/RTM/src/lib/models/networks\n"
     ]
    }
   ],
   "source": [
    "%cd /home/kaixin1/Project/RTM/src/lib/models/networks\n",
    "# %cd /home/kaixin1/Project/RTM/src"
   ]
  },
  {
   "cell_type": "code",
   "execution_count": 4,
   "metadata": {},
   "outputs": [
    {
     "data": {
      "text/plain": [
       "'0.4.1.post2'"
      ]
     },
     "execution_count": 4,
     "metadata": {},
     "output_type": "execute_result"
    }
   ],
   "source": [
    "torch.__version__"
   ]
  },
  {
   "cell_type": "code",
   "execution_count": 5,
   "metadata": {},
   "outputs": [
    {
     "data": {
      "text/plain": [
       "<module 'resnet_FP' from '/home/kaixin1/Project/RTM/src/lib/models/networks/resnet_FP.py'>"
      ]
     },
     "execution_count": 5,
     "metadata": {},
     "output_type": "execute_result"
    }
   ],
   "source": [
    "import resnet_FP\n",
    "import imp\n",
    "imp.reload(resnet_FP)"
   ]
  },
  {
   "cell_type": "code",
   "execution_count": 6,
   "metadata": {},
   "outputs": [
    {
     "name": "stdout",
     "output_type": "stream",
     "text": [
      "=> loading pretrained model https://download.pytorch.org/models/resnet18-5c106cde.pth\n",
      "=> init deconv weights from normal distribution\n"
     ]
    }
   ],
   "source": [
    "heads =  {'hm': 3, 'dep': 1, 'rot': 8, 'dim': 3, 'wh': 2, 'reg': 2}\n",
    "model = resnet_FP.get_FP_net(18,heads)"
   ]
  },
  {
   "cell_type": "code",
   "execution_count": 10,
   "metadata": {},
   "outputs": [
    {
     "name": "stdout",
     "output_type": "stream",
     "text": [
      "=> loading pretrained model https://download.pytorch.org/models/resnet18-5c106cde.pth\n",
      "=> init deconv weights from normal distribution\n",
      "----------------------------------------------------------------\n",
      "        Layer (type)               Output Shape         Param #\n",
      "================================================================\n",
      "            Conv2d-1          [-1, 64, 48, 160]           9,408\n",
      "       BatchNorm2d-2          [-1, 64, 48, 160]             128\n",
      "              ReLU-3          [-1, 64, 48, 160]               0\n",
      "         MaxPool2d-4           [-1, 64, 24, 80]               0\n",
      "            Conv2d-5           [-1, 64, 24, 80]          36,864\n",
      "       BatchNorm2d-6           [-1, 64, 24, 80]             128\n",
      "              ReLU-7           [-1, 64, 24, 80]               0\n",
      "            Conv2d-8           [-1, 64, 24, 80]          36,864\n",
      "       BatchNorm2d-9           [-1, 64, 24, 80]             128\n",
      "             ReLU-10           [-1, 64, 24, 80]               0\n",
      "       BasicBlock-11           [-1, 64, 24, 80]               0\n",
      "           Conv2d-12           [-1, 64, 24, 80]          36,864\n",
      "      BatchNorm2d-13           [-1, 64, 24, 80]             128\n",
      "             ReLU-14           [-1, 64, 24, 80]               0\n",
      "           Conv2d-15           [-1, 64, 24, 80]          36,864\n",
      "      BatchNorm2d-16           [-1, 64, 24, 80]             128\n",
      "             ReLU-17           [-1, 64, 24, 80]               0\n",
      "       BasicBlock-18           [-1, 64, 24, 80]               0\n",
      "           Conv2d-19          [-1, 128, 12, 40]          73,728\n",
      "      BatchNorm2d-20          [-1, 128, 12, 40]             256\n",
      "             ReLU-21          [-1, 128, 12, 40]               0\n",
      "           Conv2d-22          [-1, 128, 12, 40]         147,456\n",
      "      BatchNorm2d-23          [-1, 128, 12, 40]             256\n",
      "           Conv2d-24          [-1, 128, 12, 40]           8,192\n",
      "      BatchNorm2d-25          [-1, 128, 12, 40]             256\n",
      "             ReLU-26          [-1, 128, 12, 40]               0\n",
      "       BasicBlock-27          [-1, 128, 12, 40]               0\n",
      "           Conv2d-28          [-1, 128, 12, 40]         147,456\n",
      "      BatchNorm2d-29          [-1, 128, 12, 40]             256\n",
      "             ReLU-30          [-1, 128, 12, 40]               0\n",
      "           Conv2d-31          [-1, 128, 12, 40]         147,456\n",
      "      BatchNorm2d-32          [-1, 128, 12, 40]             256\n",
      "             ReLU-33          [-1, 128, 12, 40]               0\n",
      "       BasicBlock-34          [-1, 128, 12, 40]               0\n",
      "           Conv2d-35           [-1, 256, 6, 20]         294,912\n",
      "      BatchNorm2d-36           [-1, 256, 6, 20]             512\n",
      "             ReLU-37           [-1, 256, 6, 20]               0\n",
      "           Conv2d-38           [-1, 256, 6, 20]         589,824\n",
      "      BatchNorm2d-39           [-1, 256, 6, 20]             512\n",
      "           Conv2d-40           [-1, 256, 6, 20]          32,768\n",
      "      BatchNorm2d-41           [-1, 256, 6, 20]             512\n",
      "             ReLU-42           [-1, 256, 6, 20]               0\n",
      "       BasicBlock-43           [-1, 256, 6, 20]               0\n",
      "           Conv2d-44           [-1, 256, 6, 20]         589,824\n",
      "      BatchNorm2d-45           [-1, 256, 6, 20]             512\n",
      "             ReLU-46           [-1, 256, 6, 20]               0\n",
      "           Conv2d-47           [-1, 256, 6, 20]         589,824\n",
      "      BatchNorm2d-48           [-1, 256, 6, 20]             512\n",
      "             ReLU-49           [-1, 256, 6, 20]               0\n",
      "       BasicBlock-50           [-1, 256, 6, 20]               0\n",
      "           Conv2d-51           [-1, 512, 3, 10]       1,179,648\n",
      "      BatchNorm2d-52           [-1, 512, 3, 10]           1,024\n",
      "             ReLU-53           [-1, 512, 3, 10]               0\n",
      "           Conv2d-54           [-1, 512, 3, 10]       2,359,296\n",
      "      BatchNorm2d-55           [-1, 512, 3, 10]           1,024\n",
      "           Conv2d-56           [-1, 512, 3, 10]         131,072\n",
      "      BatchNorm2d-57           [-1, 512, 3, 10]           1,024\n",
      "             ReLU-58           [-1, 512, 3, 10]               0\n",
      "       BasicBlock-59           [-1, 512, 3, 10]               0\n",
      "           Conv2d-60           [-1, 512, 3, 10]       2,359,296\n",
      "      BatchNorm2d-61           [-1, 512, 3, 10]           1,024\n",
      "             ReLU-62           [-1, 512, 3, 10]               0\n",
      "           Conv2d-63           [-1, 512, 3, 10]       2,359,296\n",
      "      BatchNorm2d-64           [-1, 512, 3, 10]           1,024\n",
      "             ReLU-65           [-1, 512, 3, 10]               0\n",
      "       BasicBlock-66           [-1, 512, 3, 10]               0\n",
      "           Conv2d-67            [-1, 27, 3, 10]         124,443\n",
      "              DCN-68           [-1, 256, 3, 10]       1,179,904\n",
      "      BatchNorm2d-69           [-1, 256, 3, 10]             512\n",
      "             ReLU-70           [-1, 256, 3, 10]               0\n",
      "  ConvTranspose2d-71           [-1, 256, 6, 20]       1,048,576\n",
      "      BatchNorm2d-72           [-1, 256, 6, 20]             512\n",
      "             ReLU-73           [-1, 256, 6, 20]               0\n",
      "           Conv2d-74            [-1, 27, 6, 20]          62,235\n",
      "              DCN-75           [-1, 128, 6, 20]         295,040\n",
      "      BatchNorm2d-76           [-1, 128, 6, 20]             256\n",
      "             ReLU-77           [-1, 128, 6, 20]               0\n",
      "  ConvTranspose2d-78          [-1, 128, 12, 40]         262,144\n",
      "      BatchNorm2d-79          [-1, 128, 12, 40]             256\n",
      "             ReLU-80          [-1, 128, 12, 40]               0\n",
      "           Conv2d-81           [-1, 27, 12, 40]          31,131\n",
      "              DCN-82           [-1, 64, 12, 40]          73,792\n",
      "      BatchNorm2d-83           [-1, 64, 12, 40]             128\n",
      "             ReLU-84           [-1, 64, 12, 40]               0\n",
      "  ConvTranspose2d-85           [-1, 64, 24, 80]          65,536\n",
      "      BatchNorm2d-86           [-1, 64, 24, 80]             128\n",
      "             ReLU-87           [-1, 64, 24, 80]               0\n",
      "           Conv2d-88          [-1, 256, 24, 80]         147,712\n",
      "             ReLU-89          [-1, 256, 24, 80]               0\n",
      "           Conv2d-90            [-1, 3, 24, 80]             771\n",
      "           Conv2d-91          [-1, 256, 24, 80]         147,712\n",
      "             ReLU-92          [-1, 256, 24, 80]               0\n",
      "           Conv2d-93            [-1, 1, 24, 80]             257\n",
      "           Conv2d-94          [-1, 256, 24, 80]         147,712\n",
      "             ReLU-95          [-1, 256, 24, 80]               0\n",
      "           Conv2d-96            [-1, 8, 24, 80]           2,056\n",
      "           Conv2d-97          [-1, 256, 24, 80]         147,712\n",
      "             ReLU-98          [-1, 256, 24, 80]               0\n",
      "           Conv2d-99            [-1, 3, 24, 80]             771\n",
      "          Conv2d-100          [-1, 256, 24, 80]         147,712\n",
      "            ReLU-101          [-1, 256, 24, 80]               0\n",
      "          Conv2d-102            [-1, 2, 24, 80]             514\n",
      "          Conv2d-103          [-1, 256, 24, 80]         147,712\n",
      "            ReLU-104          [-1, 256, 24, 80]               0\n",
      "          Conv2d-105            [-1, 2, 24, 80]             514\n",
      "================================================================\n",
      "Total params: 15,212,260\n",
      "Trainable params: 15,212,260\n",
      "Non-trainable params: 0\n",
      "----------------------------------------------------------------\n",
      "Input size (MB): 0.35\n",
      "Forward/backward pass size (MB): 90.00\n",
      "Params size (MB): 58.03\n",
      "Estimated Total Size (MB): 148.38\n",
      "----------------------------------------------------------------\n"
     ]
    }
   ],
   "source": [
    "import resnet_dcn\n",
    "import imp\n",
    "imp.reload(resnet_dcn)\n",
    "model = resnet_dcn.get_pose_net(18,heads)\n",
    "torch.cuda.set_device(1)\n",
    "summary(model.cuda(1), (3, 384//4, 1280//4))"
   ]
  },
  {
   "cell_type": "code",
   "execution_count": 10,
   "metadata": {},
   "outputs": [
    {
     "name": "stdout",
     "output_type": "stream",
     "text": [
      "----------------------------------------------------------------\n",
      "        Layer (type)               Output Shape         Param #\n",
      "================================================================\n",
      "            Conv2d-1          [-1, 64, 48, 160]           9,408\n",
      "       BatchNorm2d-2          [-1, 64, 48, 160]             128\n",
      "              ReLU-3          [-1, 64, 48, 160]               0\n",
      "         MaxPool2d-4           [-1, 64, 24, 80]               0\n",
      "            Conv2d-5           [-1, 64, 24, 80]          36,864\n",
      "       BatchNorm2d-6           [-1, 64, 24, 80]             128\n",
      "              ReLU-7           [-1, 64, 24, 80]               0\n",
      "            Conv2d-8           [-1, 64, 24, 80]          36,864\n",
      "       BatchNorm2d-9           [-1, 64, 24, 80]             128\n",
      "             ReLU-10           [-1, 64, 24, 80]               0\n",
      "       BasicBlock-11           [-1, 64, 24, 80]               0\n",
      "           Conv2d-12           [-1, 64, 24, 80]          36,864\n",
      "      BatchNorm2d-13           [-1, 64, 24, 80]             128\n",
      "             ReLU-14           [-1, 64, 24, 80]               0\n",
      "           Conv2d-15           [-1, 64, 24, 80]          36,864\n",
      "      BatchNorm2d-16           [-1, 64, 24, 80]             128\n",
      "             ReLU-17           [-1, 64, 24, 80]               0\n",
      "       BasicBlock-18           [-1, 64, 24, 80]               0\n",
      "           Conv2d-19          [-1, 128, 12, 40]          73,728\n",
      "      BatchNorm2d-20          [-1, 128, 12, 40]             256\n",
      "             ReLU-21          [-1, 128, 12, 40]               0\n",
      "           Conv2d-22          [-1, 128, 12, 40]         147,456\n",
      "      BatchNorm2d-23          [-1, 128, 12, 40]             256\n",
      "           Conv2d-24          [-1, 128, 12, 40]           8,192\n",
      "      BatchNorm2d-25          [-1, 128, 12, 40]             256\n",
      "             ReLU-26          [-1, 128, 12, 40]               0\n",
      "       BasicBlock-27          [-1, 128, 12, 40]               0\n",
      "           Conv2d-28          [-1, 128, 12, 40]         147,456\n",
      "      BatchNorm2d-29          [-1, 128, 12, 40]             256\n",
      "             ReLU-30          [-1, 128, 12, 40]               0\n",
      "           Conv2d-31          [-1, 128, 12, 40]         147,456\n",
      "      BatchNorm2d-32          [-1, 128, 12, 40]             256\n",
      "             ReLU-33          [-1, 128, 12, 40]               0\n",
      "       BasicBlock-34          [-1, 128, 12, 40]               0\n",
      "           Conv2d-35           [-1, 256, 6, 20]         294,912\n",
      "      BatchNorm2d-36           [-1, 256, 6, 20]             512\n",
      "             ReLU-37           [-1, 256, 6, 20]               0\n",
      "           Conv2d-38           [-1, 256, 6, 20]         589,824\n",
      "      BatchNorm2d-39           [-1, 256, 6, 20]             512\n",
      "           Conv2d-40           [-1, 256, 6, 20]          32,768\n",
      "      BatchNorm2d-41           [-1, 256, 6, 20]             512\n",
      "             ReLU-42           [-1, 256, 6, 20]               0\n",
      "       BasicBlock-43           [-1, 256, 6, 20]               0\n",
      "           Conv2d-44           [-1, 256, 6, 20]         589,824\n",
      "      BatchNorm2d-45           [-1, 256, 6, 20]             512\n",
      "             ReLU-46           [-1, 256, 6, 20]               0\n",
      "           Conv2d-47           [-1, 256, 6, 20]         589,824\n",
      "      BatchNorm2d-48           [-1, 256, 6, 20]             512\n",
      "             ReLU-49           [-1, 256, 6, 20]               0\n",
      "       BasicBlock-50           [-1, 256, 6, 20]               0\n",
      "           Conv2d-51           [-1, 512, 3, 10]       1,179,648\n",
      "      BatchNorm2d-52           [-1, 512, 3, 10]           1,024\n",
      "             ReLU-53           [-1, 512, 3, 10]               0\n",
      "           Conv2d-54           [-1, 512, 3, 10]       2,359,296\n",
      "      BatchNorm2d-55           [-1, 512, 3, 10]           1,024\n",
      "           Conv2d-56           [-1, 512, 3, 10]         131,072\n",
      "      BatchNorm2d-57           [-1, 512, 3, 10]           1,024\n",
      "             ReLU-58           [-1, 512, 3, 10]               0\n",
      "       BasicBlock-59           [-1, 512, 3, 10]               0\n",
      "           Conv2d-60           [-1, 512, 3, 10]       2,359,296\n",
      "      BatchNorm2d-61           [-1, 512, 3, 10]           1,024\n",
      "             ReLU-62           [-1, 512, 3, 10]               0\n",
      "           Conv2d-63           [-1, 512, 3, 10]       2,359,296\n",
      "      BatchNorm2d-64           [-1, 512, 3, 10]           1,024\n",
      "             ReLU-65           [-1, 512, 3, 10]               0\n",
      "       BasicBlock-66           [-1, 512, 3, 10]               0\n",
      "           Conv2d-67           [-1, 256, 6, 20]         131,072\n",
      "      BatchNorm2d-68           [-1, 256, 6, 20]             512\n",
      "             ReLU-69           [-1, 256, 6, 20]               0\n",
      "           Conv2d-70           [-1, 256, 6, 20]         131,072\n",
      "      BatchNorm2d-71           [-1, 256, 6, 20]             512\n",
      "             ReLU-72           [-1, 256, 6, 20]               0\n",
      "           Conv2d-73          [-1, 128, 12, 40]          32,768\n",
      "      BatchNorm2d-74          [-1, 128, 12, 40]             256\n",
      "             ReLU-75          [-1, 128, 12, 40]               0\n",
      "           Conv2d-76          [-1, 128, 12, 40]          32,768\n",
      "      BatchNorm2d-77          [-1, 128, 12, 40]             256\n",
      "             ReLU-78          [-1, 128, 12, 40]               0\n",
      "           Conv2d-79           [-1, 64, 24, 80]           8,192\n",
      "      BatchNorm2d-80           [-1, 64, 24, 80]             128\n",
      "             ReLU-81           [-1, 64, 24, 80]               0\n",
      "           Conv2d-82           [-1, 64, 24, 80]           8,192\n",
      "      BatchNorm2d-83           [-1, 64, 24, 80]             128\n",
      "             ReLU-84           [-1, 64, 24, 80]               0\n",
      "  ConvTranspose2d-85           [-1, 64, 24, 80]         589,824\n",
      "      BatchNorm2d-86           [-1, 64, 24, 80]             128\n",
      "             ReLU-87           [-1, 64, 24, 80]               0\n",
      "  ConvTranspose2d-88           [-1, 64, 24, 80]         131,072\n",
      "      BatchNorm2d-89           [-1, 64, 24, 80]             128\n",
      "             ReLU-90           [-1, 64, 24, 80]               0\n",
      "           Conv2d-91          [-1, 256, 24, 80]         147,712\n",
      "             ReLU-92          [-1, 256, 24, 80]               0\n",
      "           Conv2d-93            [-1, 3, 24, 80]             771\n",
      "           Conv2d-94          [-1, 256, 24, 80]         147,712\n",
      "             ReLU-95          [-1, 256, 24, 80]               0\n",
      "           Conv2d-96            [-1, 1, 24, 80]             257\n",
      "           Conv2d-97          [-1, 256, 24, 80]         147,712\n",
      "             ReLU-98          [-1, 256, 24, 80]               0\n",
      "           Conv2d-99            [-1, 8, 24, 80]           2,056\n",
      "          Conv2d-100          [-1, 256, 24, 80]         147,712\n",
      "            ReLU-101          [-1, 256, 24, 80]               0\n",
      "          Conv2d-102            [-1, 3, 24, 80]             771\n",
      "          Conv2d-103          [-1, 256, 24, 80]         147,712\n",
      "            ReLU-104          [-1, 256, 24, 80]               0\n",
      "          Conv2d-105            [-1, 2, 24, 80]             514\n",
      "          Conv2d-106          [-1, 256, 24, 80]         147,712\n",
      "            ReLU-107          [-1, 256, 24, 80]               0\n",
      "          Conv2d-108            [-1, 2, 24, 80]             514\n",
      "================================================================\n",
      "Total params: 13,134,675\n",
      "Trainable params: 13,134,675\n",
      "Non-trainable params: 0\n",
      "----------------------------------------------------------------\n",
      "Input size (MB): 0.35\n",
      "Forward/backward pass size (MB): 99.18\n",
      "Params size (MB): 50.10\n",
      "Estimated Total Size (MB): 149.64\n",
      "----------------------------------------------------------------\n"
     ]
    },
    {
     "name": "stderr",
     "output_type": "stream",
     "text": [
      "/home/kaixin1/anaconda3/envs/CenterNet/lib/python3.6/site-packages/torch/nn/functional.py:1961: UserWarning: Default upsampling behavior when mode=bilinear is changed to align_corners=False since 0.4.0. Please specify align_corners=True if the old behavior is desired. See the documentation of nn.Upsample for details.\n",
      "  \"See the documentation of nn.Upsample for details.\".format(mode))\n"
     ]
    }
   ],
   "source": [
    "torch.cuda.set_device(3)\n",
    "summary(model.cuda(3), (3, 384//4, 1280//4))"
   ]
  },
  {
   "cell_type": "code",
   "execution_count": 5,
   "metadata": {},
   "outputs": [],
   "source": [
    "from __future__ import absolute_import\n",
    "from __future__ import division\n",
    "from __future__ import print_function\n",
    "\n",
    "import _init_paths\n",
    "\n",
    "import os\n",
    "\n",
    "import torch\n",
    "import torch.utils.data\n",
    "from opts import opts\n",
    "from models.model import create_model, load_model, save_model\n",
    "from models.data_parallel import DataParallel\n",
    "from logger import Logger\n",
    "from datasets.dataset_factory import get_dataset\n",
    "from trains.train_factory import train_factory"
   ]
  },
  {
   "cell_type": "code",
   "execution_count": 6,
   "metadata": {},
   "outputs": [],
   "source": [
    "args = ['ddd', '--exp_id', '3dop', '--dataset', 'kitti',\\\n",
    "'--kitti_split', '3dop' ,'--batch_size' ,'16' ,'--master_batch', '7' ,'--num_epochs','70',\\\n",
    "'--lr_step', '45,60' ,'--gpus', '1,2','--arch', 'resFP_18','--resume']"
   ]
  },
  {
   "cell_type": "code",
   "execution_count": 7,
   "metadata": {},
   "outputs": [
    {
     "ename": "NameError",
     "evalue": "name 'opt' is not defined",
     "output_type": "error",
     "traceback": [
      "\u001b[0;31m---------------------------------------------------------------------------\u001b[0m",
      "\u001b[0;31mNameError\u001b[0m                                 Traceback (most recent call last)",
      "\u001b[0;32m<ipython-input-7-74174a5c3dbe>\u001b[0m in \u001b[0;36m<module>\u001b[0;34m\u001b[0m\n\u001b[0;32m----> 1\u001b[0;31m \u001b[0mopt\u001b[0m\u001b[0;34m.\u001b[0m\u001b[0mdebug\u001b[0m\u001b[0;34m\u001b[0m\u001b[0;34m\u001b[0m\u001b[0m\n\u001b[0m",
      "\u001b[0;31mNameError\u001b[0m: name 'opt' is not defined"
     ]
    }
   ],
   "source": [
    "opt.debug"
   ]
  },
  {
   "cell_type": "code",
   "execution_count": 8,
   "metadata": {},
   "outputs": [
    {
     "name": "stdout",
     "output_type": "stream",
     "text": [
      "opt.gpus 1,2\n",
      "opt.gpus 1,2\n",
      "opt.gpus [1, 2]\n",
      "Fix size testing.\n",
      "training chunk_sizes: [7, 9]\n",
      "The output will be saved to  /home/kaixin1/Project/RTM/src/lib/../../exp/ddd/3dop\n"
     ]
    }
   ],
   "source": [
    "opt = opts().parse(args)"
   ]
  },
  {
   "cell_type": "code",
   "execution_count": 9,
   "metadata": {},
   "outputs": [
    {
     "data": {
      "text/plain": [
       "[1, 2]"
      ]
     },
     "execution_count": 9,
     "metadata": {},
     "output_type": "execute_result"
    }
   ],
   "source": [
    "opt.gpus"
   ]
  },
  {
   "cell_type": "code",
   "execution_count": 10,
   "metadata": {},
   "outputs": [
    {
     "name": "stdout",
     "output_type": "stream",
     "text": [
      "heads {'hm': 3, 'vertex_hm': 9, 'vertex_coordinate': 18, 'dep': 1, 'rot': 8, 'dim': 3, 'wh': 2, 'reg': 2, 'vertex_reg_offset': 2}\n"
     ]
    }
   ],
   "source": [
    "torch.manual_seed(opt.seed)\n",
    "torch.backends.cudnn.benchmark = not opt.not_cuda_benchmark and not opt.test\n",
    "# Dataset多继承了数据库类(KITTI)和任务类(ddd)；\n",
    "Dataset = get_dataset(opt.dataset, opt.task)\n",
    "# 在参数里添加与用到的数据集的相关属性\n",
    "opt = opts().update_dataset_info_and_set_heads(opt, Dataset)"
   ]
  },
  {
   "cell_type": "code",
   "execution_count": 11,
   "metadata": {},
   "outputs": [],
   "source": [
    "os.environ['CUDA_VISIBLE_DEVICES'] = opt.gpus_str"
   ]
  },
  {
   "cell_type": "code",
   "execution_count": 12,
   "metadata": {},
   "outputs": [
    {
     "name": "stdout",
     "output_type": "stream",
     "text": [
      "Creating model...\n",
      "=> loading pretrained model https://download.pytorch.org/models/resnet18-5c106cde.pth\n",
      "=> init deconv weights from normal distribution\n",
      "loaded /home/kaixin1/Project/RTM/src/lib/../../exp/ddd/3dop/model_last.pth, epoch 10\n",
      "Resumed optimizer with start lr 0.000125\n"
     ]
    }
   ],
   "source": [
    "print('Creating model...')\n",
    "model = create_model(opt.arch, opt.heads, opt.head_conv)\n",
    "optimizer = torch.optim.Adam(model.parameters(), opt.lr)\n",
    "start_epoch = 0\n",
    "if opt.load_model != '':\n",
    "    model, optimizer, start_epoch = load_model(\\\n",
    "  model, opt.load_model, optimizer, opt.resume, opt.lr, opt.lr_step)"
   ]
  },
  {
   "cell_type": "code",
   "execution_count": null,
   "metadata": {},
   "outputs": [],
   "source": []
  },
  {
   "cell_type": "code",
   "execution_count": 13,
   "metadata": {},
   "outputs": [],
   "source": [
    "Trainer = train_factory[opt.task]\n",
    "trainer = Trainer(opt, model, optimizer)"
   ]
  },
  {
   "cell_type": "code",
   "execution_count": 15,
   "metadata": {},
   "outputs": [],
   "source": [
    "opt.device = torch.device('cuda' if opt.gpus[0] >= 0 else 'cpu')"
   ]
  },
  {
   "cell_type": "code",
   "execution_count": 16,
   "metadata": {},
   "outputs": [],
   "source": [
    "trainer.set_device(opt.gpus, opt.chunk_sizes,opt.device )"
   ]
  },
  {
   "cell_type": "code",
   "execution_count": 17,
   "metadata": {},
   "outputs": [
    {
     "name": "stdout",
     "output_type": "stream",
     "text": [
      "Setting up data...\n",
      "==> initializing kitti 3dop, val data.\n",
      "loading annotations into memory...\n",
      "Done (t=1.00s)\n",
      "creating index...\n",
      "index created!\n",
      "Loaded val 3769 samples\n",
      "==> initializing kitti 3dop, train data.\n",
      "loading annotations into memory...\n",
      "Done (t=1.00s)\n",
      "creating index...\n",
      "index created!\n",
      "Loaded train 3712 samples\n"
     ]
    }
   ],
   "source": [
    "print('Setting up data...')\n",
    "val_loader = torch.utils.data.DataLoader(\n",
    "  Dataset(opt, 'val'), \n",
    "  batch_size=1, \n",
    "  shuffle=False,\n",
    "  num_workers=1,\n",
    "  pin_memory=True\n",
    ")\n",
    "\n",
    "train_loader = torch.utils.data.DataLoader(\n",
    "  Dataset(opt, 'train'), \n",
    "  batch_size=opt.batch_size, \n",
    "  shuffle=True,\n",
    "  num_workers=opt.num_workers,\n",
    "  pin_memory=True,\n",
    "  drop_last=True\n",
    ")"
   ]
  },
  {
   "cell_type": "code",
   "execution_count": 18,
   "metadata": {},
   "outputs": [
    {
     "name": "stdout",
     "output_type": "stream",
     "text": [
      "Starting training...\n",
      "go epoch: 11\n"
     ]
    },
    {
     "ename": "RuntimeError",
     "evalue": "CUDA error (10): invalid device ordinal (check_status at /opt/conda/conda-bld/pytorch_1535491974311/work/aten/src/ATen/cuda/detail/CUDAHooks.cpp:36)\nframe #0: torch::cuda::scatter(at::Tensor const&, at::ArrayRef<long>, at::optional<std::vector<long, std::allocator<long> > > const&, long, at::optional<std::vector<CUDAStreamInternals*, std::allocator<CUDAStreamInternals*> > > const&) + 0x4e1 (0x7f14da863871 in /home/kaixin1/anaconda3/envs/CenterNet/lib/python3.6/site-packages/torch/_C.cpython-36m-x86_64-linux-gnu.so)\nframe #1: <unknown function> + 0xc42a0b (0x7f14da86ba0b in /home/kaixin1/anaconda3/envs/CenterNet/lib/python3.6/site-packages/torch/_C.cpython-36m-x86_64-linux-gnu.so)\nframe #2: <unknown function> + 0x38a5cb (0x7f14d9fb35cb in /home/kaixin1/anaconda3/envs/CenterNet/lib/python3.6/site-packages/torch/_C.cpython-36m-x86_64-linux-gnu.so)\nframe #3: _PyCFunction_FastCallDict + 0x154 (0x55962670d4f4 in /home/kaixin1/anaconda3/envs/CenterNet/bin/python)\nframe #4: <unknown function> + 0x198dac (0x559626794dac in /home/kaixin1/anaconda3/envs/CenterNet/bin/python)\nframe #5: _PyEval_EvalFrameDefault + 0x30a (0x5596267b766a in /home/kaixin1/anaconda3/envs/CenterNet/bin/python)\nframe #6: <unknown function> + 0x192274 (0x55962678e274 in /home/kaixin1/anaconda3/envs/CenterNet/bin/python)\nframe #7: <unknown function> + 0x1930f1 (0x55962678f0f1 in /home/kaixin1/anaconda3/envs/CenterNet/bin/python)\nframe #8: <unknown function> + 0x198e85 (0x559626794e85 in /home/kaixin1/anaconda3/envs/CenterNet/bin/python)\nframe #9: _PyEval_EvalFrameDefault + 0x30a (0x5596267b766a in /home/kaixin1/anaconda3/envs/CenterNet/bin/python)\nframe #10: PyEval_EvalCodeEx + 0x329 (0x55962678fc09 in /home/kaixin1/anaconda3/envs/CenterNet/bin/python)\nframe #11: <unknown function> + 0x194a24 (0x559626790a24 in /home/kaixin1/anaconda3/envs/CenterNet/bin/python)\nframe #12: PyObject_Call + 0x3e (0x55962670d2fe in /home/kaixin1/anaconda3/envs/CenterNet/bin/python)\nframe #13: THPFunction_apply(_object*, _object*) + 0x38f (0x7f14da391a2f in /home/kaixin1/anaconda3/envs/CenterNet/lib/python3.6/site-packages/torch/_C.cpython-36m-x86_64-linux-gnu.so)\nframe #14: _PyCFunction_FastCallDict + 0x91 (0x55962670d431 in /home/kaixin1/anaconda3/envs/CenterNet/bin/python)\nframe #15: <unknown function> + 0x198dac (0x559626794dac in /home/kaixin1/anaconda3/envs/CenterNet/bin/python)\nframe #16: _PyEval_EvalFrameDefault + 0x30a (0x5596267b766a in /home/kaixin1/anaconda3/envs/CenterNet/bin/python)\nframe #17: <unknown function> + 0x19257e (0x55962678e57e in /home/kaixin1/anaconda3/envs/CenterNet/bin/python)\nframe #18: _PyFunction_FastCallDict + 0x1be (0x55962678f5ce in /home/kaixin1/anaconda3/envs/CenterNet/bin/python)\nframe #19: _PyObject_FastCallDict + 0x26f (0x55962670d8bf in /home/kaixin1/anaconda3/envs/CenterNet/bin/python)\nframe #20: <unknown function> + 0x12cf22 (0x559626728f22 in /home/kaixin1/anaconda3/envs/CenterNet/bin/python)\nframe #21: PyIter_Next + 0xe (0x55962674f4ae in /home/kaixin1/anaconda3/envs/CenterNet/bin/python)\nframe #22: PySequence_Tuple + 0x1f5 (0x559626753fc5 in /home/kaixin1/anaconda3/envs/CenterNet/bin/python)\nframe #23: _PyEval_EvalFrameDefault + 0x545f (0x5596267bc7bf in /home/kaixin1/anaconda3/envs/CenterNet/bin/python)\nframe #24: <unknown function> + 0x19257e (0x55962678e57e in /home/kaixin1/anaconda3/envs/CenterNet/bin/python)\nframe #25: _PyFunction_FastCallDict + 0x1be (0x55962678f5ce in /home/kaixin1/anaconda3/envs/CenterNet/bin/python)\nframe #26: _PyObject_FastCallDict + 0x26f (0x55962670d8bf in /home/kaixin1/anaconda3/envs/CenterNet/bin/python)\nframe #27: <unknown function> + 0x12cf22 (0x559626728f22 in /home/kaixin1/anaconda3/envs/CenterNet/bin/python)\nframe #28: PyIter_Next + 0xe (0x55962674f4ae in /home/kaixin1/anaconda3/envs/CenterNet/bin/python)\nframe #29: PySequence_Tuple + 0xf9 (0x559626753ec9 in /home/kaixin1/anaconda3/envs/CenterNet/bin/python)\nframe #30: _PyEval_EvalFrameDefault + 0x545f (0x5596267bc7bf in /home/kaixin1/anaconda3/envs/CenterNet/bin/python)\nframe #31: <unknown function> + 0x19257e (0x55962678e57e in /home/kaixin1/anaconda3/envs/CenterNet/bin/python)\nframe #32: _PyFunction_FastCallDict + 0x1be (0x55962678f5ce in /home/kaixin1/anaconda3/envs/CenterNet/bin/python)\nframe #33: _PyObject_FastCallDict + 0x26f (0x55962670d8bf in /home/kaixin1/anaconda3/envs/CenterNet/bin/python)\nframe #34: <unknown function> + 0x12cf22 (0x559626728f22 in /home/kaixin1/anaconda3/envs/CenterNet/bin/python)\nframe #35: PyIter_Next + 0xe (0x55962674f4ae in /home/kaixin1/anaconda3/envs/CenterNet/bin/python)\nframe #36: PySequence_Tuple + 0xf9 (0x559626753ec9 in /home/kaixin1/anaconda3/envs/CenterNet/bin/python)\nframe #37: _PyEval_EvalFrameDefault + 0x545f (0x5596267bc7bf in /home/kaixin1/anaconda3/envs/CenterNet/bin/python)\nframe #38: <unknown function> + 0x19257e (0x55962678e57e in /home/kaixin1/anaconda3/envs/CenterNet/bin/python)\nframe #39: <unknown function> + 0x1930f1 (0x55962678f0f1 in /home/kaixin1/anaconda3/envs/CenterNet/bin/python)\nframe #40: <unknown function> + 0x198e85 (0x559626794e85 in /home/kaixin1/anaconda3/envs/CenterNet/bin/python)\nframe #41: _PyEval_EvalFrameDefault + 0x30a (0x5596267b766a in /home/kaixin1/anaconda3/envs/CenterNet/bin/python)\nframe #42: <unknown function> + 0x19257e (0x55962678e57e in /home/kaixin1/anaconda3/envs/CenterNet/bin/python)\nframe #43: <unknown function> + 0x1930f1 (0x55962678f0f1 in /home/kaixin1/anaconda3/envs/CenterNet/bin/python)\nframe #44: <unknown function> + 0x198e85 (0x559626794e85 in /home/kaixin1/anaconda3/envs/CenterNet/bin/python)\nframe #45: _PyEval_EvalFrameDefault + 0x30a (0x5596267b766a in /home/kaixin1/anaconda3/envs/CenterNet/bin/python)\nframe #46: <unknown function> + 0x192274 (0x55962678e274 in /home/kaixin1/anaconda3/envs/CenterNet/bin/python)\nframe #47: <unknown function> + 0x1930f1 (0x55962678f0f1 in /home/kaixin1/anaconda3/envs/CenterNet/bin/python)\nframe #48: <unknown function> + 0x198e85 (0x559626794e85 in /home/kaixin1/anaconda3/envs/CenterNet/bin/python)\nframe #49: _PyEval_EvalFrameDefault + 0x10c8 (0x5596267b8428 in /home/kaixin1/anaconda3/envs/CenterNet/bin/python)\nframe #50: <unknown function> + 0x192ebb (0x55962678eebb in /home/kaixin1/anaconda3/envs/CenterNet/bin/python)\nframe #51: <unknown function> + 0x198e85 (0x559626794e85 in /home/kaixin1/anaconda3/envs/CenterNet/bin/python)\nframe #52: _PyEval_EvalFrameDefault + 0x30a (0x5596267b766a in /home/kaixin1/anaconda3/envs/CenterNet/bin/python)\nframe #53: <unknown function> + 0x192274 (0x55962678e274 in /home/kaixin1/anaconda3/envs/CenterNet/bin/python)\nframe #54: _PyFunction_FastCallDict + 0x3d8 (0x55962678f7e8 in /home/kaixin1/anaconda3/envs/CenterNet/bin/python)\nframe #55: _PyObject_FastCallDict + 0x26f (0x55962670d8bf in /home/kaixin1/anaconda3/envs/CenterNet/bin/python)\nframe #56: _PyObject_Call_Prepend + 0x63 (0x559626712313 in /home/kaixin1/anaconda3/envs/CenterNet/bin/python)\nframe #57: PyObject_Call + 0x3e (0x55962670d2fe in /home/kaixin1/anaconda3/envs/CenterNet/bin/python)\nframe #58: _PyEval_EvalFrameDefault + 0x1998 (0x5596267b8cf8 in /home/kaixin1/anaconda3/envs/CenterNet/bin/python)\nframe #59: <unknown function> + 0x192274 (0x55962678e274 in /home/kaixin1/anaconda3/envs/CenterNet/bin/python)\nframe #60: _PyFunction_FastCallDict + 0x1be (0x55962678f5ce in /home/kaixin1/anaconda3/envs/CenterNet/bin/python)\nframe #61: _PyObject_FastCallDict + 0x26f (0x55962670d8bf in /home/kaixin1/anaconda3/envs/CenterNet/bin/python)\nframe #62: _PyObject_Call_Prepend + 0x63 (0x559626712313 in /home/kaixin1/anaconda3/envs/CenterNet/bin/python)\nframe #63: PyObject_Call + 0x3e (0x55962670d2fe in /home/kaixin1/anaconda3/envs/CenterNet/bin/python)\n",
     "output_type": "error",
     "traceback": [
      "\u001b[0;31m---------------------------------------------------------------------------\u001b[0m",
      "\u001b[0;31mRuntimeError\u001b[0m                              Traceback (most recent call last)",
      "\u001b[0;32m<ipython-input-18-9319b9fffc88>\u001b[0m in \u001b[0;36m<module>\u001b[0;34m\u001b[0m\n\u001b[1;32m      4\u001b[0m     \u001b[0mmark\u001b[0m \u001b[0;34m=\u001b[0m \u001b[0mepoch\u001b[0m \u001b[0;32mif\u001b[0m \u001b[0mopt\u001b[0m\u001b[0;34m.\u001b[0m\u001b[0msave_all\u001b[0m \u001b[0;32melse\u001b[0m \u001b[0;34m'last'\u001b[0m\u001b[0;34m\u001b[0m\u001b[0;34m\u001b[0m\u001b[0m\n\u001b[1;32m      5\u001b[0m     \u001b[0mprint\u001b[0m\u001b[0;34m(\u001b[0m\u001b[0;34m\"go epoch:\"\u001b[0m\u001b[0;34m,\u001b[0m\u001b[0mepoch\u001b[0m\u001b[0;34m)\u001b[0m\u001b[0;34m\u001b[0m\u001b[0;34m\u001b[0m\u001b[0m\n\u001b[0;32m----> 6\u001b[0;31m     \u001b[0mlog_dict_train\u001b[0m\u001b[0;34m,\u001b[0m \u001b[0m_\u001b[0m \u001b[0;34m=\u001b[0m \u001b[0mtrainer\u001b[0m\u001b[0;34m.\u001b[0m\u001b[0mtrain\u001b[0m\u001b[0;34m(\u001b[0m\u001b[0mepoch\u001b[0m\u001b[0;34m,\u001b[0m \u001b[0mtrain_loader\u001b[0m\u001b[0;34m)\u001b[0m\u001b[0;34m\u001b[0m\u001b[0;34m\u001b[0m\u001b[0m\n\u001b[0m\u001b[1;32m      7\u001b[0m     \u001b[0mprint\u001b[0m\u001b[0;34m(\u001b[0m\u001b[0;34m\"go out\"\u001b[0m\u001b[0;34m,\u001b[0m\u001b[0mepoch\u001b[0m\u001b[0;34m)\u001b[0m\u001b[0;34m\u001b[0m\u001b[0;34m\u001b[0m\u001b[0m\n\u001b[1;32m      8\u001b[0m     \u001b[0mlogger\u001b[0m\u001b[0;34m.\u001b[0m\u001b[0mwrite\u001b[0m\u001b[0;34m(\u001b[0m\u001b[0;34m'epoch: {} |'\u001b[0m\u001b[0;34m.\u001b[0m\u001b[0mformat\u001b[0m\u001b[0;34m(\u001b[0m\u001b[0mepoch\u001b[0m\u001b[0;34m)\u001b[0m\u001b[0;34m)\u001b[0m\u001b[0;34m\u001b[0m\u001b[0;34m\u001b[0m\u001b[0m\n",
      "\u001b[0;32m~/Project/RTM/src/lib/trains/base_trainer.py\u001b[0m in \u001b[0;36mtrain\u001b[0;34m(self, epoch, data_loader)\u001b[0m\n\u001b[1;32m    118\u001b[0m \u001b[0;34m\u001b[0m\u001b[0m\n\u001b[1;32m    119\u001b[0m   \u001b[0;32mdef\u001b[0m \u001b[0mtrain\u001b[0m\u001b[0;34m(\u001b[0m\u001b[0mself\u001b[0m\u001b[0;34m,\u001b[0m \u001b[0mepoch\u001b[0m\u001b[0;34m,\u001b[0m \u001b[0mdata_loader\u001b[0m\u001b[0;34m)\u001b[0m\u001b[0;34m:\u001b[0m\u001b[0;34m\u001b[0m\u001b[0;34m\u001b[0m\u001b[0m\n\u001b[0;32m--> 120\u001b[0;31m     \u001b[0;32mreturn\u001b[0m \u001b[0mself\u001b[0m\u001b[0;34m.\u001b[0m\u001b[0mrun_epoch\u001b[0m\u001b[0;34m(\u001b[0m\u001b[0;34m'train'\u001b[0m\u001b[0;34m,\u001b[0m \u001b[0mepoch\u001b[0m\u001b[0;34m,\u001b[0m \u001b[0mdata_loader\u001b[0m\u001b[0;34m)\u001b[0m\u001b[0;34m\u001b[0m\u001b[0;34m\u001b[0m\u001b[0m\n\u001b[0m",
      "\u001b[0;32m~/Project/RTM/src/lib/trains/base_trainer.py\u001b[0m in \u001b[0;36mrun_epoch\u001b[0;34m(self, phase, epoch, data_loader)\u001b[0m\n\u001b[1;32m     68\u001b[0m         \u001b[0;32mif\u001b[0m \u001b[0mk\u001b[0m \u001b[0;34m!=\u001b[0m \u001b[0;34m'meta'\u001b[0m\u001b[0;34m:\u001b[0m\u001b[0;34m\u001b[0m\u001b[0;34m\u001b[0m\u001b[0m\n\u001b[1;32m     69\u001b[0m           \u001b[0mbatch\u001b[0m\u001b[0;34m[\u001b[0m\u001b[0mk\u001b[0m\u001b[0;34m]\u001b[0m \u001b[0;34m=\u001b[0m \u001b[0mbatch\u001b[0m\u001b[0;34m[\u001b[0m\u001b[0mk\u001b[0m\u001b[0;34m]\u001b[0m\u001b[0;34m.\u001b[0m\u001b[0mto\u001b[0m\u001b[0;34m(\u001b[0m\u001b[0mdevice\u001b[0m\u001b[0;34m=\u001b[0m\u001b[0mopt\u001b[0m\u001b[0;34m.\u001b[0m\u001b[0mdevice\u001b[0m\u001b[0;34m,\u001b[0m \u001b[0mnon_blocking\u001b[0m\u001b[0;34m=\u001b[0m\u001b[0;32mTrue\u001b[0m\u001b[0;34m)\u001b[0m\u001b[0;34m\u001b[0m\u001b[0;34m\u001b[0m\u001b[0m\n\u001b[0;32m---> 70\u001b[0;31m       \u001b[0moutput\u001b[0m\u001b[0;34m,\u001b[0m \u001b[0mloss\u001b[0m\u001b[0;34m,\u001b[0m \u001b[0mloss_stats\u001b[0m \u001b[0;34m=\u001b[0m \u001b[0mmodel_with_loss\u001b[0m\u001b[0;34m(\u001b[0m\u001b[0mbatch\u001b[0m\u001b[0;34m)\u001b[0m\u001b[0;34m\u001b[0m\u001b[0;34m\u001b[0m\u001b[0m\n\u001b[0m\u001b[1;32m     71\u001b[0m       \u001b[0mloss\u001b[0m \u001b[0;34m=\u001b[0m \u001b[0mloss\u001b[0m\u001b[0;34m.\u001b[0m\u001b[0mmean\u001b[0m\u001b[0;34m(\u001b[0m\u001b[0;34m)\u001b[0m\u001b[0;34m\u001b[0m\u001b[0;34m\u001b[0m\u001b[0m\n\u001b[1;32m     72\u001b[0m       \u001b[0;32mif\u001b[0m \u001b[0mphase\u001b[0m \u001b[0;34m==\u001b[0m \u001b[0;34m'train'\u001b[0m\u001b[0;34m:\u001b[0m\u001b[0;34m\u001b[0m\u001b[0;34m\u001b[0m\u001b[0m\n",
      "\u001b[0;32m~/anaconda3/envs/CenterNet/lib/python3.6/site-packages/torch/nn/modules/module.py\u001b[0m in \u001b[0;36m__call__\u001b[0;34m(self, *input, **kwargs)\u001b[0m\n\u001b[1;32m    475\u001b[0m             \u001b[0mresult\u001b[0m \u001b[0;34m=\u001b[0m \u001b[0mself\u001b[0m\u001b[0;34m.\u001b[0m\u001b[0m_slow_forward\u001b[0m\u001b[0;34m(\u001b[0m\u001b[0;34m*\u001b[0m\u001b[0minput\u001b[0m\u001b[0;34m,\u001b[0m \u001b[0;34m**\u001b[0m\u001b[0mkwargs\u001b[0m\u001b[0;34m)\u001b[0m\u001b[0;34m\u001b[0m\u001b[0;34m\u001b[0m\u001b[0m\n\u001b[1;32m    476\u001b[0m         \u001b[0;32melse\u001b[0m\u001b[0;34m:\u001b[0m\u001b[0;34m\u001b[0m\u001b[0;34m\u001b[0m\u001b[0m\n\u001b[0;32m--> 477\u001b[0;31m             \u001b[0mresult\u001b[0m \u001b[0;34m=\u001b[0m \u001b[0mself\u001b[0m\u001b[0;34m.\u001b[0m\u001b[0mforward\u001b[0m\u001b[0;34m(\u001b[0m\u001b[0;34m*\u001b[0m\u001b[0minput\u001b[0m\u001b[0;34m,\u001b[0m \u001b[0;34m**\u001b[0m\u001b[0mkwargs\u001b[0m\u001b[0;34m)\u001b[0m\u001b[0;34m\u001b[0m\u001b[0;34m\u001b[0m\u001b[0m\n\u001b[0m\u001b[1;32m    478\u001b[0m         \u001b[0;32mfor\u001b[0m \u001b[0mhook\u001b[0m \u001b[0;32min\u001b[0m \u001b[0mself\u001b[0m\u001b[0;34m.\u001b[0m\u001b[0m_forward_hooks\u001b[0m\u001b[0;34m.\u001b[0m\u001b[0mvalues\u001b[0m\u001b[0;34m(\u001b[0m\u001b[0;34m)\u001b[0m\u001b[0;34m:\u001b[0m\u001b[0;34m\u001b[0m\u001b[0;34m\u001b[0m\u001b[0m\n\u001b[1;32m    479\u001b[0m             \u001b[0mhook_result\u001b[0m \u001b[0;34m=\u001b[0m \u001b[0mhook\u001b[0m\u001b[0;34m(\u001b[0m\u001b[0mself\u001b[0m\u001b[0;34m,\u001b[0m \u001b[0minput\u001b[0m\u001b[0;34m,\u001b[0m \u001b[0mresult\u001b[0m\u001b[0;34m)\u001b[0m\u001b[0;34m\u001b[0m\u001b[0;34m\u001b[0m\u001b[0m\n",
      "\u001b[0;32m~/Project/RTM/src/lib/models/data_parallel.py\u001b[0m in \u001b[0;36mforward\u001b[0;34m(self, *inputs, **kwargs)\u001b[0m\n\u001b[1;32m     65\u001b[0m         \u001b[0;32mif\u001b[0m \u001b[0;32mnot\u001b[0m \u001b[0mself\u001b[0m\u001b[0;34m.\u001b[0m\u001b[0mdevice_ids\u001b[0m\u001b[0;34m:\u001b[0m\u001b[0;34m\u001b[0m\u001b[0;34m\u001b[0m\u001b[0m\n\u001b[1;32m     66\u001b[0m             \u001b[0;32mreturn\u001b[0m \u001b[0mself\u001b[0m\u001b[0;34m.\u001b[0m\u001b[0mmodule\u001b[0m\u001b[0;34m(\u001b[0m\u001b[0;34m*\u001b[0m\u001b[0minputs\u001b[0m\u001b[0;34m,\u001b[0m \u001b[0;34m**\u001b[0m\u001b[0mkwargs\u001b[0m\u001b[0;34m)\u001b[0m\u001b[0;34m\u001b[0m\u001b[0;34m\u001b[0m\u001b[0m\n\u001b[0;32m---> 67\u001b[0;31m         \u001b[0minputs\u001b[0m\u001b[0;34m,\u001b[0m \u001b[0mkwargs\u001b[0m \u001b[0;34m=\u001b[0m \u001b[0mself\u001b[0m\u001b[0;34m.\u001b[0m\u001b[0mscatter\u001b[0m\u001b[0;34m(\u001b[0m\u001b[0minputs\u001b[0m\u001b[0;34m,\u001b[0m \u001b[0mkwargs\u001b[0m\u001b[0;34m,\u001b[0m \u001b[0mself\u001b[0m\u001b[0;34m.\u001b[0m\u001b[0mdevice_ids\u001b[0m\u001b[0;34m,\u001b[0m \u001b[0mself\u001b[0m\u001b[0;34m.\u001b[0m\u001b[0mchunk_sizes\u001b[0m\u001b[0;34m)\u001b[0m\u001b[0;34m\u001b[0m\u001b[0;34m\u001b[0m\u001b[0m\n\u001b[0m\u001b[1;32m     68\u001b[0m         \u001b[0;32mif\u001b[0m \u001b[0mlen\u001b[0m\u001b[0;34m(\u001b[0m\u001b[0mself\u001b[0m\u001b[0;34m.\u001b[0m\u001b[0mdevice_ids\u001b[0m\u001b[0;34m)\u001b[0m \u001b[0;34m==\u001b[0m \u001b[0;36m1\u001b[0m\u001b[0;34m:\u001b[0m\u001b[0;34m\u001b[0m\u001b[0;34m\u001b[0m\u001b[0m\n\u001b[1;32m     69\u001b[0m             \u001b[0;32mreturn\u001b[0m \u001b[0mself\u001b[0m\u001b[0;34m.\u001b[0m\u001b[0mmodule\u001b[0m\u001b[0;34m(\u001b[0m\u001b[0;34m*\u001b[0m\u001b[0minputs\u001b[0m\u001b[0;34m[\u001b[0m\u001b[0;36m0\u001b[0m\u001b[0;34m]\u001b[0m\u001b[0;34m,\u001b[0m \u001b[0;34m**\u001b[0m\u001b[0mkwargs\u001b[0m\u001b[0;34m[\u001b[0m\u001b[0;36m0\u001b[0m\u001b[0;34m]\u001b[0m\u001b[0;34m)\u001b[0m\u001b[0;34m\u001b[0m\u001b[0;34m\u001b[0m\u001b[0m\n",
      "\u001b[0;32m~/Project/RTM/src/lib/models/data_parallel.py\u001b[0m in \u001b[0;36mscatter\u001b[0;34m(self, inputs, kwargs, device_ids, chunk_sizes)\u001b[0m\n\u001b[1;32m     76\u001b[0m \u001b[0;34m\u001b[0m\u001b[0m\n\u001b[1;32m     77\u001b[0m     \u001b[0;32mdef\u001b[0m \u001b[0mscatter\u001b[0m\u001b[0;34m(\u001b[0m\u001b[0mself\u001b[0m\u001b[0;34m,\u001b[0m \u001b[0minputs\u001b[0m\u001b[0;34m,\u001b[0m \u001b[0mkwargs\u001b[0m\u001b[0;34m,\u001b[0m \u001b[0mdevice_ids\u001b[0m\u001b[0;34m,\u001b[0m \u001b[0mchunk_sizes\u001b[0m\u001b[0;34m)\u001b[0m\u001b[0;34m:\u001b[0m\u001b[0;34m\u001b[0m\u001b[0;34m\u001b[0m\u001b[0m\n\u001b[0;32m---> 78\u001b[0;31m         \u001b[0;32mreturn\u001b[0m \u001b[0mscatter_kwargs\u001b[0m\u001b[0;34m(\u001b[0m\u001b[0minputs\u001b[0m\u001b[0;34m,\u001b[0m \u001b[0mkwargs\u001b[0m\u001b[0;34m,\u001b[0m \u001b[0mdevice_ids\u001b[0m\u001b[0;34m,\u001b[0m \u001b[0mdim\u001b[0m\u001b[0;34m=\u001b[0m\u001b[0mself\u001b[0m\u001b[0;34m.\u001b[0m\u001b[0mdim\u001b[0m\u001b[0;34m,\u001b[0m \u001b[0mchunk_sizes\u001b[0m\u001b[0;34m=\u001b[0m\u001b[0mself\u001b[0m\u001b[0;34m.\u001b[0m\u001b[0mchunk_sizes\u001b[0m\u001b[0;34m)\u001b[0m\u001b[0;34m\u001b[0m\u001b[0;34m\u001b[0m\u001b[0m\n\u001b[0m\u001b[1;32m     79\u001b[0m \u001b[0;34m\u001b[0m\u001b[0m\n\u001b[1;32m     80\u001b[0m     \u001b[0;32mdef\u001b[0m \u001b[0mparallel_apply\u001b[0m\u001b[0;34m(\u001b[0m\u001b[0mself\u001b[0m\u001b[0;34m,\u001b[0m \u001b[0mreplicas\u001b[0m\u001b[0;34m,\u001b[0m \u001b[0minputs\u001b[0m\u001b[0;34m,\u001b[0m \u001b[0mkwargs\u001b[0m\u001b[0;34m)\u001b[0m\u001b[0;34m:\u001b[0m\u001b[0;34m\u001b[0m\u001b[0;34m\u001b[0m\u001b[0m\n",
      "\u001b[0;32m~/Project/RTM/src/lib/models/scatter_gather.py\u001b[0m in \u001b[0;36mscatter_kwargs\u001b[0;34m(inputs, kwargs, target_gpus, dim, chunk_sizes)\u001b[0m\n\u001b[1;32m     28\u001b[0m \u001b[0;32mdef\u001b[0m \u001b[0mscatter_kwargs\u001b[0m\u001b[0;34m(\u001b[0m\u001b[0minputs\u001b[0m\u001b[0;34m,\u001b[0m \u001b[0mkwargs\u001b[0m\u001b[0;34m,\u001b[0m \u001b[0mtarget_gpus\u001b[0m\u001b[0;34m,\u001b[0m \u001b[0mdim\u001b[0m\u001b[0;34m=\u001b[0m\u001b[0;36m0\u001b[0m\u001b[0;34m,\u001b[0m \u001b[0mchunk_sizes\u001b[0m\u001b[0;34m=\u001b[0m\u001b[0;32mNone\u001b[0m\u001b[0;34m)\u001b[0m\u001b[0;34m:\u001b[0m\u001b[0;34m\u001b[0m\u001b[0;34m\u001b[0m\u001b[0m\n\u001b[1;32m     29\u001b[0m     \u001b[0;34mr\"\"\"Scatter with support for kwargs dictionary\"\"\"\u001b[0m\u001b[0;34m\u001b[0m\u001b[0;34m\u001b[0m\u001b[0m\n\u001b[0;32m---> 30\u001b[0;31m     \u001b[0minputs\u001b[0m \u001b[0;34m=\u001b[0m \u001b[0mscatter\u001b[0m\u001b[0;34m(\u001b[0m\u001b[0minputs\u001b[0m\u001b[0;34m,\u001b[0m \u001b[0mtarget_gpus\u001b[0m\u001b[0;34m,\u001b[0m \u001b[0mdim\u001b[0m\u001b[0;34m,\u001b[0m \u001b[0mchunk_sizes\u001b[0m\u001b[0;34m)\u001b[0m \u001b[0;32mif\u001b[0m \u001b[0minputs\u001b[0m \u001b[0;32melse\u001b[0m \u001b[0;34m[\u001b[0m\u001b[0;34m]\u001b[0m\u001b[0;34m\u001b[0m\u001b[0;34m\u001b[0m\u001b[0m\n\u001b[0m\u001b[1;32m     31\u001b[0m     \u001b[0mkwargs\u001b[0m \u001b[0;34m=\u001b[0m \u001b[0mscatter\u001b[0m\u001b[0;34m(\u001b[0m\u001b[0mkwargs\u001b[0m\u001b[0;34m,\u001b[0m \u001b[0mtarget_gpus\u001b[0m\u001b[0;34m,\u001b[0m \u001b[0mdim\u001b[0m\u001b[0;34m,\u001b[0m \u001b[0mchunk_sizes\u001b[0m\u001b[0;34m)\u001b[0m \u001b[0;32mif\u001b[0m \u001b[0mkwargs\u001b[0m \u001b[0;32melse\u001b[0m \u001b[0;34m[\u001b[0m\u001b[0;34m]\u001b[0m\u001b[0;34m\u001b[0m\u001b[0;34m\u001b[0m\u001b[0m\n\u001b[1;32m     32\u001b[0m     \u001b[0;32mif\u001b[0m \u001b[0mlen\u001b[0m\u001b[0;34m(\u001b[0m\u001b[0minputs\u001b[0m\u001b[0;34m)\u001b[0m \u001b[0;34m<\u001b[0m \u001b[0mlen\u001b[0m\u001b[0;34m(\u001b[0m\u001b[0mkwargs\u001b[0m\u001b[0;34m)\u001b[0m\u001b[0;34m:\u001b[0m\u001b[0;34m\u001b[0m\u001b[0;34m\u001b[0m\u001b[0m\n",
      "\u001b[0;32m~/Project/RTM/src/lib/models/scatter_gather.py\u001b[0m in \u001b[0;36mscatter\u001b[0;34m(inputs, target_gpus, dim, chunk_sizes)\u001b[0m\n\u001b[1;32m     23\u001b[0m         \u001b[0;32mreturn\u001b[0m \u001b[0;34m[\u001b[0m\u001b[0mobj\u001b[0m \u001b[0;32mfor\u001b[0m \u001b[0mtargets\u001b[0m \u001b[0;32min\u001b[0m \u001b[0mtarget_gpus\u001b[0m\u001b[0;34m]\u001b[0m\u001b[0;34m\u001b[0m\u001b[0;34m\u001b[0m\u001b[0m\n\u001b[1;32m     24\u001b[0m \u001b[0;34m\u001b[0m\u001b[0m\n\u001b[0;32m---> 25\u001b[0;31m     \u001b[0;32mreturn\u001b[0m \u001b[0mscatter_map\u001b[0m\u001b[0;34m(\u001b[0m\u001b[0minputs\u001b[0m\u001b[0;34m)\u001b[0m\u001b[0;34m\u001b[0m\u001b[0;34m\u001b[0m\u001b[0m\n\u001b[0m\u001b[1;32m     26\u001b[0m \u001b[0;34m\u001b[0m\u001b[0m\n\u001b[1;32m     27\u001b[0m \u001b[0;34m\u001b[0m\u001b[0m\n",
      "\u001b[0;32m~/Project/RTM/src/lib/models/scatter_gather.py\u001b[0m in \u001b[0;36mscatter_map\u001b[0;34m(obj)\u001b[0m\n\u001b[1;32m     16\u001b[0m         \u001b[0;32massert\u001b[0m \u001b[0;32mnot\u001b[0m \u001b[0mtorch\u001b[0m\u001b[0;34m.\u001b[0m\u001b[0mis_tensor\u001b[0m\u001b[0;34m(\u001b[0m\u001b[0mobj\u001b[0m\u001b[0;34m)\u001b[0m\u001b[0;34m,\u001b[0m \u001b[0;34m\"Tensors not supported in scatter.\"\u001b[0m\u001b[0;34m\u001b[0m\u001b[0;34m\u001b[0m\u001b[0m\n\u001b[1;32m     17\u001b[0m         \u001b[0;32mif\u001b[0m \u001b[0misinstance\u001b[0m\u001b[0;34m(\u001b[0m\u001b[0mobj\u001b[0m\u001b[0;34m,\u001b[0m \u001b[0mtuple\u001b[0m\u001b[0;34m)\u001b[0m\u001b[0;34m:\u001b[0m\u001b[0;34m\u001b[0m\u001b[0;34m\u001b[0m\u001b[0m\n\u001b[0;32m---> 18\u001b[0;31m             \u001b[0;32mreturn\u001b[0m \u001b[0mlist\u001b[0m\u001b[0;34m(\u001b[0m\u001b[0mzip\u001b[0m\u001b[0;34m(\u001b[0m\u001b[0;34m*\u001b[0m\u001b[0mmap\u001b[0m\u001b[0;34m(\u001b[0m\u001b[0mscatter_map\u001b[0m\u001b[0;34m,\u001b[0m \u001b[0mobj\u001b[0m\u001b[0;34m)\u001b[0m\u001b[0;34m)\u001b[0m\u001b[0;34m)\u001b[0m\u001b[0;34m\u001b[0m\u001b[0;34m\u001b[0m\u001b[0m\n\u001b[0m\u001b[1;32m     19\u001b[0m         \u001b[0;32mif\u001b[0m \u001b[0misinstance\u001b[0m\u001b[0;34m(\u001b[0m\u001b[0mobj\u001b[0m\u001b[0;34m,\u001b[0m \u001b[0mlist\u001b[0m\u001b[0;34m)\u001b[0m\u001b[0;34m:\u001b[0m\u001b[0;34m\u001b[0m\u001b[0;34m\u001b[0m\u001b[0m\n\u001b[1;32m     20\u001b[0m             \u001b[0;32mreturn\u001b[0m \u001b[0mlist\u001b[0m\u001b[0;34m(\u001b[0m\u001b[0mmap\u001b[0m\u001b[0;34m(\u001b[0m\u001b[0mlist\u001b[0m\u001b[0;34m,\u001b[0m \u001b[0mzip\u001b[0m\u001b[0;34m(\u001b[0m\u001b[0;34m*\u001b[0m\u001b[0mmap\u001b[0m\u001b[0;34m(\u001b[0m\u001b[0mscatter_map\u001b[0m\u001b[0;34m,\u001b[0m \u001b[0mobj\u001b[0m\u001b[0;34m)\u001b[0m\u001b[0;34m)\u001b[0m\u001b[0;34m)\u001b[0m\u001b[0;34m)\u001b[0m\u001b[0;34m\u001b[0m\u001b[0;34m\u001b[0m\u001b[0m\n",
      "\u001b[0;32m~/Project/RTM/src/lib/models/scatter_gather.py\u001b[0m in \u001b[0;36mscatter_map\u001b[0;34m(obj)\u001b[0m\n\u001b[1;32m     20\u001b[0m             \u001b[0;32mreturn\u001b[0m \u001b[0mlist\u001b[0m\u001b[0;34m(\u001b[0m\u001b[0mmap\u001b[0m\u001b[0;34m(\u001b[0m\u001b[0mlist\u001b[0m\u001b[0;34m,\u001b[0m \u001b[0mzip\u001b[0m\u001b[0;34m(\u001b[0m\u001b[0;34m*\u001b[0m\u001b[0mmap\u001b[0m\u001b[0;34m(\u001b[0m\u001b[0mscatter_map\u001b[0m\u001b[0;34m,\u001b[0m \u001b[0mobj\u001b[0m\u001b[0;34m)\u001b[0m\u001b[0;34m)\u001b[0m\u001b[0;34m)\u001b[0m\u001b[0;34m)\u001b[0m\u001b[0;34m\u001b[0m\u001b[0;34m\u001b[0m\u001b[0m\n\u001b[1;32m     21\u001b[0m         \u001b[0;32mif\u001b[0m \u001b[0misinstance\u001b[0m\u001b[0;34m(\u001b[0m\u001b[0mobj\u001b[0m\u001b[0;34m,\u001b[0m \u001b[0mdict\u001b[0m\u001b[0;34m)\u001b[0m\u001b[0;34m:\u001b[0m\u001b[0;34m\u001b[0m\u001b[0;34m\u001b[0m\u001b[0m\n\u001b[0;32m---> 22\u001b[0;31m             \u001b[0;32mreturn\u001b[0m \u001b[0mlist\u001b[0m\u001b[0;34m(\u001b[0m\u001b[0mmap\u001b[0m\u001b[0;34m(\u001b[0m\u001b[0mtype\u001b[0m\u001b[0;34m(\u001b[0m\u001b[0mobj\u001b[0m\u001b[0;34m)\u001b[0m\u001b[0;34m,\u001b[0m \u001b[0mzip\u001b[0m\u001b[0;34m(\u001b[0m\u001b[0;34m*\u001b[0m\u001b[0mmap\u001b[0m\u001b[0;34m(\u001b[0m\u001b[0mscatter_map\u001b[0m\u001b[0;34m,\u001b[0m \u001b[0mobj\u001b[0m\u001b[0;34m.\u001b[0m\u001b[0mitems\u001b[0m\u001b[0;34m(\u001b[0m\u001b[0;34m)\u001b[0m\u001b[0;34m)\u001b[0m\u001b[0;34m)\u001b[0m\u001b[0;34m)\u001b[0m\u001b[0;34m)\u001b[0m\u001b[0;34m\u001b[0m\u001b[0;34m\u001b[0m\u001b[0m\n\u001b[0m\u001b[1;32m     23\u001b[0m         \u001b[0;32mreturn\u001b[0m \u001b[0;34m[\u001b[0m\u001b[0mobj\u001b[0m \u001b[0;32mfor\u001b[0m \u001b[0mtargets\u001b[0m \u001b[0;32min\u001b[0m \u001b[0mtarget_gpus\u001b[0m\u001b[0;34m]\u001b[0m\u001b[0;34m\u001b[0m\u001b[0;34m\u001b[0m\u001b[0m\n\u001b[1;32m     24\u001b[0m \u001b[0;34m\u001b[0m\u001b[0m\n",
      "\u001b[0;32m~/Project/RTM/src/lib/models/scatter_gather.py\u001b[0m in \u001b[0;36mscatter_map\u001b[0;34m(obj)\u001b[0m\n\u001b[1;32m     16\u001b[0m         \u001b[0;32massert\u001b[0m \u001b[0;32mnot\u001b[0m \u001b[0mtorch\u001b[0m\u001b[0;34m.\u001b[0m\u001b[0mis_tensor\u001b[0m\u001b[0;34m(\u001b[0m\u001b[0mobj\u001b[0m\u001b[0;34m)\u001b[0m\u001b[0;34m,\u001b[0m \u001b[0;34m\"Tensors not supported in scatter.\"\u001b[0m\u001b[0;34m\u001b[0m\u001b[0;34m\u001b[0m\u001b[0m\n\u001b[1;32m     17\u001b[0m         \u001b[0;32mif\u001b[0m \u001b[0misinstance\u001b[0m\u001b[0;34m(\u001b[0m\u001b[0mobj\u001b[0m\u001b[0;34m,\u001b[0m \u001b[0mtuple\u001b[0m\u001b[0;34m)\u001b[0m\u001b[0;34m:\u001b[0m\u001b[0;34m\u001b[0m\u001b[0;34m\u001b[0m\u001b[0m\n\u001b[0;32m---> 18\u001b[0;31m             \u001b[0;32mreturn\u001b[0m \u001b[0mlist\u001b[0m\u001b[0;34m(\u001b[0m\u001b[0mzip\u001b[0m\u001b[0;34m(\u001b[0m\u001b[0;34m*\u001b[0m\u001b[0mmap\u001b[0m\u001b[0;34m(\u001b[0m\u001b[0mscatter_map\u001b[0m\u001b[0;34m,\u001b[0m \u001b[0mobj\u001b[0m\u001b[0;34m)\u001b[0m\u001b[0;34m)\u001b[0m\u001b[0;34m)\u001b[0m\u001b[0;34m\u001b[0m\u001b[0;34m\u001b[0m\u001b[0m\n\u001b[0m\u001b[1;32m     19\u001b[0m         \u001b[0;32mif\u001b[0m \u001b[0misinstance\u001b[0m\u001b[0;34m(\u001b[0m\u001b[0mobj\u001b[0m\u001b[0;34m,\u001b[0m \u001b[0mlist\u001b[0m\u001b[0;34m)\u001b[0m\u001b[0;34m:\u001b[0m\u001b[0;34m\u001b[0m\u001b[0;34m\u001b[0m\u001b[0m\n\u001b[1;32m     20\u001b[0m             \u001b[0;32mreturn\u001b[0m \u001b[0mlist\u001b[0m\u001b[0;34m(\u001b[0m\u001b[0mmap\u001b[0m\u001b[0;34m(\u001b[0m\u001b[0mlist\u001b[0m\u001b[0;34m,\u001b[0m \u001b[0mzip\u001b[0m\u001b[0;34m(\u001b[0m\u001b[0;34m*\u001b[0m\u001b[0mmap\u001b[0m\u001b[0;34m(\u001b[0m\u001b[0mscatter_map\u001b[0m\u001b[0;34m,\u001b[0m \u001b[0mobj\u001b[0m\u001b[0;34m)\u001b[0m\u001b[0;34m)\u001b[0m\u001b[0;34m)\u001b[0m\u001b[0;34m)\u001b[0m\u001b[0;34m\u001b[0m\u001b[0;34m\u001b[0m\u001b[0m\n",
      "\u001b[0;32m~/Project/RTM/src/lib/models/scatter_gather.py\u001b[0m in \u001b[0;36mscatter_map\u001b[0;34m(obj)\u001b[0m\n\u001b[1;32m     13\u001b[0m     \u001b[0;32mdef\u001b[0m \u001b[0mscatter_map\u001b[0m\u001b[0;34m(\u001b[0m\u001b[0mobj\u001b[0m\u001b[0;34m)\u001b[0m\u001b[0;34m:\u001b[0m\u001b[0;34m\u001b[0m\u001b[0;34m\u001b[0m\u001b[0m\n\u001b[1;32m     14\u001b[0m         \u001b[0;32mif\u001b[0m \u001b[0misinstance\u001b[0m\u001b[0;34m(\u001b[0m\u001b[0mobj\u001b[0m\u001b[0;34m,\u001b[0m \u001b[0mVariable\u001b[0m\u001b[0;34m)\u001b[0m\u001b[0;34m:\u001b[0m\u001b[0;34m\u001b[0m\u001b[0;34m\u001b[0m\u001b[0m\n\u001b[0;32m---> 15\u001b[0;31m             \u001b[0;32mreturn\u001b[0m \u001b[0mScatter\u001b[0m\u001b[0;34m.\u001b[0m\u001b[0mapply\u001b[0m\u001b[0;34m(\u001b[0m\u001b[0mtarget_gpus\u001b[0m\u001b[0;34m,\u001b[0m \u001b[0mchunk_sizes\u001b[0m\u001b[0;34m,\u001b[0m \u001b[0mdim\u001b[0m\u001b[0;34m,\u001b[0m \u001b[0mobj\u001b[0m\u001b[0;34m)\u001b[0m\u001b[0;34m\u001b[0m\u001b[0;34m\u001b[0m\u001b[0m\n\u001b[0m\u001b[1;32m     16\u001b[0m         \u001b[0;32massert\u001b[0m \u001b[0;32mnot\u001b[0m \u001b[0mtorch\u001b[0m\u001b[0;34m.\u001b[0m\u001b[0mis_tensor\u001b[0m\u001b[0;34m(\u001b[0m\u001b[0mobj\u001b[0m\u001b[0;34m)\u001b[0m\u001b[0;34m,\u001b[0m \u001b[0;34m\"Tensors not supported in scatter.\"\u001b[0m\u001b[0;34m\u001b[0m\u001b[0;34m\u001b[0m\u001b[0m\n\u001b[1;32m     17\u001b[0m         \u001b[0;32mif\u001b[0m \u001b[0misinstance\u001b[0m\u001b[0;34m(\u001b[0m\u001b[0mobj\u001b[0m\u001b[0;34m,\u001b[0m \u001b[0mtuple\u001b[0m\u001b[0;34m)\u001b[0m\u001b[0;34m:\u001b[0m\u001b[0;34m\u001b[0m\u001b[0;34m\u001b[0m\u001b[0m\n",
      "\u001b[0;32m~/anaconda3/envs/CenterNet/lib/python3.6/site-packages/torch/nn/parallel/_functions.py\u001b[0m in \u001b[0;36mforward\u001b[0;34m(ctx, target_gpus, chunk_sizes, dim, input)\u001b[0m\n\u001b[1;32m     85\u001b[0m             \u001b[0;31m# Perform CPU to GPU copies in a background stream\u001b[0m\u001b[0;34m\u001b[0m\u001b[0;34m\u001b[0m\u001b[0;34m\u001b[0m\u001b[0m\n\u001b[1;32m     86\u001b[0m             \u001b[0mstreams\u001b[0m \u001b[0;34m=\u001b[0m \u001b[0;34m[\u001b[0m\u001b[0m_get_stream\u001b[0m\u001b[0;34m(\u001b[0m\u001b[0mdevice\u001b[0m\u001b[0;34m)\u001b[0m \u001b[0;32mfor\u001b[0m \u001b[0mdevice\u001b[0m \u001b[0;32min\u001b[0m \u001b[0mctx\u001b[0m\u001b[0;34m.\u001b[0m\u001b[0mtarget_gpus\u001b[0m\u001b[0;34m]\u001b[0m\u001b[0;34m\u001b[0m\u001b[0;34m\u001b[0m\u001b[0m\n\u001b[0;32m---> 87\u001b[0;31m         \u001b[0moutputs\u001b[0m \u001b[0;34m=\u001b[0m \u001b[0mcomm\u001b[0m\u001b[0;34m.\u001b[0m\u001b[0mscatter\u001b[0m\u001b[0;34m(\u001b[0m\u001b[0minput\u001b[0m\u001b[0;34m,\u001b[0m \u001b[0mctx\u001b[0m\u001b[0;34m.\u001b[0m\u001b[0mtarget_gpus\u001b[0m\u001b[0;34m,\u001b[0m \u001b[0mctx\u001b[0m\u001b[0;34m.\u001b[0m\u001b[0mchunk_sizes\u001b[0m\u001b[0;34m,\u001b[0m \u001b[0mctx\u001b[0m\u001b[0;34m.\u001b[0m\u001b[0mdim\u001b[0m\u001b[0;34m,\u001b[0m \u001b[0mstreams\u001b[0m\u001b[0;34m)\u001b[0m\u001b[0;34m\u001b[0m\u001b[0;34m\u001b[0m\u001b[0m\n\u001b[0m\u001b[1;32m     88\u001b[0m         \u001b[0;31m# Synchronize with the copy stream\u001b[0m\u001b[0;34m\u001b[0m\u001b[0;34m\u001b[0m\u001b[0;34m\u001b[0m\u001b[0m\n\u001b[1;32m     89\u001b[0m         \u001b[0;32mif\u001b[0m \u001b[0mstreams\u001b[0m \u001b[0;32mis\u001b[0m \u001b[0;32mnot\u001b[0m \u001b[0;32mNone\u001b[0m\u001b[0;34m:\u001b[0m\u001b[0;34m\u001b[0m\u001b[0;34m\u001b[0m\u001b[0m\n",
      "\u001b[0;32m~/anaconda3/envs/CenterNet/lib/python3.6/site-packages/torch/cuda/comm.py\u001b[0m in \u001b[0;36mscatter\u001b[0;34m(tensor, devices, chunk_sizes, dim, streams)\u001b[0m\n\u001b[1;32m    140\u001b[0m         \u001b[0;31m`\u001b[0m\u001b[0;31m`\u001b[0m\u001b[0mdevices\u001b[0m\u001b[0;31m`\u001b[0m\u001b[0;31m`\u001b[0m\u001b[0;34m.\u001b[0m\u001b[0;34m\u001b[0m\u001b[0;34m\u001b[0m\u001b[0m\n\u001b[1;32m    141\u001b[0m     \"\"\"\n\u001b[0;32m--> 142\u001b[0;31m     \u001b[0;32mreturn\u001b[0m \u001b[0mtuple\u001b[0m\u001b[0;34m(\u001b[0m\u001b[0mtorch\u001b[0m\u001b[0;34m.\u001b[0m\u001b[0m_C\u001b[0m\u001b[0;34m.\u001b[0m\u001b[0m_scatter\u001b[0m\u001b[0;34m(\u001b[0m\u001b[0mtensor\u001b[0m\u001b[0;34m,\u001b[0m \u001b[0mdevices\u001b[0m\u001b[0;34m,\u001b[0m \u001b[0mchunk_sizes\u001b[0m\u001b[0;34m,\u001b[0m \u001b[0mdim\u001b[0m\u001b[0;34m,\u001b[0m \u001b[0mstreams\u001b[0m\u001b[0;34m)\u001b[0m\u001b[0;34m)\u001b[0m\u001b[0;34m\u001b[0m\u001b[0;34m\u001b[0m\u001b[0m\n\u001b[0m\u001b[1;32m    143\u001b[0m \u001b[0;34m\u001b[0m\u001b[0m\n\u001b[1;32m    144\u001b[0m \u001b[0;34m\u001b[0m\u001b[0m\n",
      "\u001b[0;31mRuntimeError\u001b[0m: CUDA error (10): invalid device ordinal (check_status at /opt/conda/conda-bld/pytorch_1535491974311/work/aten/src/ATen/cuda/detail/CUDAHooks.cpp:36)\nframe #0: torch::cuda::scatter(at::Tensor const&, at::ArrayRef<long>, at::optional<std::vector<long, std::allocator<long> > > const&, long, at::optional<std::vector<CUDAStreamInternals*, std::allocator<CUDAStreamInternals*> > > const&) + 0x4e1 (0x7f14da863871 in /home/kaixin1/anaconda3/envs/CenterNet/lib/python3.6/site-packages/torch/_C.cpython-36m-x86_64-linux-gnu.so)\nframe #1: <unknown function> + 0xc42a0b (0x7f14da86ba0b in /home/kaixin1/anaconda3/envs/CenterNet/lib/python3.6/site-packages/torch/_C.cpython-36m-x86_64-linux-gnu.so)\nframe #2: <unknown function> + 0x38a5cb (0x7f14d9fb35cb in /home/kaixin1/anaconda3/envs/CenterNet/lib/python3.6/site-packages/torch/_C.cpython-36m-x86_64-linux-gnu.so)\nframe #3: _PyCFunction_FastCallDict + 0x154 (0x55962670d4f4 in /home/kaixin1/anaconda3/envs/CenterNet/bin/python)\nframe #4: <unknown function> + 0x198dac (0x559626794dac in /home/kaixin1/anaconda3/envs/CenterNet/bin/python)\nframe #5: _PyEval_EvalFrameDefault + 0x30a (0x5596267b766a in /home/kaixin1/anaconda3/envs/CenterNet/bin/python)\nframe #6: <unknown function> + 0x192274 (0x55962678e274 in /home/kaixin1/anaconda3/envs/CenterNet/bin/python)\nframe #7: <unknown function> + 0x1930f1 (0x55962678f0f1 in /home/kaixin1/anaconda3/envs/CenterNet/bin/python)\nframe #8: <unknown function> + 0x198e85 (0x559626794e85 in /home/kaixin1/anaconda3/envs/CenterNet/bin/python)\nframe #9: _PyEval_EvalFrameDefault + 0x30a (0x5596267b766a in /home/kaixin1/anaconda3/envs/CenterNet/bin/python)\nframe #10: PyEval_EvalCodeEx + 0x329 (0x55962678fc09 in /home/kaixin1/anaconda3/envs/CenterNet/bin/python)\nframe #11: <unknown function> + 0x194a24 (0x559626790a24 in /home/kaixin1/anaconda3/envs/CenterNet/bin/python)\nframe #12: PyObject_Call + 0x3e (0x55962670d2fe in /home/kaixin1/anaconda3/envs/CenterNet/bin/python)\nframe #13: THPFunction_apply(_object*, _object*) + 0x38f (0x7f14da391a2f in /home/kaixin1/anaconda3/envs/CenterNet/lib/python3.6/site-packages/torch/_C.cpython-36m-x86_64-linux-gnu.so)\nframe #14: _PyCFunction_FastCallDict + 0x91 (0x55962670d431 in /home/kaixin1/anaconda3/envs/CenterNet/bin/python)\nframe #15: <unknown function> + 0x198dac (0x559626794dac in /home/kaixin1/anaconda3/envs/CenterNet/bin/python)\nframe #16: _PyEval_EvalFrameDefault + 0x30a (0x5596267b766a in /home/kaixin1/anaconda3/envs/CenterNet/bin/python)\nframe #17: <unknown function> + 0x19257e (0x55962678e57e in /home/kaixin1/anaconda3/envs/CenterNet/bin/python)\nframe #18: _PyFunction_FastCallDict + 0x1be (0x55962678f5ce in /home/kaixin1/anaconda3/envs/CenterNet/bin/python)\nframe #19: _PyObject_FastCallDict + 0x26f (0x55962670d8bf in /home/kaixin1/anaconda3/envs/CenterNet/bin/python)\nframe #20: <unknown function> + 0x12cf22 (0x559626728f22 in /home/kaixin1/anaconda3/envs/CenterNet/bin/python)\nframe #21: PyIter_Next + 0xe (0x55962674f4ae in /home/kaixin1/anaconda3/envs/CenterNet/bin/python)\nframe #22: PySequence_Tuple + 0x1f5 (0x559626753fc5 in /home/kaixin1/anaconda3/envs/CenterNet/bin/python)\nframe #23: _PyEval_EvalFrameDefault + 0x545f (0x5596267bc7bf in /home/kaixin1/anaconda3/envs/CenterNet/bin/python)\nframe #24: <unknown function> + 0x19257e (0x55962678e57e in /home/kaixin1/anaconda3/envs/CenterNet/bin/python)\nframe #25: _PyFunction_FastCallDict + 0x1be (0x55962678f5ce in /home/kaixin1/anaconda3/envs/CenterNet/bin/python)\nframe #26: _PyObject_FastCallDict + 0x26f (0x55962670d8bf in /home/kaixin1/anaconda3/envs/CenterNet/bin/python)\nframe #27: <unknown function> + 0x12cf22 (0x559626728f22 in /home/kaixin1/anaconda3/envs/CenterNet/bin/python)\nframe #28: PyIter_Next + 0xe (0x55962674f4ae in /home/kaixin1/anaconda3/envs/CenterNet/bin/python)\nframe #29: PySequence_Tuple + 0xf9 (0x559626753ec9 in /home/kaixin1/anaconda3/envs/CenterNet/bin/python)\nframe #30: _PyEval_EvalFrameDefault + 0x545f (0x5596267bc7bf in /home/kaixin1/anaconda3/envs/CenterNet/bin/python)\nframe #31: <unknown function> + 0x19257e (0x55962678e57e in /home/kaixin1/anaconda3/envs/CenterNet/bin/python)\nframe #32: _PyFunction_FastCallDict + 0x1be (0x55962678f5ce in /home/kaixin1/anaconda3/envs/CenterNet/bin/python)\nframe #33: _PyObject_FastCallDict + 0x26f (0x55962670d8bf in /home/kaixin1/anaconda3/envs/CenterNet/bin/python)\nframe #34: <unknown function> + 0x12cf22 (0x559626728f22 in /home/kaixin1/anaconda3/envs/CenterNet/bin/python)\nframe #35: PyIter_Next + 0xe (0x55962674f4ae in /home/kaixin1/anaconda3/envs/CenterNet/bin/python)\nframe #36: PySequence_Tuple + 0xf9 (0x559626753ec9 in /home/kaixin1/anaconda3/envs/CenterNet/bin/python)\nframe #37: _PyEval_EvalFrameDefault + 0x545f (0x5596267bc7bf in /home/kaixin1/anaconda3/envs/CenterNet/bin/python)\nframe #38: <unknown function> + 0x19257e (0x55962678e57e in /home/kaixin1/anaconda3/envs/CenterNet/bin/python)\nframe #39: <unknown function> + 0x1930f1 (0x55962678f0f1 in /home/kaixin1/anaconda3/envs/CenterNet/bin/python)\nframe #40: <unknown function> + 0x198e85 (0x559626794e85 in /home/kaixin1/anaconda3/envs/CenterNet/bin/python)\nframe #41: _PyEval_EvalFrameDefault + 0x30a (0x5596267b766a in /home/kaixin1/anaconda3/envs/CenterNet/bin/python)\nframe #42: <unknown function> + 0x19257e (0x55962678e57e in /home/kaixin1/anaconda3/envs/CenterNet/bin/python)\nframe #43: <unknown function> + 0x1930f1 (0x55962678f0f1 in /home/kaixin1/anaconda3/envs/CenterNet/bin/python)\nframe #44: <unknown function> + 0x198e85 (0x559626794e85 in /home/kaixin1/anaconda3/envs/CenterNet/bin/python)\nframe #45: _PyEval_EvalFrameDefault + 0x30a (0x5596267b766a in /home/kaixin1/anaconda3/envs/CenterNet/bin/python)\nframe #46: <unknown function> + 0x192274 (0x55962678e274 in /home/kaixin1/anaconda3/envs/CenterNet/bin/python)\nframe #47: <unknown function> + 0x1930f1 (0x55962678f0f1 in /home/kaixin1/anaconda3/envs/CenterNet/bin/python)\nframe #48: <unknown function> + 0x198e85 (0x559626794e85 in /home/kaixin1/anaconda3/envs/CenterNet/bin/python)\nframe #49: _PyEval_EvalFrameDefault + 0x10c8 (0x5596267b8428 in /home/kaixin1/anaconda3/envs/CenterNet/bin/python)\nframe #50: <unknown function> + 0x192ebb (0x55962678eebb in /home/kaixin1/anaconda3/envs/CenterNet/bin/python)\nframe #51: <unknown function> + 0x198e85 (0x559626794e85 in /home/kaixin1/anaconda3/envs/CenterNet/bin/python)\nframe #52: _PyEval_EvalFrameDefault + 0x30a (0x5596267b766a in /home/kaixin1/anaconda3/envs/CenterNet/bin/python)\nframe #53: <unknown function> + 0x192274 (0x55962678e274 in /home/kaixin1/anaconda3/envs/CenterNet/bin/python)\nframe #54: _PyFunction_FastCallDict + 0x3d8 (0x55962678f7e8 in /home/kaixin1/anaconda3/envs/CenterNet/bin/python)\nframe #55: _PyObject_FastCallDict + 0x26f (0x55962670d8bf in /home/kaixin1/anaconda3/envs/CenterNet/bin/python)\nframe #56: _PyObject_Call_Prepend + 0x63 (0x559626712313 in /home/kaixin1/anaconda3/envs/CenterNet/bin/python)\nframe #57: PyObject_Call + 0x3e (0x55962670d2fe in /home/kaixin1/anaconda3/envs/CenterNet/bin/python)\nframe #58: _PyEval_EvalFrameDefault + 0x1998 (0x5596267b8cf8 in /home/kaixin1/anaconda3/envs/CenterNet/bin/python)\nframe #59: <unknown function> + 0x192274 (0x55962678e274 in /home/kaixin1/anaconda3/envs/CenterNet/bin/python)\nframe #60: _PyFunction_FastCallDict + 0x1be (0x55962678f5ce in /home/kaixin1/anaconda3/envs/CenterNet/bin/python)\nframe #61: _PyObject_FastCallDict + 0x26f (0x55962670d8bf in /home/kaixin1/anaconda3/envs/CenterNet/bin/python)\nframe #62: _PyObject_Call_Prepend + 0x63 (0x559626712313 in /home/kaixin1/anaconda3/envs/CenterNet/bin/python)\nframe #63: PyObject_Call + 0x3e (0x55962670d2fe in /home/kaixin1/anaconda3/envs/CenterNet/bin/python)\n"
     ]
    }
   ],
   "source": [
    "print('Starting training...')\n",
    "best = 1e10\n",
    "for epoch in range(start_epoch + 1, opt.num_epochs + 1):\n",
    "    mark = epoch if opt.save_all else 'last'\n",
    "    print(\"go epoch:\",epoch)\n",
    "    log_dict_train, _ = trainer.train(epoch, train_loader)\n",
    "    print(\"go out\",epoch)\n",
    "    logger.write('epoch: {} |'.format(epoch))\n",
    "    for k, v in log_dict_train.items():\n",
    "      logger.scalar_summary('train_{}'.format(k), v, epoch)\n",
    "      logger.write('{} {:8f} | '.format(k, v))\n",
    "    if opt.val_intervals > 0 and epoch % opt.val_intervals == 0:\n",
    "      save_model(os.path.join(opt.save_dir, 'model_{}.pth'.format(mark)), \n",
    "                 epoch, model, optimizer)\n",
    "      with torch.no_grad():\n",
    "        log_dict_val, preds = trainer.val(epoch, val_loader)\n",
    "      for k, v in log_dict_val.items():\n",
    "        logger.scalar_summary('val_{}'.format(k), v, epoch)\n",
    "        logger.write('{} {:8f} | '.format(k, v))\n",
    "      if log_dict_val[opt.metric] < best:\n",
    "        best = log_dict_val[opt.metric]\n",
    "        save_model(os.path.join(opt.save_dir, 'model_best.pth'), \n",
    "                   epoch, model)\n",
    "    else:\n",
    "      save_model(os.path.join(opt.save_dir, 'model_last.pth'), \n",
    "                 epoch, model, optimizer)\n",
    "    logger.write('\\n')\n",
    "    if epoch in opt.lr_step:\n",
    "      save_model(os.path.join(opt.save_dir, 'model_{}.pth'.format(epoch)), \n",
    "                 epoch, model, optimizer)\n",
    "      lr = opt.lr * (0.1 ** (opt.lr_step.index(epoch) + 1))\n",
    "      print('Drop LR to', lr)\n",
    "      for param_group in optimizer.param_groups:\n",
    "          param_group['lr'] = lr\n",
    "    logger.close()"
   ]
  },
  {
   "cell_type": "code",
   "execution_count": null,
   "metadata": {},
   "outputs": [],
   "source": [
    "self = Dataset(opt, 'val')"
   ]
  },
  {
   "cell_type": "code",
   "execution_count": null,
   "metadata": {},
   "outputs": [],
   "source": [
    "import torch.utils.data as data\n",
    "import pycocotools.coco as coco\n",
    "import numpy as np\n",
    "import torch\n",
    "import json\n",
    "import cv2\n",
    "import os\n",
    "import math\n",
    "from utils.image import flip, color_aug\n",
    "from utils.image import get_affine_transform, affine_transform\n",
    "from utils.image import gaussian_radius, draw_umich_gaussian, draw_msra_gaussian\n",
    "import pycocotools.coco as coco"
   ]
  },
  {
   "cell_type": "code",
   "execution_count": null,
   "metadata": {},
   "outputs": [],
   "source": [
    "index = 0\n",
    "img_id = self.images[index]\n",
    "img_info = self.coco.loadImgs(ids=[img_id])[0]\n",
    "img_path = os.path.join(self.img_dir, img_info['file_name'])\n",
    "img = cv2.imread(img_path)\n",
    "if 'calib' in img_info:\n",
    "  calib = np.array(img_info['calib'], dtype=np.float32)\n",
    "else:\n",
    "  calib = self.calib"
   ]
  },
  {
   "cell_type": "code",
   "execution_count": null,
   "metadata": {},
   "outputs": [],
   "source": [
    "height, width = img.shape[0], img.shape[1]\n",
    "c = np.array([img.shape[1] / 2., img.shape[0] / 2.])\n",
    "if self.opt.keep_res:\n",
    "  s = np.array([self.opt.input_w, self.opt.input_h], dtype=np.int32)\n",
    "else:\n",
    "  s = np.array([width, height], dtype=np.int32)\n",
    "\n",
    "aug = False\n",
    "if self.split == 'train' and np.random.random() < self.opt.aug_ddd:\n",
    "  aug = True\n",
    "  sf = self.opt.scale\n",
    "  cf = self.opt.shift\n",
    "  s = s * np.clip(np.random.randn()*sf + 1, 1 - sf, 1 + sf)\n",
    "  c[0] += img.shape[1] * np.clip(np.random.randn()*cf, -2*cf, 2*cf)\n",
    "  c[1] += img.shape[0] * np.clip(np.random.randn()*cf, -2*cf, 2*cf)\n",
    "\n",
    "trans_input = get_affine_transform(\n",
    "  c, s, 0, [self.opt.input_w, self.opt.input_h])\n",
    "inp = cv2.warpAffine(img, trans_input, \n",
    "                     (self.opt.input_w, self.opt.input_h),\n",
    "                     flags=cv2.INTER_LINEAR)\n",
    "inp = (inp.astype(np.float32) / 255.)\n",
    "# if self.split == 'train' and not self.opt.no_color_aug:\n",
    "#   color_aug(self._data_rng, inp, self._eig_val, self._eig_vec)\n",
    "inp = (inp - self.mean) / self.std\n",
    "inp = inp.transpose(2, 0, 1)\n",
    "\n",
    "num_classes = self.opt.num_classes\n",
    "trans_output = get_affine_transform(\n",
    "  c, s, 0, [self.opt.output_w, self.opt.output_h])\n",
    "\n",
    "hm = np.zeros(\n",
    "  (num_classes, self.opt.output_h, self.opt.output_w), dtype=np.float32)\n",
    "wh = np.zeros((self.max_objs, 2), dtype=np.float32)\n",
    "reg = np.zeros((self.max_objs, 2), dtype=np.float32)\n",
    "dep = np.zeros((self.max_objs, 1), dtype=np.float32)\n",
    "rotbin = np.zeros((self.max_objs, 2), dtype=np.int64)\n",
    "rotres = np.zeros((self.max_objs, 2), dtype=np.float32)\n",
    "dim = np.zeros((self.max_objs, 3), dtype=np.float32)\n",
    "ind = np.zeros((self.max_objs), dtype=np.int64)\n",
    "reg_mask = np.zeros((self.max_objs), dtype=np.uint8)\n",
    "rot_mask = np.zeros((self.max_objs), dtype=np.uint8)\n",
    "\n",
    "ann_ids = self.coco.getAnnIds(imgIds=[img_id])\n",
    "anns = self.coco.loadAnns(ids=ann_ids)\n",
    "num_objs = min(len(anns), self.max_objs)\n",
    "draw_gaussian = draw_msra_gaussian if self.opt.mse_loss else \\\n",
    "                draw_umich_gaussian\n",
    "gt_det = []\n"
   ]
  },
  {
   "cell_type": "code",
   "execution_count": null,
   "metadata": {},
   "outputs": [],
   "source": [
    "??draw_gaussian"
   ]
  },
  {
   "cell_type": "code",
   "execution_count": null,
   "metadata": {},
   "outputs": [],
   "source": [
    "for k in range(num_objs):\n",
    "      ann = anns[k]\n",
    "      bbox = self._coco_box_to_bbox(ann['bbox'])\n",
    "      cls_id = int(self.cat_ids[ann['category_id']])\n",
    "      if cls_id <= -99:\n",
    "        continue\n",
    "      # if flipped:\n",
    "      #   bbox[[0, 2]] = width - bbox[[2, 0]] - 1\n",
    "      bbox[:2] = affine_transform(bbox[:2], trans_output)\n",
    "      bbox[2:] = affine_transform(bbox[2:], trans_output)\n",
    "      bbox[[0, 2]] = np.clip(bbox[[0, 2]], 0, self.opt.output_w - 1)\n",
    "      bbox[[1, 3]] = np.clip(bbox[[1, 3]], 0, self.opt.output_h - 1)\n",
    "      h, w = bbox[3] - bbox[1], bbox[2] - bbox[0]\n",
    "      if h > 0 and w > 0:\n",
    "        radius = gaussian_radius((h, w))\n",
    "        radius = max(0, int(radius))\n",
    "        ct = np.array(\n",
    "          [(bbox[0] + bbox[2]) / 2, (bbox[1] + bbox[3]) / 2], dtype=np.float32)\n",
    "        ct_int = ct.astype(np.int32)\n",
    "        if cls_id < 0:\n",
    "          ignore_id = [_ for _ in range(num_classes)] \\\n",
    "                      if cls_id == - 1 else  [- cls_id - 2]\n",
    "          print(\"k:{} ,ignore_id:{}\".format(k,ignore_id))\n",
    "          if self.opt.rect_mask:\n",
    "            hm[ignore_id, int(bbox[1]): int(bbox[3]) + 1, \n",
    "              int(bbox[0]): int(bbox[2]) + 1] = 0.9999\n",
    "          else:\n",
    "            for cc in ignore_id:\n",
    "              draw_gaussian(hm[cc], ct, radius)\n",
    "            hm[ignore_id, ct_int[1], ct_int[0]] = 0.9999\n",
    "          continue\n",
    "        print(\"k:{} ,cls_id:{}\".format(k,cls_id))\n",
    "#         draw_gaussian(hm[cls_id], ct, radius)\n",
    "        print(\"ct:{},radius:{}\".format(ct,radius))\n",
    "        heatmap, center, radius = hm[cls_id], ct, radius\n",
    "        diameter = 2 * radius + 1\n",
    "        gaussian = gaussian2D((diameter, diameter), sigma=diameter / 6)\n",
    "        x, y = int(center[0]), int(center[1])\n",
    "\n",
    "        height, width = heatmap.shape[0:2]\n",
    "\n",
    "        left, right = min(x, radius), min(width - x, radius + 1)\n",
    "        top, bottom = min(y, radius), min(height - y, radius + 1)\n",
    "        print(left, right,top, bottom)\n",
    "        masked_heatmap  = heatmap[y - top:y + bottom, x - left:x + right]\n",
    "        print(\"masked_heatmap\",masked_heatmap)\n",
    "        masked_gaussian = gaussian[radius - top:radius + bottom, radius - left:radius + right]\n",
    "        print(\"masked_gaussian\",masked_gaussian)\n",
    "        if min(masked_gaussian.shape) > 0 and min(masked_heatmap.shape) > 0: # TODO debug\n",
    "            np.maximum(masked_heatmap, masked_gaussian * k, out=masked_heatmap)"
   ]
  },
  {
   "cell_type": "code",
   "execution_count": null,
   "metadata": {},
   "outputs": [],
   "source": [
    "_, preds = trainer.val(0, val_loader)\n",
    "val_loader.dataset.run_eval(preds, opt.save_dir)"
   ]
  },
  {
   "cell_type": "code",
   "execution_count": 25,
   "metadata": {},
   "outputs": [],
   "source": [
    "from math import cos,sin\n",
    "ry3d = 1.57\n",
    "K=np.array([[ 721.53, 0, 609.559,0], [0, 721.537,172.854,0],[0, 0, 1,0],[0,0,0,1]])\n",
    "cx3d, cy3d, cz = -16.53 ,2.39, 58.49\n",
    "T = np.array([[+cos(ry3d), 0, +sin(ry3d),cx3d],\n",
    "          [0, 1, 0,cy3d],\n",
    "          [-sin(ry3d), 0, cos(ry3d),cz],\n",
    "             [0,0,0,1]])"
   ]
  },
  {
   "cell_type": "code",
   "execution_count": 36,
   "metadata": {},
   "outputs": [],
   "source": [
    "w = 1.68\n",
    "h = 1.9\n",
    "l = 4.0\n",
    "x_corners = [l/2, l/2, -l/2, -l/2, l/2, l/2, -l/2, -l/2,0]\n",
    "y_corners = [0,0,0,0,-h,-h,-h,-h,-h/2]\n",
    "z_corners = [w/2, -w/2, -w/2, w/2, w/2, -w/2, -w/2, w/2,0]\n",
    "\n",
    "linear_item = [1,1,1,1,1,1,1,1,1]"
   ]
  },
  {
   "cell_type": "code",
   "execution_count": 37,
   "metadata": {},
   "outputs": [],
   "source": [
    "P3d =np.vstack([np.array(x_corners),np.array(y_corners),np.array(z_corners),np.array(linear_item)])"
   ]
  },
  {
   "cell_type": "code",
   "execution_count": 38,
   "metadata": {},
   "outputs": [
    {
     "data": {
      "text/plain": [
       "array([[ 2.  ,  2.  , -2.  , -2.  ,  2.  ,  2.  , -2.  , -2.  ,  0.  ],\n",
       "       [ 0.  ,  0.  ,  0.  ,  0.  , -1.9 , -1.9 , -1.9 , -1.9 , -0.95],\n",
       "       [ 0.84, -0.84, -0.84,  0.84,  0.84, -0.84, -0.84,  0.84,  0.  ],\n",
       "       [ 1.  ,  1.  ,  1.  ,  1.  ,  1.  ,  1.  ,  1.  ,  1.  ,  1.  ]])"
      ]
     },
     "execution_count": 38,
     "metadata": {},
     "output_type": "execute_result"
    }
   ],
   "source": [
    "P3d"
   ]
  },
  {
   "cell_type": "code",
   "execution_count": 41,
   "metadata": {},
   "outputs": [],
   "source": [
    "project = K.dot(T).dot(P3d)"
   ]
  },
  {
   "cell_type": "code",
   "execution_count": 43,
   "metadata": {},
   "outputs": [
    {
     "data": {
      "text/plain": [
       "array([[409.17800194, 387.71486804, 402.34683611, 422.39037778,\n",
       "        409.17800194, 387.71486804, 402.34683611, 422.39037778,\n",
       "        405.6456661 ],\n",
       "       [203.38069483, 203.38141779, 201.36272075, 201.36209024,\n",
       "        179.11261107, 179.1127593 , 178.69888417, 178.6987549 ,\n",
       "        190.61794734]])"
      ]
     },
     "execution_count": 43,
     "metadata": {},
     "output_type": "execute_result"
    }
   ],
   "source": [
    "project[:2]/project[2]"
   ]
  },
  {
   "cell_type": "code",
   "execution_count": null,
   "metadata": {},
   "outputs": [],
   "source": []
  }
 ],
 "metadata": {
  "kernelspec": {
   "display_name": "torch0.4",
   "language": "python",
   "name": "centernet"
  },
  "language_info": {
   "codemirror_mode": {
    "name": "ipython",
    "version": 3
   },
   "file_extension": ".py",
   "mimetype": "text/x-python",
   "name": "python",
   "nbconvert_exporter": "python",
   "pygments_lexer": "ipython3",
   "version": "3.6.10"
  }
 },
 "nbformat": 4,
 "nbformat_minor": 4
}
