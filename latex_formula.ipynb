{
 "cells": [
  {
   "cell_type": "markdown",
   "metadata": {},
   "source": [
    "$$ z = \\frac{x}{y} $$ "
   ]
  },
  {
   "cell_type": "markdown",
   "metadata": {},
   "source": [
    "$$ \\alpha,\\alpha1,\\alpha2$$ "
   ]
  },
  {
   "cell_type": "markdown",
   "metadata": {},
   "source": [
    "$\\frac{1}{2}(\\frac{1}{s_i}K \\begin{bmatrix} R & T \\\\ 0^T & 1 \\\\ \\end{bmatrix}diag({D_i})Cor-\\widehat{kp_i})^T\\bullet diag\\left(Softmax(V(\\widehat{kp_i}^{1:8})),M(\\widehat{kp_i}^9) \\right)^{-1}\\bullet\\\\(\\frac{1}{s_i}K \\begin{bmatrix} R & T \\\\ 0^T & 1 \\\\ \\end{bmatrix}diag({D_i})Cor-\\widehat{kp_i})$"
   ]
  },
  {
   "cell_type": "markdown",
   "metadata": {},
   "source": [
    "$$ (x^{y^z}=(1+{\\rm e}^x)^{-2xy^w} \\sum_{i={R,T,D}})^T $$"
   ]
  },
  {
   "cell_type": "markdown",
   "metadata": {},
   "source": [
    "$$ R^*,T^*,D^* = \\mathop{arg max}\\limits_{\\{R,T,D\\}} \\sum_{{R_i,T_i,D_i}} \\left\\|e_{cp}(R_i,T_i,D_i,\\widehat{kp_i})\\right\\|_2$$"
   ]
  },
  {
   "cell_type": "markdown",
   "metadata": {},
   "source": [
    "$a^\\{^}b$"
   ]
  },
  {
   "cell_type": "markdown",
   "metadata": {},
   "source": [
    "$ \\left\\| \\log(R^{-1}R(\\hat{\\theta}))^\\vee \\right\\|_{2}^2$"
   ]
  },
  {
   "cell_type": "markdown",
   "metadata": {},
   "source": [
    "$a^{\\bigwedge}$"
   ]
  },
  {
   "cell_type": "markdown",
   "metadata": {},
   "source": [
    "$\\begin{bmatrix} 0 & -\\phi_3 & \\phi_2 \\\\ \\phi_3 & 0 & -\\phi_1 \\\\ -\\phi_2 & \\phi_1 & 0 \\end{bmatrix}$"
   ]
  },
  {
   "cell_type": "markdown",
   "metadata": {},
   "source": [
    "$ \\left\\| \\widehat{D_i}-{D_i}\\right\\|_{2}^2$"
   ]
  },
  {
   "cell_type": "markdown",
   "metadata": {},
   "source": [
    "$\\begin{bmatrix} R & T \\\\ 0^T & 1 \\\\ \\end{bmatrix}$"
   ]
  },
  {
   "cell_type": "markdown",
   "metadata": {},
   "source": [
    "$diag\\left(Softmax(V(\\widehat{kp_i}^{1:8})),M(\\widehat{kp_i}^9) \\right)^{-1}$"
   ]
  },
  {
   "cell_type": "markdown",
   "metadata": {},
   "source": []
  }
 ],
 "metadata": {
  "kernelspec": {
   "display_name": "Python 3",
   "language": "python",
   "name": "python3"
  },
  "language_info": {
   "codemirror_mode": {
    "name": "ipython",
    "version": 3
   },
   "file_extension": ".py",
   "mimetype": "text/x-python",
   "name": "python",
   "nbconvert_exporter": "python",
   "pygments_lexer": "ipython3",
   "version": "3.7.4"
  }
 },
 "nbformat": 4,
 "nbformat_minor": 4
}
