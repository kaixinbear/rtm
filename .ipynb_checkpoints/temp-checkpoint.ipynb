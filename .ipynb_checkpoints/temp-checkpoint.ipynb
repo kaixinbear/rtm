{
 "cells": [
  {
   "cell_type": "code",
   "execution_count": 6,
   "metadata": {},
   "outputs": [
    {
     "data": {
      "text/plain": [
       "tensor([[0.1641, 0.4461, 0.7915],\n",
       "        [0.3282, 0.3910, 0.7697],\n",
       "        [0.5113, 0.5291, 0.6595]])"
      ]
     },
     "execution_count": 6,
     "metadata": {},
     "output_type": "execute_result"
    }
   ],
   "source": [
    "import torch\n",
    "r = torch.rand([3,3])\n",
    "r"
   ]
  },
  {
   "cell_type": "code",
   "execution_count": 11,
   "metadata": {},
   "outputs": [
    {
     "data": {
      "text/plain": [
       "torch.Size([3, 3])"
      ]
     },
     "execution_count": 11,
     "metadata": {},
     "output_type": "execute_result"
    }
   ],
   "source": [
    "r.size()"
   ]
  },
  {
   "cell_type": "code",
   "execution_count": 20,
   "metadata": {},
   "outputs": [
    {
     "data": {
      "text/plain": [
       "tensor([[[0.1641, 0.1641, 0.1641, 0.1641, 0.1641, 0.1641],\n",
       "         [0.4461, 0.4461, 0.4461, 0.4461, 0.4461, 0.4461],\n",
       "         [0.7915, 0.7915, 0.7915, 0.7915, 0.7915, 0.7915]],\n",
       "\n",
       "        [[0.3282, 0.3282, 0.3282, 0.3282, 0.3282, 0.3282],\n",
       "         [0.3910, 0.3910, 0.3910, 0.3910, 0.3910, 0.3910],\n",
       "         [0.7697, 0.7697, 0.7697, 0.7697, 0.7697, 0.7697]],\n",
       "\n",
       "        [[0.5113, 0.5113, 0.5113, 0.5113, 0.5113, 0.5113],\n",
       "         [0.5291, 0.5291, 0.5291, 0.5291, 0.5291, 0.5291],\n",
       "         [0.6595, 0.6595, 0.6595, 0.6595, 0.6595, 0.6595]]])"
      ]
     },
     "execution_count": 20,
     "metadata": {},
     "output_type": "execute_result"
    }
   ],
   "source": [
    "r.unsqueeze(2).expand(3,3,6)"
   ]
  },
  {
   "cell_type": "code",
   "execution_count": null,
   "metadata": {},
   "outputs": [],
   "source": []
  }
 ],
 "metadata": {
  "kernelspec": {
   "display_name": "Python 3",
   "language": "python",
   "name": "python3"
  },
  "language_info": {
   "codemirror_mode": {
    "name": "ipython",
    "version": 3
   },
   "file_extension": ".py",
   "mimetype": "text/x-python",
   "name": "python",
   "nbconvert_exporter": "python",
   "pygments_lexer": "ipython3",
   "version": "3.7.4"
  }
 },
 "nbformat": 4,
 "nbformat_minor": 4
}
