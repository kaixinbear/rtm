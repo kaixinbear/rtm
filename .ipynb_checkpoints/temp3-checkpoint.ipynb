{
 "cells": [
  {
   "cell_type": "code",
   "execution_count": 1,
   "metadata": {},
   "outputs": [
    {
     "name": "stdout",
     "output_type": "stream",
     "text": [
      "/home/kaixin1/Project/RTM/src\n"
     ]
    }
   ],
   "source": [
    "cd RTM/src/"
   ]
  },
  {
   "cell_type": "code",
   "execution_count": 2,
   "metadata": {},
   "outputs": [
    {
     "data": {
      "text/plain": [
       "'0.4.1.post2'"
      ]
     },
     "execution_count": 2,
     "metadata": {},
     "output_type": "execute_result"
    }
   ],
   "source": [
    "import torch\n",
    "torch.__version__"
   ]
  },
  {
   "cell_type": "code",
   "execution_count": 4,
   "metadata": {},
   "outputs": [],
   "source": [
    "from __future__ import absolute_import\n",
    "from __future__ import division\n",
    "from __future__ import print_function\n",
    "\n",
    "import _init_paths\n",
    "\n",
    "import os\n",
    "import json\n",
    "import cv2\n",
    "import numpy as np\n",
    "import time\n",
    "from progress.bar import Bar\n",
    "import torch\n",
    "\n",
    "from opts import opts\n",
    "from logger import Logger\n",
    "from utils.utils import AverageMeter\n",
    "from datasets.dataset_factory import dataset_factory"
   ]
  },
  {
   "cell_type": "code",
   "execution_count": 5,
   "metadata": {},
   "outputs": [
    {
     "name": "stdout",
     "output_type": "stream",
     "text": [
      "/home/kaixin1/Project/RTM/src/lib/utils\n"
     ]
    }
   ],
   "source": [
    "%cd lib/utils\n",
    "from detectors.detector_factory import detector_factory"
   ]
  },
  {
   "cell_type": "code",
   "execution_count": 6,
   "metadata": {},
   "outputs": [],
   "source": [
    "import detectors.detector_factory \n",
    "import imp\n",
    "imp.reload(detectors.detector_factory)\n",
    "from detectors.detector_factory import detector_factory"
   ]
  },
  {
   "cell_type": "code",
   "execution_count": 7,
   "metadata": {},
   "outputs": [],
   "source": [
    "args = ['ddd', '--exp_id', '3dop', '--dataset', 'kitti',\\\n",
    "'--kitti_split', '3dop' ,'--load_model','../models/model_last.pth' ,'--arch', 'resFP_18']"
   ]
  },
  {
   "cell_type": "code",
   "execution_count": 8,
   "metadata": {},
   "outputs": [
    {
     "name": "stdout",
     "output_type": "stream",
     "text": [
      "opt.gpus [0]\n",
      "Fix size testing.\n",
      "training chunk_sizes: [32]\n",
      "The output will be saved to  /home/kaixin1/Project/RTM/src/lib/../../exp/ddd/3dop\n"
     ]
    }
   ],
   "source": [
    "opt = opts().parse(args)"
   ]
  },
  {
   "cell_type": "code",
   "execution_count": 9,
   "metadata": {},
   "outputs": [
    {
     "name": "stdout",
     "output_type": "stream",
     "text": [
      "/home/kaixin1/Project/RTM/src\n"
     ]
    }
   ],
   "source": [
    "cd ../.."
   ]
  },
  {
   "cell_type": "code",
   "execution_count": 10,
   "metadata": {},
   "outputs": [
    {
     "name": "stdout",
     "output_type": "stream",
     "text": [
      "heads {'hm': 3, 'vertex_hm': 9, 'vertex_coordinate': 18, 'dep': 1, 'rot': 8, 'dim': 3, 'wh': 2, 'reg': 2, 'vertex_reg_offset': 2}\n",
      "Namespace(K=100, aggr_weight=0.0, agnostic_ex=False, arch='resFP_18', aug_ddd=0.5, aug_rot=0, batch_size=32, cat_spec_wh=False, center_thresh=0.1, chunk_sizes=[32], data_dir='/home/kaixin1/Project/RTM/src/lib/../../data', dataset='kitti', debug=0, debug_dir='/home/kaixin1/Project/RTM/src/lib/../../exp/ddd/3dop/debug', debugger_theme='white', demo='', dense_hp=False, dense_wh=False, dep_weight=1, dim_weight=1, down_ratio=4, eval_oracle_dep=False, eval_oracle_hm=False, eval_oracle_hmhp=False, eval_oracle_hp_offset=False, eval_oracle_kps=False, eval_oracle_offset=False, eval_oracle_wh=False, exp_dir='/home/kaixin1/Project/RTM/src/lib/../../exp/ddd', exp_id='3dop', fix_res=True, flip=0.5, flip_test=False, gpus=[0], gpus_str='0', head_conv=64, heads={'hm': 3, 'vertex_hm': 9, 'vertex_coordinate': 18, 'dep': 1, 'rot': 8, 'dim': 3, 'wh': 2, 'reg': 2, 'vertex_reg_offset': 2}, hide_data_time=False, hm_hp=True, hm_hp_weight=1, hm_weight=1, hp_weight=1, input_h=384, input_res=1280, input_w=1280, keep_res=False, kitti_split='3dop', load_model='../models/model_last.pth', lr=0.000125, lr_step=[90, 120], master_batch_size=32, mean=array([[[0.485, 0.456, 0.406]]], dtype=float32), metric='loss', mse_loss=False, nms=False, no_color_aug=False, norm_wh=False, not_cuda_benchmark=False, not_hm_hp=False, not_prefetch_test=False, not_rand_crop=False, not_reg_bbox=False, not_reg_hp_offset=False, not_reg_offset=False, not_vertex_reg_offset=False, num_classes=3, num_epochs=140, num_iters=-1, num_stacks=1, num_workers=4, off_weight=0.5, output_h=96, output_res=320, output_w=320, pad=31, peak_thresh=0.4, print_iter=0, rect_mask=False, reg_bbox=True, reg_hp_offset=True, reg_loss='l1', reg_offset=True, resume=False, root_dir='/home/kaixin1/Project/RTM/src/lib/../..', rot_weight=0.5, rotate=0, save_all=False, save_dir='/home/kaixin1/Project/RTM/src/lib/../../exp/ddd/3dop', scale=0.4, scores_thresh=0.1, seed=317, shift=0.1, std=array([[[0.229, 0.224, 0.225]]], dtype=float32), task='ddd', test=False, test_scales=[1.0], trainval=False, val_intervals=5, vertex_coordinate_weight=0.1, vertex_off_weight=0.5, vertex_reg_offset=True, vis_thresh=0.3, wh_weight=0.1)\n",
      "==> initializing kitti 3dop, val data.\n",
      "loading annotations into memory...\n",
      "Done (t=0.90s)\n",
      "creating index...\n",
      "index created!\n",
      "Loaded val 3769 samples\n",
      "Creating model...\n",
      "=> loading pretrained model https://download.pytorch.org/models/resnet18-5c106cde.pth\n",
      "=> init deconv weights from normal distribution\n",
      "loaded ../models/model_last.pth, epoch 300\n"
     ]
    }
   ],
   "source": [
    "Dataset = dataset_factory[opt.dataset]\n",
    "opt = opts().update_dataset_info_and_set_heads(opt, Dataset)\n",
    "print(opt)\n",
    "Logger(opt)\n",
    "Detector = detector_factory[opt.task]\n",
    "\n",
    "split = 'val' if not opt.trainval else 'test'\n",
    "dataset = Dataset(opt, split)\n",
    "detector = Detector(opt)"
   ]
  },
  {
   "cell_type": "code",
   "execution_count": 11,
   "metadata": {},
   "outputs": [
    {
     "name": "stdout",
     "output_type": "stream",
     "text": [
      "/home/kaixin1/Project/RTM/src/lib/../../data/kitti/images/trainval/000001.png\n"
     ]
    },
    {
     "name": "stderr",
     "output_type": "stream",
     "text": [
      "/home/kaixin1/anaconda3/envs/CenterNet/lib/python3.6/site-packages/torch/nn/functional.py:1961: UserWarning: Default upsampling behavior when mode=bilinear is changed to align_corners=False since 0.4.0. Please specify align_corners=True if the old behavior is desired. See the documentation of nn.Upsample for details.\n",
      "  \"See the documentation of nn.Upsample for details.\".format(mode))\n"
     ]
    },
    {
     "name": "stdout",
     "output_type": "stream",
     "text": [
      "input1 [  1.6407814   1.4907396   3.953827    1.6425533 -15.6911      2.2080824\n",
      "  55.3991   ]\n",
      "input2 [406.8916  390.3306  402.83105 415.41138 406.97302 399.07245 409.64877\n",
      " 415.61197 405.62866 203.5897  201.34924 200.7236  203.0773  184.20221\n",
      " 184.17953 183.96516 184.01463 192.92787]\n",
      "input3 [721.5377 609.5593 172.854 ]\n",
      "score [0.6099873]\n",
      "hm_score [0.8818773  0.59903467 0.80183125 0.88541454 0.6180065  0.33696684\n",
      " 0.38163295 0.706965   0.5214315 ]\n",
      "optimized_result [  1.6407814    1.17173602   3.9538269    1.68382222 -17.97143979\n",
      "   2.35540932  63.14167664]\n",
      "--------------------------------------------------\n",
      "/home/kaixin1/Project/RTM/src/lib/../../data/kitti/images/trainval/000002.png\n",
      "/home/kaixin1/Project/RTM/src/lib/../../data/kitti/images/trainval/000004.png\n",
      "input1 [  1.6506581   1.4846267   3.9849634   1.4771068 -15.95024     2.2399638\n",
      "  38.53309  ]\n",
      "input2 [312.85092 304.53857 316.4663  322.7816  312.489   304.54242 318.65335\n",
      " 312.41864 312.38422 216.3148  216.08372 212.88367 216.33124 185.49925\n",
      " 188.58388 188.31023 188.65988 200.5603 ]\n",
      "input3 [721.5377 609.5593 172.854 ]\n",
      "score [0.84475684]\n",
      "hm_score [0.708481   0.13756052 0.5847378  0.10450784 0.62670714 0.8328812\n",
      " 0.6706463  0.12274136 0.7894468 ]\n",
      "optimized_result [  1.65065813   1.34055238   3.98496342   1.67992765 -18.90016078\n",
      "   2.50667792  46.34293945]\n",
      "--------------------------------------------------\n",
      "input1 [  1.632323    1.504558    3.9473195   1.495727  -17.354353    2.3288963\n",
      "  55.576714 ]\n",
      "input2 [386.5285  378.24084 382.31067 394.3866  386.2775  378.1949  388.4811\n",
      " 394.6142  385.62152 204.19264 205.35504 201.3253  204.74104 185.48016\n",
      " 185.46652 185.25246 185.29716 193.15074]\n",
      "input3 [721.5377 609.5593 172.854 ]\n",
      "score [0.738169]\n",
      "hm_score [0.7127332  0.2784939  0.6724728  0.7664279  0.6493421  0.14732952\n",
      " 0.49923068 0.557153   0.6610799 ]\n",
      "optimized_result [  1.63232303   1.30334395   3.94731951   1.66125261 -19.01881381\n",
      "   2.47449996  60.89398193]\n",
      "--------------------------------------------------\n",
      "save_dir /home/kaixin1/Project/RTM/src/lib/../../exp/ddd/3dop\n"
     ]
    }
   ],
   "source": [
    "  results = {}\n",
    "  num_iters = len(dataset)\n",
    "  bar = Bar('{}'.format(opt.exp_id), max=num_iters)\n",
    "  time_stats = ['tot', 'load', 'pre', 'net', 'dec', 'post', 'merge']\n",
    "  avg_time_stats = {t: AverageMeter() for t in time_stats}\n",
    "  for ind in range(8):\n",
    "    img_id = dataset.images[ind]\n",
    "    img_info = dataset.coco.loadImgs(ids=[img_id])[0]\n",
    "    img_path = os.path.join(dataset.img_dir, img_info['file_name'])\n",
    "    print(img_path)\n",
    "    if opt.task == 'ddd':\n",
    "      ret = detector.run(img_path, img_info['calib'])\n",
    "    else:\n",
    "      ret = detector.run(img_path)\n",
    "    \n",
    "    results[img_id] = ret['results']\n",
    "\n",
    "    Bar.suffix = '[{0}/{1}]|Tot: {total:} |ETA: {eta:} '.format(\n",
    "                   ind, num_iters, total=bar.elapsed_td, eta=bar.eta_td)\n",
    "    for t in avg_time_stats:\n",
    "      avg_time_stats[t].update(ret[t])\n",
    "      Bar.suffix = Bar.suffix + '|{} {:.3f} '.format(t, avg_time_stats[t].avg)\n",
    "    bar.next()\n",
    "  bar.finish()\n",
    "  dataset.run_eval(results, opt.save_dir)"
   ]
  },
  {
   "cell_type": "code",
   "execution_count": 11,
   "metadata": {},
   "outputs": [
    {
     "data": {
      "text/plain": [
       "'/home/kaixin1/Project/RTM/src/lib/../../exp/ddd/3dop'"
      ]
     },
     "execution_count": 11,
     "metadata": {},
     "output_type": "execute_result"
    }
   ],
   "source": [
    "opt.save_dir"
   ]
  },
  {
   "cell_type": "code",
   "execution_count": 13,
   "metadata": {},
   "outputs": [],
   "source": [
    "from models.model import create_model, load_model\n",
    "from utils.image import get_affine_transform\n",
    "from utils.debugger import Debugger"
   ]
  },
  {
   "cell_type": "code",
   "execution_count": 14,
   "metadata": {},
   "outputs": [],
   "source": [
    "self = detector\n",
    "image_or_path_or_tensor, meta = img_path, img_info['calib']"
   ]
  },
  {
   "cell_type": "code",
   "execution_count": 15,
   "metadata": {},
   "outputs": [
    {
     "data": {
      "text/plain": [
       "3769"
      ]
     },
     "execution_count": 15,
     "metadata": {},
     "output_type": "execute_result"
    }
   ],
   "source": [
    "len(dataset.images)"
   ]
  },
  {
   "cell_type": "code",
   "execution_count": 16,
   "metadata": {},
   "outputs": [
    {
     "name": "stdout",
     "output_type": "stream",
     "text": [
      "before post_process tensor([[[104.6009,  49.1335,   0.6100,  ..., 104.5098,  49.3985,   1.0000],\n",
      "         [173.6738,  59.4021,   0.0466,  ..., 174.3945,  59.6291,   1.0000],\n",
      "         [170.5235,  61.5215,   0.0426,  ..., 171.2695,  61.8699,   1.0000],\n",
      "         ...,\n",
      "         [318.5414,  61.2688,   0.0123,  ..., 319.4401,  61.0261,   0.0000],\n",
      "         [ 97.7459,  17.5811,   0.0122,  ...,  98.4917,  18.1051,   1.0000],\n",
      "         [317.6130,  69.4407,   0.0122,  ..., 318.5959,  69.0912,   2.0000]]],\n",
      "       device='cuda:0')\n",
      "after post_process {1: array([[ 1.91754818e+00,  3.89428375e+02,  1.80761932e+02,\n",
      "         4.22536469e+02,  2.03036652e+02,  1.49073958e+00,\n",
      "         1.64078140e+00,  3.95382690e+00, -1.56911001e+01,\n",
      "         2.20808244e+00,  5.53991013e+01,  1.64255333e+00,\n",
      "         2.75796149e-02],\n",
      "       [ 1.65812445e+00,  1.19267310e+03,  2.47844589e+02,\n",
      "         1.27277100e+03,  3.24823639e+02,  1.54470384e+00,\n",
      "         1.27635038e+00,  2.93841314e+00,  3.25436926e+00,\n",
      "         1.37624049e+00,  3.83466887e+00,  2.37049508e+00,\n",
      "         1.44316331e-02],\n",
      "       [ 1.63060677e+00,  1.19480786e+03,  2.34441101e+02,\n",
      "         1.27066333e+03,  3.06992554e+02,  1.52826881e+00,\n",
      "         1.30720544e+00,  3.01382685e+00,  3.60707593e+00,\n",
      "         1.34034181e+00,  4.24296236e+00,  2.34298825e+00,\n",
      "         1.40249822e-02],\n",
      "       [-2.43557739e+00,  1.18773389e+03,  2.33207764e+02,\n",
      "         1.27667456e+03,  3.23353455e+02,  1.56497562e+00,\n",
      "         1.58233106e+00,  3.83722639e+00,  2.58636451e+00,\n",
      "         1.23090410e+00,  3.06375813e+00, -1.72361791e+00,\n",
      "         1.35124186e-02],\n",
      "       [-2.87303829e+00,  1.23413367e+03,  2.41362213e+02,\n",
      "         1.23873401e+03,  2.67512970e+02,  1.54660368e+00,\n",
      "         1.62720430e+00,  4.25436449e+00,  3.49549860e-01,\n",
      "         8.26940358e-01,  4.68475908e-01, -2.15772867e+00,\n",
      "         1.31943868e-02],\n",
      "       [-2.75738859e+00,  1.23386938e+03,  1.01201225e+02,\n",
      "         1.23888354e+03,  1.28142426e+02,  1.53879702e+00,\n",
      "         1.63059783e+00,  4.25951862e+00,  3.06950241e-01,\n",
      "         7.35709548e-01,  4.19481963e-01, -2.04212427e+00,\n",
      "         1.29479356e-02],\n",
      "       [-2.73178387e+00,  1.23213318e+03,  1.92912292e+02,\n",
      "         1.24055554e+03,  2.23116516e+02,  1.55699599e+00,\n",
      "         1.58800316e+00,  4.12471104e+00,  3.32482636e-01,\n",
      "         8.00864339e-01,  4.48895901e-01, -2.01654482e+00,\n",
      "         1.28018018e-02],\n",
      "       [-2.62423587e+00,  1.16851855e+03,  2.29816162e+02,\n",
      "         1.26475024e+03,  3.26761841e+02,  1.60223913e+00,\n",
      "         1.51329422e+00,  3.67301655e+00,  2.68035626e+00,\n",
      "         1.27738822e+00,  3.25411916e+00, -1.92477751e+00,\n",
      "         1.27772428e-02],\n",
      "       [-2.80764198e+00,  1.23354468e+03,  8.53428268e+01,\n",
      "         1.23922241e+03,  1.13231850e+02,  1.55352294e+00,\n",
      "         1.60955071e+00,  4.19583702e+00,  2.68401891e-01,\n",
      "         7.38594532e-01,  3.75104159e-01, -2.09237194e+00,\n",
      "         1.26932440e-02],\n",
      "       [ 1.35774088e+00,  1.16093225e+03,  2.40335754e+02,\n",
      "         1.27356653e+03,  3.40185242e+02,  1.54364038e+00,\n",
      "         1.30022132e+00,  3.07595396e+00,  3.87271047e+00,\n",
      "         1.53195357e+00,  4.66655874e+00,  2.05769801e+00,\n",
      "         1.25976354e-02],\n",
      "       [ 1.56906497e+00,  1.18097205e+03,  2.17244156e+02,\n",
      "         1.27577917e+03,  3.01930054e+02,  1.51197851e+00,\n",
      "         1.58878696e+00,  3.83713865e+00,  2.12728357e+00,\n",
      "         1.06289494e+00,  2.54744339e+00,  2.27797508e+00,\n",
      "         1.25346538e-02],\n",
      "       [-1.04156685e+00,  1.22940161e+03,  1.53531685e+01,\n",
      "         1.24274219e+03,  5.21625481e+01,  1.44775569e+00,\n",
      "         1.84498918e+00,  4.76371956e+00,  9.31122959e-01,\n",
      "         5.04223585e-01,  1.13853025e+00, -3.26543093e-01,\n",
      "         1.24854827e-02],\n",
      "       [-2.86948991e+00,  1.23388501e+03,  6.97190857e+01,\n",
      "         1.23896997e+03,  9.75934448e+01,  1.55539954e+00,\n",
      "         1.60340154e+00,  4.20196772e+00,  2.27849692e-01,\n",
      "         7.37120688e-01,  3.28401297e-01, -2.15418530e+00,\n",
      "         1.23879323e-02],\n",
      "       [-2.82694578e+00,  1.23258655e+03,  2.24456650e+02,\n",
      "         1.24009094e+03,  2.53542740e+02,  1.54582810e+00,\n",
      "         1.61757195e+00,  4.21428061e+00,  3.47249001e-01,\n",
      "         8.16234112e-01,  4.65898603e-01, -2.11171126e+00,\n",
      "         1.22704431e-02]], dtype=float32), 2: array([[1.9175482e+00, 3.8942838e+02, 1.8076193e+02, ..., 5.5399101e+01,\n",
      "        1.6425533e+00, 6.0998732e-01],\n",
      "       [1.6697388e+00, 6.4749768e+02, 2.1313373e+02, ..., 2.1924370e+01,\n",
      "        1.7589108e+00, 4.6640243e-02],\n",
      "       [1.8058079e+00, 6.3438019e+02, 2.2109416e+02, ..., 2.1949989e+01,\n",
      "        1.8781447e+00, 4.2635679e-02],\n",
      "       ...,\n",
      "       [1.7830530e+00, 8.6695520e+02, 3.0635675e+02, ..., 3.7538574e+01,\n",
      "        2.1500742e+00, 1.2337570e-02],\n",
      "       [1.4077039e+00, 2.6790552e+02, 2.3740002e+02, ..., 2.6387852e+01,\n",
      "        1.0033963e+00, 1.2317000e-02],\n",
      "       [1.7043927e+00, 3.5862543e+02, 5.4882153e+01, ..., 3.7307961e+01,\n",
      "        1.3955815e+00, 1.2241731e-02]], dtype=float32), 3: array([[ 1.9175482e+00,  3.8942838e+02,  1.8076193e+02,  4.2253647e+02,\n",
      "         2.0303665e+02,  1.4907396e+00,  1.6407814e+00,  3.9538269e+00,\n",
      "        -1.5691100e+01,  2.2080824e+00,  5.5399101e+01,  1.6425533e+00,\n",
      "         4.2545855e-02],\n",
      "       [-1.5192941e+00,  1.1838300e+03,  2.5329486e+02,  1.2479532e+03,\n",
      "         3.1162024e+02,  1.7290000e+00,  1.2743427e+00,  2.9713159e+00,\n",
      "         2.1831152e+00,  1.2703071e+00,  2.6663904e+00, -8.2043886e-01,\n",
      "         1.4757567e-02],\n",
      "       [ 1.6581244e+00,  1.1926731e+03,  2.4784459e+02,  1.2727710e+03,\n",
      "         3.2482364e+02,  1.5447038e+00,  1.2763504e+00,  2.9384131e+00,\n",
      "         3.2543693e+00,  1.3762405e+00,  3.8346689e+00,  2.3704951e+00,\n",
      "         1.2337599e-02],\n",
      "       [ 1.6306068e+00,  1.1948079e+03,  2.3444110e+02,  1.2706633e+03,\n",
      "         3.0699255e+02,  1.5282688e+00,  1.3072054e+00,  3.0138268e+00,\n",
      "         3.6070759e+00,  1.3403418e+00,  4.2429624e+00,  2.3429883e+00,\n",
      "         1.2150672e-02]], dtype=float32)}\n",
      "detections [{1: array([[ 1.91754818e+00,  3.89428375e+02,  1.80761932e+02,\n",
      "         4.22536469e+02,  2.03036652e+02,  1.49073958e+00,\n",
      "         1.64078140e+00,  3.95382690e+00, -1.56911001e+01,\n",
      "         2.20808244e+00,  5.53991013e+01,  1.64255333e+00,\n",
      "         2.75796149e-02],\n",
      "       [ 1.65812445e+00,  1.19267310e+03,  2.47844589e+02,\n",
      "         1.27277100e+03,  3.24823639e+02,  1.54470384e+00,\n",
      "         1.27635038e+00,  2.93841314e+00,  3.25436926e+00,\n",
      "         1.37624049e+00,  3.83466887e+00,  2.37049508e+00,\n",
      "         1.44316331e-02],\n",
      "       [ 1.63060677e+00,  1.19480786e+03,  2.34441101e+02,\n",
      "         1.27066333e+03,  3.06992554e+02,  1.52826881e+00,\n",
      "         1.30720544e+00,  3.01382685e+00,  3.60707593e+00,\n",
      "         1.34034181e+00,  4.24296236e+00,  2.34298825e+00,\n",
      "         1.40249822e-02],\n",
      "       [-2.43557739e+00,  1.18773389e+03,  2.33207764e+02,\n",
      "         1.27667456e+03,  3.23353455e+02,  1.56497562e+00,\n",
      "         1.58233106e+00,  3.83722639e+00,  2.58636451e+00,\n",
      "         1.23090410e+00,  3.06375813e+00, -1.72361791e+00,\n",
      "         1.35124186e-02],\n",
      "       [-2.87303829e+00,  1.23413367e+03,  2.41362213e+02,\n",
      "         1.23873401e+03,  2.67512970e+02,  1.54660368e+00,\n",
      "         1.62720430e+00,  4.25436449e+00,  3.49549860e-01,\n",
      "         8.26940358e-01,  4.68475908e-01, -2.15772867e+00,\n",
      "         1.31943868e-02],\n",
      "       [-2.75738859e+00,  1.23386938e+03,  1.01201225e+02,\n",
      "         1.23888354e+03,  1.28142426e+02,  1.53879702e+00,\n",
      "         1.63059783e+00,  4.25951862e+00,  3.06950241e-01,\n",
      "         7.35709548e-01,  4.19481963e-01, -2.04212427e+00,\n",
      "         1.29479356e-02],\n",
      "       [-2.73178387e+00,  1.23213318e+03,  1.92912292e+02,\n",
      "         1.24055554e+03,  2.23116516e+02,  1.55699599e+00,\n",
      "         1.58800316e+00,  4.12471104e+00,  3.32482636e-01,\n",
      "         8.00864339e-01,  4.48895901e-01, -2.01654482e+00,\n",
      "         1.28018018e-02],\n",
      "       [-2.62423587e+00,  1.16851855e+03,  2.29816162e+02,\n",
      "         1.26475024e+03,  3.26761841e+02,  1.60223913e+00,\n",
      "         1.51329422e+00,  3.67301655e+00,  2.68035626e+00,\n",
      "         1.27738822e+00,  3.25411916e+00, -1.92477751e+00,\n",
      "         1.27772428e-02],\n",
      "       [-2.80764198e+00,  1.23354468e+03,  8.53428268e+01,\n",
      "         1.23922241e+03,  1.13231850e+02,  1.55352294e+00,\n",
      "         1.60955071e+00,  4.19583702e+00,  2.68401891e-01,\n",
      "         7.38594532e-01,  3.75104159e-01, -2.09237194e+00,\n",
      "         1.26932440e-02],\n",
      "       [ 1.35774088e+00,  1.16093225e+03,  2.40335754e+02,\n",
      "         1.27356653e+03,  3.40185242e+02,  1.54364038e+00,\n",
      "         1.30022132e+00,  3.07595396e+00,  3.87271047e+00,\n",
      "         1.53195357e+00,  4.66655874e+00,  2.05769801e+00,\n",
      "         1.25976354e-02],\n",
      "       [ 1.56906497e+00,  1.18097205e+03,  2.17244156e+02,\n",
      "         1.27577917e+03,  3.01930054e+02,  1.51197851e+00,\n",
      "         1.58878696e+00,  3.83713865e+00,  2.12728357e+00,\n",
      "         1.06289494e+00,  2.54744339e+00,  2.27797508e+00,\n",
      "         1.25346538e-02],\n",
      "       [-1.04156685e+00,  1.22940161e+03,  1.53531685e+01,\n",
      "         1.24274219e+03,  5.21625481e+01,  1.44775569e+00,\n",
      "         1.84498918e+00,  4.76371956e+00,  9.31122959e-01,\n",
      "         5.04223585e-01,  1.13853025e+00, -3.26543093e-01,\n",
      "         1.24854827e-02],\n",
      "       [-2.86948991e+00,  1.23388501e+03,  6.97190857e+01,\n",
      "         1.23896997e+03,  9.75934448e+01,  1.55539954e+00,\n",
      "         1.60340154e+00,  4.20196772e+00,  2.27849692e-01,\n",
      "         7.37120688e-01,  3.28401297e-01, -2.15418530e+00,\n",
      "         1.23879323e-02],\n",
      "       [-2.82694578e+00,  1.23258655e+03,  2.24456650e+02,\n",
      "         1.24009094e+03,  2.53542740e+02,  1.54582810e+00,\n",
      "         1.61757195e+00,  4.21428061e+00,  3.47249001e-01,\n",
      "         8.16234112e-01,  4.65898603e-01, -2.11171126e+00,\n",
      "         1.22704431e-02]], dtype=float32), 2: array([[1.9175482e+00, 3.8942838e+02, 1.8076193e+02, ..., 5.5399101e+01,\n",
      "        1.6425533e+00, 6.0998732e-01],\n",
      "       [1.6697388e+00, 6.4749768e+02, 2.1313373e+02, ..., 2.1924370e+01,\n",
      "        1.7589108e+00, 4.6640243e-02],\n",
      "       [1.8058079e+00, 6.3438019e+02, 2.2109416e+02, ..., 2.1949989e+01,\n",
      "        1.8781447e+00, 4.2635679e-02],\n",
      "       ...,\n",
      "       [1.7830530e+00, 8.6695520e+02, 3.0635675e+02, ..., 3.7538574e+01,\n",
      "        2.1500742e+00, 1.2337570e-02],\n",
      "       [1.4077039e+00, 2.6790552e+02, 2.3740002e+02, ..., 2.6387852e+01,\n",
      "        1.0033963e+00, 1.2317000e-02],\n",
      "       [1.7043927e+00, 3.5862543e+02, 5.4882153e+01, ..., 3.7307961e+01,\n",
      "        1.3955815e+00, 1.2241731e-02]], dtype=float32), 3: array([[ 1.9175482e+00,  3.8942838e+02,  1.8076193e+02,  4.2253647e+02,\n",
      "         2.0303665e+02,  1.4907396e+00,  1.6407814e+00,  3.9538269e+00,\n",
      "        -1.5691100e+01,  2.2080824e+00,  5.5399101e+01,  1.6425533e+00,\n",
      "         4.2545855e-02],\n",
      "       [-1.5192941e+00,  1.1838300e+03,  2.5329486e+02,  1.2479532e+03,\n",
      "         3.1162024e+02,  1.7290000e+00,  1.2743427e+00,  2.9713159e+00,\n",
      "         2.1831152e+00,  1.2703071e+00,  2.6663904e+00, -8.2043886e-01,\n",
      "         1.4757567e-02],\n",
      "       [ 1.6581244e+00,  1.1926731e+03,  2.4784459e+02,  1.2727710e+03,\n",
      "         3.2482364e+02,  1.5447038e+00,  1.2763504e+00,  2.9384131e+00,\n",
      "         3.2543693e+00,  1.3762405e+00,  3.8346689e+00,  2.3704951e+00,\n",
      "         1.2337599e-02],\n",
      "       [ 1.6306068e+00,  1.1948079e+03,  2.3444110e+02,  1.2706633e+03,\n",
      "         3.0699255e+02,  1.5282688e+00,  1.3072054e+00,  3.0138268e+00,\n",
      "         3.6070759e+00,  1.3403418e+00,  4.2429624e+00,  2.3429883e+00,\n",
      "         1.2150672e-02]], dtype=float32)}]\n"
     ]
    }
   ],
   "source": [
    "    load_time, pre_time, net_time, dec_time, post_time = 0, 0, 0, 0, 0\n",
    "    merge_time, tot_time = 0, 0\n",
    "    debugger = Debugger(dataset=self.opt.dataset, ipynb=(self.opt.debug==3),\n",
    "                        theme=self.opt.debugger_theme)\n",
    "    start_time = time.time()\n",
    "    pre_processed = False\n",
    "    if isinstance(image_or_path_or_tensor, np.ndarray):\n",
    "      image = image_or_path_or_tensor\n",
    "    elif type(image_or_path_or_tensor) == type (''): \n",
    "      image = cv2.imread(image_or_path_or_tensor)\n",
    "    else:\n",
    "      image = image_or_path_or_tensor['image'][0].numpy()\n",
    "      pre_processed_images = image_or_path_or_tensor\n",
    "      pre_processed = True\n",
    "    \n",
    "    loaded_time = time.time()\n",
    "    load_time += (loaded_time - start_time)\n",
    "    \n",
    "    detections = []\n",
    "    for scale in self.scales:\n",
    "      scale_start_time = time.time()\n",
    "      if not pre_processed:\n",
    "        images, meta = self.pre_process(image, scale, meta)\n",
    "      else:\n",
    "        # import pdb; pdb.set_trace()\n",
    "        images = pre_processed_images['images'][scale][0]\n",
    "        meta = pre_processed_images['meta'][scale]\n",
    "        meta = {k: v.numpy()[0] for k, v in meta.items()}\n",
    "      images = images.to(self.opt.device)\n",
    "      torch.cuda.synchronize()\n",
    "      pre_process_time = time.time()\n",
    "      pre_time += pre_process_time - scale_start_time\n",
    "      \n",
    "      output, dets1, forward_time = self.process(images, return_time=True)\n",
    "      torch.cuda.synchronize()\n",
    "      net_time += forward_time - pre_process_time\n",
    "      decode_time = time.time()\n",
    "      dec_time += decode_time - forward_time\n",
    "      \n",
    "      if self.opt.debug >= 2:\n",
    "        self.debug(debugger, images, dets, output, scale)\n",
    "      print(\"before post_process\",dets1)\n",
    "      dets = self.post_process(dets1, meta, scale)\n",
    "      print(\"after post_process\",dets)\n",
    "      torch.cuda.synchronize()\n",
    "      post_process_time = time.time()\n",
    "      post_time += post_process_time - decode_time\n",
    "\n",
    "      detections.append(dets)\n",
    "      print(\"detections\",detections)\n",
    "    \n",
    "    results = self.merge_outputs(detections)\n",
    "    torch.cuda.synchronize()\n",
    "    end_time = time.time()\n",
    "    merge_time += end_time - post_process_time\n",
    "    tot_time += end_time - start_time\n",
    "\n",
    "    if self.opt.debug >= 1:\n",
    "      self.show_results(debugger, image, results)"
   ]
  },
  {
   "cell_type": "code",
   "execution_count": 17,
   "metadata": {},
   "outputs": [
    {
     "data": {
      "text/plain": [
       "tensor([104.6009,  49.1335,   0.6100,   0.0939,  -0.0759,   0.1654,   0.9550,\n",
       "          0.0229,   0.0204,   0.3619,   1.0014,  55.4018,   1.4907,   1.6408,\n",
       "          3.9538,   8.5303,   5.4299, 104.8352,  52.1455, 100.5683,  51.5682,\n",
       "        103.7890,  51.4070, 107.0303,  52.0135, 104.8562,  47.1503, 102.8206,\n",
       "         47.1445, 105.5456,  47.0893, 107.0820,  47.1020, 104.5098,  49.3985,\n",
       "          1.0000], device='cuda:0')"
      ]
     },
     "execution_count": 17,
     "metadata": {},
     "output_type": "execute_result"
    }
   ],
   "source": [
    "dets1[0][0]"
   ]
  },
  {
   "cell_type": "code",
   "execution_count": 19,
   "metadata": {},
   "outputs": [
    {
     "data": {
      "text/plain": [
       "array([[  1.9175482, 389.42838  , 180.76193  , 422.53647  , 203.03665  ,\n",
       "          1.4907396,   1.6407814,   3.953827 , -15.6911   ,   2.2080824,\n",
       "         55.3991   ,   1.6425533,   0.6099873]], dtype=float32)"
      ]
     },
     "execution_count": 19,
     "metadata": {},
     "output_type": "execute_result"
    }
   ],
   "source": [
    "dets[2]"
   ]
  },
  {
   "cell_type": "code",
   "execution_count": 42,
   "metadata": {},
   "outputs": [],
   "source": [
    "from IPython.core.interactiveshell import InteractiveShell\n",
    "InteractiveShell.ast_node_interactivity = \"all\" "
   ]
  },
  {
   "cell_type": "code",
   "execution_count": 29,
   "metadata": {},
   "outputs": [],
   "source": [
    "def get_pred_depth(depth):\n",
    "  return depth\n",
    "\n",
    "def get_alpha(rot):\n",
    "  # output: (B, 8) [bin1_cls[0], bin1_cls[1], bin1_sin, bin1_cos, \n",
    "  #                 bin2_cls[0], bin2_cls[1], bin2_sin, bin2_cos]\n",
    "  # return rot[:, 0]\n",
    "  idx = rot[:, 1] > rot[:, 5]\n",
    "  alpha1 = np.arctan(rot[:, 2] / rot[:, 3]) + (-0.5 * np.pi)\n",
    "  alpha2 = np.arctan(rot[:, 6] / rot[:, 7]) + ( 0.5 * np.pi)\n",
    "  return alpha1 * idx + alpha2 * (1 - idx)"
   ]
  },
  {
   "cell_type": "code",
   "execution_count": 26,
   "metadata": {},
   "outputs": [],
   "source": [
    "\n",
    "\n",
    "def get_3rd_point(a, b):\n",
    "    direct = a - b\n",
    "    return b + np.array([-direct[1], direct[0]], dtype=np.float32)\n",
    "\n",
    "\n",
    "def get_dir(src_point, rot_rad):\n",
    "    sn, cs = np.sin(rot_rad), np.cos(rot_rad)\n",
    "\n",
    "    src_result = [0, 0]\n",
    "    src_result[0] = src_point[0] * cs - src_point[1] * sn\n",
    "    src_result[1] = src_point[0] * sn + src_point[1] * cs\n",
    "\n",
    "    return src_result\n",
    "\n",
    "\n",
    "def crop(img, center, scale, output_size, rot=0):\n",
    "    trans = get_affine_transform(center, scale, rot, output_size)\n",
    "\n",
    "    dst_img = cv2.warpAffine(img,\n",
    "                             trans,\n",
    "                             (int(output_size[0]), int(output_size[1])),\n",
    "                             flags=cv2.INTER_LINEAR)\n",
    "\n",
    "    return dst_img\n"
   ]
  },
  {
   "cell_type": "code",
   "execution_count": 48,
   "metadata": {},
   "outputs": [],
   "source": [
    "with torch.no_grad():\n",
    "    torch.cuda.synchronize()\n",
    "    output = self.model(images)[-1]\n",
    "    output['hm'] = output['hm'].sigmoid_()\n",
    "    output['dep'] = 1. / (output['dep'].sigmoid() + 1e-6) - 1.\n",
    "    wh = output['wh'] if self.opt.reg_bbox else None\n",
    "    reg = output['reg'] if self.opt.reg_offset else None\n",
    "    output['vertex_hm'] = output['vertex_hm'].sigmoid_()\n",
    "    torch.cuda.synchronize()\n",
    "    forward_time = time.time()\n",
    "\n",
    "    heat, rot, depth, dim,vertex_coordinate,vertex_hm, vertex_reg_offset = \\\n",
    "    output['hm'], output['rot'], output['dep'],output['dim'], output['vertex_coordinate'], \\\n",
    "    output['vertex_hm'], output['vertex_reg_offset']\n",
    "    K=self.opt.K\n",
    "    \n",
    "    batch, cat, height, width = heat.size()\n",
    "    # heat = torch.sigmoid(heat)\n",
    "    # perform nms on heatmaps\n",
    "    heat = _nms(heat)\n",
    "\n",
    "    scores, inds, clses, ys, xs = _topk(heat, K=K)\n",
    "    if reg is not None:\n",
    "      reg = _transpose_and_gather_feat(reg, inds)\n",
    "      reg = reg.view(batch, K, 2)\n",
    "      xs = xs.view(batch, K, 1) + reg[:, :, 0:1]\n",
    "      ys = ys.view(batch, K, 1) + reg[:, :, 1:2]\n",
    "    else:\n",
    "      xs = xs.view(batch, K, 1) + 0.5\n",
    "      ys = ys.view(batch, K, 1) + 0.5\n",
    "\n",
    "    vertex_coordinate = _transpose_and_gather_feat(vertex_coordinate, inds)\n",
    "    vertex_coordinate = vertex_coordinate.view(batch, K, 9 * 2)\n",
    "    vertex_coordinate[..., ::2] += xs.view(batch, K, 1).expand(batch, K, 9)\n",
    "    vertex_coordinate[..., 1::2] += ys.view(batch, K, 1).expand(batch, K, 9)\n",
    "    rot = _transpose_and_gather_feat(rot, inds)\n",
    "    rot = rot.view(batch, K, 8)\n",
    "    depth = _transpose_and_gather_feat(depth, inds)\n",
    "    depth = depth.view(batch, K, 1)\n",
    "    dim = _transpose_and_gather_feat(dim, inds)\n",
    "    dim = dim.view(batch, K, 3)\n",
    "    clses  = clses.view(batch, K, 1).float()\n",
    "    scores = scores.view(batch, K, 1)\n",
    "    xs = xs.view(batch, K, 1)\n",
    "    ys = ys.view(batch, K, 1)\n",
    "    if wh is not None:\n",
    "      wh = _transpose_and_gather_feat(wh, inds)\n",
    "      wh = wh.view(batch, K, 2)\n",
    "    bboxes = torch.cat([xs - wh[..., 0:1] / 2, \n",
    "                      ys - wh[..., 1:2] / 2,\n",
    "                      xs + wh[..., 0:1] / 2, \n",
    "                      ys + wh[..., 1:2] / 2], dim=2)\n",
    "    vertex_hm = _nms(vertex_hm)\n",
    "    thresh = 0.1\n",
    "    vertex_coordinate = vertex_coordinate.view(batch, K, 9, 2).permute(0, 2, 1, 3).contiguous() # b x J x K x 2\n",
    "    reg_vertex_coordinate = vertex_coordinate.unsqueeze(3).expand(batch, 9, K, K, 2)\n",
    "    hm_score, hm_inds, hm_ys, hm_xs = _topk_channel(vertex_hm, K=K) \n",
    "    if vertex_reg_offset is not None:\n",
    "        vertex_reg_offset = _transpose_and_gather_feat(\n",
    "            vertex_reg_offset, hm_inds.view(batch, -1))\n",
    "        vertex_reg_offset = vertex_reg_offset.view(batch, 9, K, 2)\n",
    "        hm_xs = hm_xs + vertex_reg_offset[:, :, :, 0]\n",
    "        hm_ys = hm_ys + vertex_reg_offset[:, :, :, 1]\n",
    "    else:\n",
    "        hm_xs = hm_xs + 0.5\n",
    "        hm_ys = hm_ys + 0.5 \n",
    "    mask = (hm_score > thresh).float()\n",
    "    hm_score = (1 - mask) * -1 + mask * hm_score\n",
    "    hm_ys = (1 - mask) * (-10000) + mask * hm_ys\n",
    "    hm_xs = (1 - mask) * (-10000) + mask * hm_xs\n",
    "    hm_kps = torch.stack([hm_xs, hm_ys], dim=-1).unsqueeze(\n",
    "          2).expand(batch, 9, K, K, 2)\n",
    "    dist = (((reg_vertex_coordinate - hm_kps) ** 2).sum(dim=4) ** 0.5)\n",
    "    min_dist, min_ind = dist.min(dim=3) # b x 9 x K\n",
    "    hm_score = hm_score.gather(2, min_ind).unsqueeze(-1) # b x J x K x 1\n",
    "    min_dist = min_dist.unsqueeze(-1)\n",
    "    min_ind = min_ind.view(batch, 9, K, 1, 1).expand(\n",
    "          batch, 9, K, 1, 2)\n",
    "    hm_kps = hm_kps.gather(3, min_ind)\n",
    "    hm_kps = hm_kps.view(batch, 9, K, 2)\n",
    "    l = bboxes[:, :, 0].view(batch, 1, K, 1).expand(batch, 9, K, 1)\n",
    "    t = bboxes[:, :, 1].view(batch, 1, K, 1).expand(batch, 9, K, 1)     \n",
    "    r = bboxes[:, :, 2].view(batch, 1, K, 1).expand(batch, 9, K, 1)\n",
    "    b = bboxes[:, :, 3].view(batch, 1, K, 1).expand(batch, 9, K, 1)\n",
    "    mask = (hm_kps[..., 0:1] < l) + (hm_kps[..., 0:1] > r) + \\\n",
    "             (hm_kps[..., 1:2] < t) + (hm_kps[..., 1:2] > b) + \\\n",
    "             (hm_score < thresh) + (min_dist > (torch.max(b - t, r - l) * 0.3))\n",
    "    mask = (mask > 0).float().expand(batch, 9, K, 2)\n",
    "    vertex_coordinate = (1 - mask) * hm_kps + mask * vertex_coordinate\n",
    "    vertex_coordinate = vertex_coordinate.permute(0, 2, 1, 3).contiguous().view(\n",
    "          batch, K, 9 * 2)\n",
    "\n",
    "    detections = torch.cat([xs, ys, scores, rot, depth, dim, wh, vertex_coordinate, clses], dim=2)"
   ]
  },
  {
   "cell_type": "code",
   "execution_count": 50,
   "metadata": {},
   "outputs": [
    {
     "data": {
      "text/plain": [
       "tensor([254.4854,  91.4898,   0.1312,  -0.1453,   0.1416,  -0.0374,   0.6834,\n",
       "         -0.0826,   0.1531,   0.2100,   0.6800,  23.6818,   1.4992,   1.5596,\n",
       "          3.6431,  11.7349,  10.8012, 254.3587,  96.7891, 252.9255,  96.7456,\n",
       "        256.5332,  96.7633, 256.9821,  96.8143, 254.2609,  86.2760, 252.9080,\n",
       "         86.3763, 256.5728,  86.2066, 256.9952,  86.0962, 254.4803,  91.4762,\n",
       "          1.0000], device='cuda:0')"
      ]
     },
     "execution_count": 50,
     "metadata": {},
     "output_type": "execute_result"
    }
   ],
   "source": [
    "detections[0][0]"
   ]
  },
  {
   "cell_type": "code",
   "execution_count": 46,
   "metadata": {},
   "outputs": [],
   "source": [
    "import torch\n",
    "import torch.nn as nn\n",
    "# from .utils import _gather_feat, _transpose_and_gather_feat\n",
    "\n",
    "def _nms(heat, kernel=3):\n",
    "    pad = (kernel - 1) // 2\n",
    "\n",
    "    hmax = nn.functional.max_pool2d(\n",
    "        heat, (kernel, kernel), stride=1, padding=pad)\n",
    "    keep = (hmax == heat).float()\n",
    "    return heat * keep\n",
    "\n",
    "def _left_aggregate(heat):\n",
    "    '''\n",
    "        heat: batchsize x channels x h x w\n",
    "    '''\n",
    "    shape = heat.shape \n",
    "    heat = heat.reshape(-1, heat.shape[3])\n",
    "    heat = heat.transpose(1, 0).contiguous()\n",
    "    ret = heat.clone()\n",
    "    for i in range(1, heat.shape[0]):\n",
    "        inds = (heat[i] >= heat[i - 1])\n",
    "        ret[i] += ret[i - 1] * inds.float()\n",
    "    return (ret - heat).transpose(1, 0).reshape(shape) \n",
    "\n",
    "def _right_aggregate(heat):\n",
    "    '''\n",
    "        heat: batchsize x channels x h x w\n",
    "    '''\n",
    "    shape = heat.shape \n",
    "    heat = heat.reshape(-1, heat.shape[3])\n",
    "    heat = heat.transpose(1, 0).contiguous()\n",
    "    ret = heat.clone()\n",
    "    for i in range(heat.shape[0] - 2, -1, -1):\n",
    "        inds = (heat[i] >= heat[i +1])\n",
    "        ret[i] += ret[i + 1] * inds.float()\n",
    "    return (ret - heat).transpose(1, 0).reshape(shape) \n",
    "\n",
    "def _top_aggregate(heat):\n",
    "    '''\n",
    "        heat: batchsize x channels x h x w\n",
    "    '''\n",
    "    heat = heat.transpose(3, 2) \n",
    "    shape = heat.shape\n",
    "    heat = heat.reshape(-1, heat.shape[3])\n",
    "    heat = heat.transpose(1, 0).contiguous()\n",
    "    ret = heat.clone()\n",
    "    for i in range(1, heat.shape[0]):\n",
    "        inds = (heat[i] >= heat[i - 1])\n",
    "        ret[i] += ret[i - 1] * inds.float()\n",
    "    return (ret - heat).transpose(1, 0).reshape(shape).transpose(3, 2)\n",
    "\n",
    "def _bottom_aggregate(heat):\n",
    "    '''\n",
    "        heat: batchsize x channels x h x w\n",
    "    '''\n",
    "    heat = heat.transpose(3, 2) \n",
    "    shape = heat.shape\n",
    "    heat = heat.reshape(-1, heat.shape[3])\n",
    "    heat = heat.transpose(1, 0).contiguous()\n",
    "    ret = heat.clone()\n",
    "    for i in range(heat.shape[0] - 2, -1, -1):\n",
    "        inds = (heat[i] >= heat[i + 1])\n",
    "        ret[i] += ret[i + 1] * inds.float()\n",
    "    return (ret - heat).transpose(1, 0).reshape(shape).transpose(3, 2)\n",
    "\n",
    "def _h_aggregate(heat, aggr_weight=0.1):\n",
    "    return aggr_weight * _left_aggregate(heat) + \\\n",
    "           aggr_weight * _right_aggregate(heat) + heat\n",
    "\n",
    "def _v_aggregate(heat, aggr_weight=0.1):\n",
    "    return aggr_weight * _top_aggregate(heat) + \\\n",
    "           aggr_weight * _bottom_aggregate(heat) + heat\n",
    "\n",
    "'''\n",
    "# Slow for large number of categories\n",
    "def _topk(scores, K=40):\n",
    "    batch, cat, height, width = scores.size()\n",
    "    topk_scores, topk_inds = torch.topk(scores.view(batch, -1), K)\n",
    "\n",
    "    topk_clses = (topk_inds / (height * width)).int()\n",
    "\n",
    "    topk_inds = topk_inds % (height * width)\n",
    "    topk_ys   = (topk_inds / width).int().float()\n",
    "    topk_xs   = (topk_inds % width).int().float()\n",
    "    return topk_scores, topk_inds, topk_clses, topk_ys, topk_xs\n",
    "'''\n",
    "def _topk_channel(scores, K=40):\n",
    "      batch, cat, height, width = scores.size()\n",
    "      \n",
    "      topk_scores, topk_inds = torch.topk(scores.view(batch, cat, -1), K)\n",
    "\n",
    "      topk_inds = topk_inds % (height * width)\n",
    "      topk_ys   = (topk_inds / width).int().float()\n",
    "      topk_xs   = (topk_inds % width).int().float()\n",
    "\n",
    "      return topk_scores, topk_inds, topk_ys, topk_xs\n",
    "\n",
    "def _topk(scores, K=40):\n",
    "    batch, cat, height, width = scores.size()\n",
    "      \n",
    "    topk_scores, topk_inds = torch.topk(scores.view(batch, cat, -1), K)\n",
    "\n",
    "    topk_inds = topk_inds % (height * width)\n",
    "    topk_ys   = (topk_inds / width).int().float()\n",
    "    topk_xs   = (topk_inds % width).int().float()\n",
    "      \n",
    "    topk_score, topk_ind = torch.topk(topk_scores.view(batch, -1), K)\n",
    "    topk_clses = (topk_ind / K).int()\n",
    "    topk_inds = _gather_feat(\n",
    "        topk_inds.view(batch, -1, 1), topk_ind).view(batch, K)\n",
    "    topk_ys = _gather_feat(topk_ys.view(batch, -1, 1), topk_ind).view(batch, K)\n",
    "    topk_xs = _gather_feat(topk_xs.view(batch, -1, 1), topk_ind).view(batch, K)\n",
    "\n",
    "    return topk_score, topk_inds, topk_clses, topk_ys, topk_xs\n",
    "\n",
    "def _sigmoid(x):\n",
    "  y = torch.clamp(x.sigmoid_(), min=1e-4, max=1-1e-4)\n",
    "  return y\n",
    "\n",
    "def _gather_feat(feat, ind, mask=None):\n",
    "    dim  = feat.size(2)\n",
    "    ind  = ind.unsqueeze(2).expand(ind.size(0), ind.size(1), dim)\n",
    "    feat = feat.gather(1, ind)\n",
    "    if mask is not None:\n",
    "        mask = mask.unsqueeze(2).expand_as(feat)\n",
    "        feat = feat[mask]\n",
    "        feat = feat.view(-1, dim)\n",
    "    return feat\n",
    "\n",
    "def _transpose_and_gather_feat(feat, ind):\n",
    "    feat = feat.permute(0, 2, 3, 1).contiguous()\n",
    "    feat = feat.view(feat.size(0), -1, feat.size(3))\n",
    "    feat = _gather_feat(feat, ind)\n",
    "    return feat\n",
    "\n",
    "def flip_tensor(x):\n",
    "    return torch.flip(x, [3])\n",
    "    # tmp = x.detach().cpu().numpy()[..., ::-1].copy()\n",
    "    # return torch.from_numpy(tmp).to(x.device)\n"
   ]
  },
  {
   "cell_type": "code",
   "execution_count": 43,
   "metadata": {},
   "outputs": [
    {
     "name": "stdout",
     "output_type": "stream",
     "text": [
      "/home/kaixin1/Project/RTM/src/lib/models\n"
     ]
    }
   ],
   "source": [
    "cd models"
   ]
  },
  {
   "cell_type": "code",
   "execution_count": 23,
   "metadata": {},
   "outputs": [],
   "source": [
    "\n",
    "def transform_preds(coords, center, scale, output_size):\n",
    "    target_coords = np.zeros(coords.shape)\n",
    "    trans = get_affine_transform(center, scale, 0, output_size, inv=1)\n",
    "    for p in range(coords.shape[0]):\n",
    "        target_coords[p, 0:2] = affine_transform(coords[p, 0:2], trans)\n",
    "    return target_coords\n",
    "\n",
    "\n",
    "def get_affine_transform(center,\n",
    "                         scale,\n",
    "                         rot,\n",
    "                         output_size,\n",
    "                         shift=np.array([0, 0], dtype=np.float32),\n",
    "                         inv=0):\n",
    "    if not isinstance(scale, np.ndarray) and not isinstance(scale, list):\n",
    "        scale = np.array([scale, scale], dtype=np.float32)\n",
    "\n",
    "    scale_tmp = scale\n",
    "    src_w = scale_tmp[0]\n",
    "    dst_w = output_size[0]\n",
    "    dst_h = output_size[1]\n",
    "\n",
    "    rot_rad = np.pi * rot / 180\n",
    "    src_dir = get_dir([0, src_w * -0.5], rot_rad)\n",
    "    dst_dir = np.array([0, dst_w * -0.5], np.float32)\n",
    "\n",
    "    src = np.zeros((3, 2), dtype=np.float32)\n",
    "    dst = np.zeros((3, 2), dtype=np.float32)\n",
    "    src[0, :] = center + scale_tmp * shift\n",
    "    src[1, :] = center + src_dir + scale_tmp * shift\n",
    "    dst[0, :] = [dst_w * 0.5, dst_h * 0.5]\n",
    "    dst[1, :] = np.array([dst_w * 0.5, dst_h * 0.5], np.float32) + dst_dir\n",
    "\n",
    "    src[2:, :] = get_3rd_point(src[0, :], src[1, :])\n",
    "    dst[2:, :] = get_3rd_point(dst[0, :], dst[1, :])\n",
    "\n",
    "    if inv:\n",
    "        trans = cv2.getAffineTransform(np.float32(dst), np.float32(src))\n",
    "    else:\n",
    "        trans = cv2.getAffineTransform(np.float32(src), np.float32(dst))\n",
    "\n",
    "    return trans\n",
    "\n",
    "\n",
    "def affine_transform(pt, t):\n",
    "    new_pt = np.array([pt[0], pt[1], 1.], dtype=np.float32).T\n",
    "    new_pt = np.dot(t, new_pt)\n",
    "    return new_pt[:2]\n"
   ]
  },
  {
   "cell_type": "code",
   "execution_count": 22,
   "metadata": {},
   "outputs": [],
   "source": [
    "a,b,c=np.array([1,2,3])"
   ]
  },
  {
   "cell_type": "code",
   "execution_count": 23,
   "metadata": {},
   "outputs": [
    {
     "data": {
      "text/plain": [
       "2"
      ]
     },
     "execution_count": 23,
     "metadata": {},
     "output_type": "execute_result"
    }
   ],
   "source": [
    "b"
   ]
  },
  {
   "cell_type": "code",
   "execution_count": null,
   "metadata": {},
   "outputs": [],
   "source": []
  }
 ],
 "metadata": {
  "kernelspec": {
   "display_name": "torch0.4",
   "language": "python",
   "name": "centernet"
  },
  "language_info": {
   "codemirror_mode": {
    "name": "ipython",
    "version": 3
   },
   "file_extension": ".py",
   "mimetype": "text/x-python",
   "name": "python",
   "nbconvert_exporter": "python",
   "pygments_lexer": "ipython3",
   "version": "3.6.10"
  }
 },
 "nbformat": 4,
 "nbformat_minor": 4
}
