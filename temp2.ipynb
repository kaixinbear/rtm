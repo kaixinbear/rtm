{
 "cells": [
  {
   "cell_type": "code",
   "execution_count": 1,
   "metadata": {},
   "outputs": [
    {
     "name": "stdout",
     "output_type": "stream",
     "text": [
      "/home/kaixin1/Project/RTM/src/lib\n"
     ]
    }
   ],
   "source": [
    "cd RTM/src/lib"
   ]
  },
  {
   "cell_type": "code",
   "execution_count": 36,
   "metadata": {},
   "outputs": [],
   "source": [
    "from models.losses import FocalLoss, L1Loss, BinRotLoss\n",
    "from models.decode import ddd_decode\n",
    "from models.utils import _sigmoid\n",
    "from utils.debugger import Debugger\n",
    "from utils.post_process import ddd_post_process\n",
    "from utils.oracle_utils import gen_oracle_map\n",
    "from models.losses import FocalLoss, RegL1Loss, RegLoss, RegWeightedL1Loss"
   ]
  },
  {
   "cell_type": "code",
   "execution_count": 3,
   "metadata": {},
   "outputs": [
    {
     "name": "stdout",
     "output_type": "stream",
     "text": [
      "/home/kaixin1/Project/RTM/src\n"
     ]
    }
   ],
   "source": [
    "cd ../"
   ]
  },
  {
   "cell_type": "code",
   "execution_count": 4,
   "metadata": {},
   "outputs": [],
   "source": [
    "from models.utils import _transpose_and_gather_feat"
   ]
  },
  {
   "cell_type": "code",
   "execution_count": 5,
   "metadata": {},
   "outputs": [],
   "source": [
    "from IPython.core.interactiveshell import InteractiveShell\n",
    "InteractiveShell.ast_node_interactivity = \"all\" "
   ]
  },
  {
   "cell_type": "code",
   "execution_count": 6,
   "metadata": {},
   "outputs": [
    {
     "data": {
      "text/plain": [
       "'0.4.1.post2'"
      ]
     },
     "execution_count": 6,
     "metadata": {},
     "output_type": "execute_result"
    }
   ],
   "source": [
    "import torch\n",
    "torch.__version__"
   ]
  },
  {
   "cell_type": "code",
   "execution_count": 7,
   "metadata": {},
   "outputs": [],
   "source": [
    "import os\n",
    "import time\n",
    "import math\n",
    "import torch\n",
    "import numpy as np\n",
    "from torch import nn\n",
    "from torch.autograd import Variable\n",
    "from torchsummary import summary"
   ]
  },
  {
   "cell_type": "code",
   "execution_count": 8,
   "metadata": {},
   "outputs": [],
   "source": [
    "from __future__ import absolute_import\n",
    "from __future__ import division\n",
    "from __future__ import print_function\n",
    "\n",
    "import _init_paths\n",
    "\n",
    "import os\n",
    "\n",
    "import torch\n",
    "import torch.utils.data\n",
    "from opts import opts\n",
    "from models.model import create_model, load_model, save_model\n",
    "from models.data_parallel import DataParallel\n",
    "from logger import Logger\n",
    "from datasets.dataset_factory import get_dataset\n",
    "from trains.train_factory import train_factory"
   ]
  },
  {
   "cell_type": "code",
   "execution_count": 9,
   "metadata": {},
   "outputs": [],
   "source": [
    "args = ['ddd', '--exp_id', '3dop', '--dataset', 'kitti',\\\n",
    "'--kitti_split', '3dop' ,'--batch_size' ,'16' ,'--master_batch', '7' ,'--num_epochs','70',\\\n",
    "'--arch','resFP_18','--lr_step', '45,60' ,'--gpus', '0,1']"
   ]
  },
  {
   "cell_type": "code",
   "execution_count": 10,
   "metadata": {},
   "outputs": [
    {
     "name": "stdout",
     "output_type": "stream",
     "text": [
      "Fix size testing.\n",
      "training chunk_sizes: [7, 9]\n",
      "The output will be saved to  /home/kaixin1/Project/RTM/src/lib/../../exp/ddd/3dop\n"
     ]
    }
   ],
   "source": [
    "opt = opts().parse(args)"
   ]
  },
  {
   "cell_type": "code",
   "execution_count": 11,
   "metadata": {},
   "outputs": [
    {
     "data": {
      "text/plain": [
       "<torch._C.Generator at 0x7eff6c0ac210>"
      ]
     },
     "execution_count": 11,
     "metadata": {},
     "output_type": "execute_result"
    },
    {
     "name": "stdout",
     "output_type": "stream",
     "text": [
      "heads {'hm': 3, 'vertex_hm': 9, 'vertex_coordinate': 18, 'dep': 1, 'rot': 8, 'dim': 3, 'wh': 2, 'reg': 2, 'vertex_reg_offset': 2}\n"
     ]
    }
   ],
   "source": [
    "torch.manual_seed(opt.seed)\n",
    "torch.backends.cudnn.benchmark = not opt.not_cuda_benchmark and not opt.test\n",
    "# Dataset多继承了数据库类(KITTI)和任务类(ddd)；\n",
    "Dataset = get_dataset(opt.dataset, opt.task)\n",
    "# 在参数里添加与用到的数据集的相关属性\n",
    "opt = opts().update_dataset_info_and_set_heads(opt, Dataset)"
   ]
  },
  {
   "cell_type": "code",
   "execution_count": 12,
   "metadata": {},
   "outputs": [],
   "source": [
    "os.environ['CUDA_VISIBLE_DEVICES'] = opt.gpus_str\n",
    "opt.device = torch.device('cuda' if opt.gpus[0] >= 0 else 'cpu')"
   ]
  },
  {
   "cell_type": "code",
   "execution_count": 13,
   "metadata": {},
   "outputs": [
    {
     "name": "stdout",
     "output_type": "stream",
     "text": [
      "=> loading pretrained model https://download.pytorch.org/models/resnet18-5c106cde.pth\n",
      "=> init deconv weights from normal distribution\n"
     ]
    }
   ],
   "source": [
    "model = create_model(opt.arch, opt.heads, opt.head_conv)\n",
    "optimizer = torch.optim.Adam(model.parameters(), opt.lr)\n",
    "start_epoch = 0\n",
    "if opt.load_model != '':\n",
    "    model, optimizer, start_epoch = load_model(\\\n",
    "  model, opt.load_model, optimizer, opt.resume, opt.lr, opt.lr_step)"
   ]
  },
  {
   "cell_type": "code",
   "execution_count": 14,
   "metadata": {},
   "outputs": [],
   "source": [
    "Trainer = train_factory[opt.task]\n",
    "trainer = Trainer(opt, model, optimizer)"
   ]
  },
  {
   "cell_type": "code",
   "execution_count": 15,
   "metadata": {},
   "outputs": [
    {
     "data": {
      "text/plain": [
       "DddLoss(\n",
       "  (crit): FocalLoss()\n",
       "  (crit_reg): L1Loss()\n",
       "  (crit_rot): BinRotLoss()\n",
       ")"
      ]
     },
     "execution_count": 15,
     "metadata": {},
     "output_type": "execute_result"
    }
   ],
   "source": [
    "trainer.loss"
   ]
  },
  {
   "cell_type": "code",
   "execution_count": 16,
   "metadata": {},
   "outputs": [],
   "source": [
    "trainer.set_device(opt.gpus, opt.chunk_sizes, opt.device)"
   ]
  },
  {
   "cell_type": "code",
   "execution_count": 17,
   "metadata": {},
   "outputs": [
    {
     "name": "stdout",
     "output_type": "stream",
     "text": [
      "==> initializing kitti 3dop, val data.\n",
      "loading annotations into memory...\n",
      "Done (t=0.83s)\n",
      "creating index...\n",
      "index created!\n",
      "Loaded val 3769 samples\n"
     ]
    }
   ],
   "source": [
    "val_loader = torch.utils.data.DataLoader(\n",
    "      Dataset(opt, 'val'), \n",
    "      batch_size=1, \n",
    "      shuffle=False,\n",
    "      num_workers=1,\n",
    "      pin_memory=True\n",
    "  )"
   ]
  },
  {
   "cell_type": "code",
   "execution_count": 18,
   "metadata": {},
   "outputs": [
    {
     "name": "stdout",
     "output_type": "stream",
     "text": [
      "==> initializing kitti 3dop, val data.\n",
      "loading annotations into memory...\n",
      "Done (t=0.88s)\n",
      "creating index...\n",
      "index created!\n",
      "Loaded val 3769 samples\n"
     ]
    }
   ],
   "source": [
    "self = Dataset(opt, 'val')"
   ]
  },
  {
   "cell_type": "code",
   "execution_count": 19,
   "metadata": {},
   "outputs": [],
   "source": [
    "import torch.utils.data as data\n",
    "import pycocotools.coco as coco\n",
    "import numpy as np\n",
    "import torch\n",
    "import json\n",
    "import cv2\n",
    "import os\n",
    "import math\n",
    "from utils.image import flip, color_aug\n",
    "from utils.image import get_affine_transform, affine_transform\n",
    "from utils.image import gaussian_radius, draw_umich_gaussian, draw_msra_gaussian\n",
    "import pycocotools.coco as coco"
   ]
  },
  {
   "cell_type": "code",
   "execution_count": 20,
   "metadata": {},
   "outputs": [],
   "source": [
    "index = 0\n",
    "img_id = self.images[index]\n",
    "img_info = self.coco.loadImgs(ids=[img_id])[0]\n",
    "img_path = os.path.join(self.img_dir, img_info['file_name'])\n",
    "img = cv2.imread(img_path)\n",
    "if 'calib' in img_info:\n",
    "  calib = np.array(img_info['calib'], dtype=np.float32)\n",
    "else:\n",
    "  calib = self.calib"
   ]
  },
  {
   "cell_type": "code",
   "execution_count": 21,
   "metadata": {},
   "outputs": [],
   "source": [
    "height, width = img.shape[0], img.shape[1]\n",
    "c = np.array([img.shape[1] / 2., img.shape[0] / 2.])\n",
    "if self.opt.keep_res:\n",
    "  s = np.array([self.opt.input_w, self.opt.input_h], dtype=np.int32)\n",
    "else:\n",
    "  s = np.array([width, height], dtype=np.int32)\n",
    "\n",
    "aug = False\n",
    "if self.split == 'train' and np.random.random() < self.opt.aug_ddd:\n",
    "  aug = True\n",
    "  sf = self.opt.scale\n",
    "  cf = self.opt.shift\n",
    "  s = s * np.clip(np.random.randn()*sf + 1, 1 - sf, 1 + sf)\n",
    "  c[0] += img.shape[1] * np.clip(np.random.randn()*cf, -2*cf, 2*cf)\n",
    "  c[1] += img.shape[0] * np.clip(np.random.randn()*cf, -2*cf, 2*cf)\n",
    "\n",
    "trans_input = get_affine_transform(\n",
    "  c, s, 0, [self.opt.input_w, self.opt.input_h])\n",
    "inp = cv2.warpAffine(img, trans_input, \n",
    "                     (self.opt.input_w, self.opt.input_h),\n",
    "                     flags=cv2.INTER_LINEAR)\n",
    "inp = (inp.astype(np.float32) / 255.)\n",
    "# if self.split == 'train' and not self.opt.no_color_aug:\n",
    "#   color_aug(self._data_rng, inp, self._eig_val, self._eig_vec)\n",
    "inp = (inp - self.mean) / self.std\n",
    "inp = inp.transpose(2, 0, 1)\n",
    "\n",
    "num_classes = self.opt.num_classes\n",
    "trans_output = get_affine_transform(\n",
    "  c, s, 0, [self.opt.output_w, self.opt.output_h])\n",
    "\n",
    "hm = np.zeros(\n",
    "  (num_classes, self.opt.output_h, self.opt.output_w), dtype=np.float32)\n",
    "# vertex heatmap\n",
    "vertex_hm = np.zeros(\n",
    "  (9, self.opt.output_h, self.opt.output_w), dtype=np.float32)\n",
    "# vertex coordinates from its center\n",
    "vertex_coordinate = np.zeros((self.max_objs, 18), dtype=np.float32)\n",
    "vertex_coordinate_mask = np.zeros((self.max_objs, 18), dtype=np.uint8)\n",
    "wh = np.zeros((self.max_objs, 2), dtype=np.float32)\n",
    "reg = np.zeros((self.max_objs, 2), dtype=np.float32)\n",
    "dep = np.zeros((self.max_objs, 1), dtype=np.float32)\n",
    "rotbin = np.zeros((self.max_objs, 2), dtype=np.int64)\n",
    "rotres = np.zeros((self.max_objs, 2), dtype=np.float32)\n",
    "dim = np.zeros((self.max_objs, 3), dtype=np.float32)\n",
    "ind = np.zeros((self.max_objs), dtype=np.int64)\n",
    "# precision lost in decline of resolution\n",
    "vertex_reg_offset = np.zeros(\n",
    "    (self.max_objs * 9, 2), dtype=np.float32)\n",
    "vertex_ind = np.zeros((self.max_objs * 9), dtype=np.int64)\n",
    "vertex_offfset_mask = np.zeros((self.max_objs * 9), dtype=np.int64)\n",
    "reg_mask = np.zeros((self.max_objs), dtype=np.uint8)\n",
    "rot_mask = np.zeros((self.max_objs), dtype=np.uint8)\n",
    "\n",
    "ann_ids = self.coco.getAnnIds(imgIds=[img_id])\n",
    "anns = self.coco.loadAnns(ids=ann_ids)\n",
    "num_objs = min(len(anns), self.max_objs)\n",
    "draw_gaussian = draw_msra_gaussian if self.opt.mse_loss else \\\n",
    "                draw_umich_gaussian\n",
    "gt_det = []"
   ]
  },
  {
   "cell_type": "code",
   "execution_count": 22,
   "metadata": {},
   "outputs": [
    {
     "data": {
      "text/plain": [
       "array([[0., 0., 0., ..., 0., 0., 0.],\n",
       "       [0., 0., 0., ..., 0., 0., 0.],\n",
       "       [0., 0., 0., ..., 0., 0., 0.],\n",
       "       ...,\n",
       "       [0., 0., 0., ..., 0., 0., 0.],\n",
       "       [0., 0., 0., ..., 0., 0., 0.],\n",
       "       [0., 0., 0., ..., 0., 0., 0.]], dtype=float32)"
      ]
     },
     "execution_count": 22,
     "metadata": {},
     "output_type": "execute_result"
    },
    {
     "data": {
      "text/plain": [
       "array([[0., 0., 0., ..., 0., 0., 0.],\n",
       "       [0., 0., 0., ..., 0., 0., 0.],\n",
       "       [0., 0., 0., ..., 0., 0., 0.],\n",
       "       ...,\n",
       "       [0., 0., 0., ..., 0., 0., 0.],\n",
       "       [0., 0., 0., ..., 0., 0., 0.],\n",
       "       [0., 0., 0., ..., 0., 0., 0.]], dtype=float32)"
      ]
     },
     "execution_count": 22,
     "metadata": {},
     "output_type": "execute_result"
    },
    {
     "data": {
      "text/plain": [
       "array([[0., 0., 0., ..., 0., 0., 0.],\n",
       "       [0., 0., 0., ..., 0., 0., 0.],\n",
       "       [0., 0., 0., ..., 0., 0., 0.],\n",
       "       ...,\n",
       "       [0., 0., 0., ..., 0., 0., 0.],\n",
       "       [0., 0., 0., ..., 0., 0., 0.],\n",
       "       [0., 0., 0., ..., 0., 0., 0.]], dtype=float32)"
      ]
     },
     "execution_count": 22,
     "metadata": {},
     "output_type": "execute_result"
    },
    {
     "data": {
      "text/plain": [
       "array([[0., 0., 0., ..., 0., 0., 0.],\n",
       "       [0., 0., 0., ..., 0., 0., 0.],\n",
       "       [0., 0., 0., ..., 0., 0., 0.],\n",
       "       ...,\n",
       "       [0., 0., 0., ..., 0., 0., 0.],\n",
       "       [0., 0., 0., ..., 0., 0., 0.],\n",
       "       [0., 0., 0., ..., 0., 0., 0.]], dtype=float32)"
      ]
     },
     "execution_count": 22,
     "metadata": {},
     "output_type": "execute_result"
    },
    {
     "data": {
      "text/plain": [
       "array([[0., 0., 0., ..., 0., 0., 0.],\n",
       "       [0., 0., 0., ..., 0., 0., 0.],\n",
       "       [0., 0., 0., ..., 0., 0., 0.],\n",
       "       ...,\n",
       "       [0., 0., 0., ..., 0., 0., 0.],\n",
       "       [0., 0., 0., ..., 0., 0., 0.],\n",
       "       [0., 0., 0., ..., 0., 0., 0.]], dtype=float32)"
      ]
     },
     "execution_count": 22,
     "metadata": {},
     "output_type": "execute_result"
    },
    {
     "data": {
      "text/plain": [
       "array([[0., 0., 0., ..., 0., 0., 0.],\n",
       "       [0., 0., 0., ..., 0., 0., 0.],\n",
       "       [0., 0., 0., ..., 0., 0., 0.],\n",
       "       ...,\n",
       "       [0., 0., 0., ..., 0., 0., 0.],\n",
       "       [0., 0., 0., ..., 0., 0., 0.],\n",
       "       [0., 0., 0., ..., 0., 0., 0.]], dtype=float32)"
      ]
     },
     "execution_count": 22,
     "metadata": {},
     "output_type": "execute_result"
    },
    {
     "data": {
      "text/plain": [
       "array([[0., 0., 0., ..., 0., 0., 0.],\n",
       "       [0., 0., 0., ..., 0., 0., 0.],\n",
       "       [0., 0., 0., ..., 0., 0., 0.],\n",
       "       ...,\n",
       "       [0., 0., 0., ..., 0., 0., 0.],\n",
       "       [0., 0., 0., ..., 0., 0., 0.],\n",
       "       [0., 0., 0., ..., 0., 0., 0.]], dtype=float32)"
      ]
     },
     "execution_count": 22,
     "metadata": {},
     "output_type": "execute_result"
    },
    {
     "data": {
      "text/plain": [
       "array([[0., 0., 0., ..., 0., 0., 0.],\n",
       "       [0., 0., 0., ..., 0., 0., 0.],\n",
       "       [0., 0., 0., ..., 0., 0., 0.],\n",
       "       ...,\n",
       "       [0., 0., 0., ..., 0., 0., 0.],\n",
       "       [0., 0., 0., ..., 0., 0., 0.],\n",
       "       [0., 0., 0., ..., 0., 0., 0.]], dtype=float32)"
      ]
     },
     "execution_count": 22,
     "metadata": {},
     "output_type": "execute_result"
    },
    {
     "data": {
      "text/plain": [
       "array([[0., 0., 0., ..., 0., 0., 0.],\n",
       "       [0., 0., 0., ..., 0., 0., 0.],\n",
       "       [0., 0., 0., ..., 0., 0., 0.],\n",
       "       ...,\n",
       "       [0., 0., 0., ..., 0., 0., 0.],\n",
       "       [0., 0., 0., ..., 0., 0., 0.],\n",
       "       [0., 0., 0., ..., 0., 0., 0.]], dtype=float32)"
      ]
     },
     "execution_count": 22,
     "metadata": {},
     "output_type": "execute_result"
    },
    {
     "data": {
      "text/plain": [
       "array([[0., 0., 0., ..., 0., 0., 0.],\n",
       "       [0., 0., 0., ..., 0., 0., 0.],\n",
       "       [0., 0., 0., ..., 0., 0., 0.],\n",
       "       ...,\n",
       "       [0., 0., 0., ..., 0., 0., 0.],\n",
       "       [0., 0., 0., ..., 0., 0., 0.],\n",
       "       [0., 0., 0., ..., 0., 0., 0.]], dtype=float32)"
      ]
     },
     "execution_count": 22,
     "metadata": {},
     "output_type": "execute_result"
    },
    {
     "data": {
      "text/plain": [
       "array([[0., 0., 0., ..., 0., 0., 0.],\n",
       "       [0., 0., 0., ..., 0., 0., 0.],\n",
       "       [0., 0., 0., ..., 0., 0., 0.],\n",
       "       ...,\n",
       "       [0., 0., 0., ..., 0., 0., 0.],\n",
       "       [0., 0., 0., ..., 0., 0., 0.],\n",
       "       [0., 0., 0., ..., 0., 0., 0.]], dtype=float32)"
      ]
     },
     "execution_count": 22,
     "metadata": {},
     "output_type": "execute_result"
    },
    {
     "data": {
      "text/plain": [
       "array([[0., 0., 0., ..., 0., 0., 0.],\n",
       "       [0., 0., 0., ..., 0., 0., 0.],\n",
       "       [0., 0., 0., ..., 0., 0., 0.],\n",
       "       ...,\n",
       "       [0., 0., 0., ..., 0., 0., 0.],\n",
       "       [0., 0., 0., ..., 0., 0., 0.],\n",
       "       [0., 0., 0., ..., 0., 0., 0.]], dtype=float32)"
      ]
     },
     "execution_count": 22,
     "metadata": {},
     "output_type": "execute_result"
    },
    {
     "data": {
      "text/plain": [
       "array([[0., 0., 0., ..., 0., 0., 0.],\n",
       "       [0., 0., 0., ..., 0., 0., 0.],\n",
       "       [0., 0., 0., ..., 0., 0., 0.],\n",
       "       ...,\n",
       "       [0., 0., 0., ..., 0., 0., 0.],\n",
       "       [0., 0., 0., ..., 0., 0., 0.],\n",
       "       [0., 0., 0., ..., 0., 0., 0.]], dtype=float32)"
      ]
     },
     "execution_count": 22,
     "metadata": {},
     "output_type": "execute_result"
    },
    {
     "data": {
      "text/plain": [
       "array([[0., 0., 0., ..., 0., 0., 0.],\n",
       "       [0., 0., 0., ..., 0., 0., 0.],\n",
       "       [0., 0., 0., ..., 0., 0., 0.],\n",
       "       ...,\n",
       "       [0., 0., 0., ..., 0., 0., 0.],\n",
       "       [0., 0., 0., ..., 0., 0., 0.],\n",
       "       [0., 0., 0., ..., 0., 0., 0.]], dtype=float32)"
      ]
     },
     "execution_count": 22,
     "metadata": {},
     "output_type": "execute_result"
    },
    {
     "data": {
      "text/plain": [
       "array([[0., 0., 0., ..., 0., 0., 0.],\n",
       "       [0., 0., 0., ..., 0., 0., 0.],\n",
       "       [0., 0., 0., ..., 0., 0., 0.],\n",
       "       ...,\n",
       "       [0., 0., 0., ..., 0., 0., 0.],\n",
       "       [0., 0., 0., ..., 0., 0., 0.],\n",
       "       [0., 0., 0., ..., 0., 0., 0.]], dtype=float32)"
      ]
     },
     "execution_count": 22,
     "metadata": {},
     "output_type": "execute_result"
    },
    {
     "data": {
      "text/plain": [
       "array([[0., 0., 0., ..., 0., 0., 0.],\n",
       "       [0., 0., 0., ..., 0., 0., 0.],\n",
       "       [0., 0., 0., ..., 0., 0., 0.],\n",
       "       ...,\n",
       "       [0., 0., 0., ..., 0., 0., 0.],\n",
       "       [0., 0., 0., ..., 0., 0., 0.],\n",
       "       [0., 0., 0., ..., 0., 0., 0.]], dtype=float32)"
      ]
     },
     "execution_count": 22,
     "metadata": {},
     "output_type": "execute_result"
    },
    {
     "data": {
      "text/plain": [
       "array([[0., 0., 0., ..., 0., 0., 0.],\n",
       "       [0., 0., 0., ..., 0., 0., 0.],\n",
       "       [0., 0., 0., ..., 0., 0., 0.],\n",
       "       ...,\n",
       "       [0., 0., 0., ..., 0., 0., 0.],\n",
       "       [0., 0., 0., ..., 0., 0., 0.],\n",
       "       [0., 0., 0., ..., 0., 0., 0.]], dtype=float32)"
      ]
     },
     "execution_count": 22,
     "metadata": {},
     "output_type": "execute_result"
    },
    {
     "data": {
      "text/plain": [
       "array([[0., 0., 0., ..., 0., 0., 0.],\n",
       "       [0., 0., 0., ..., 0., 0., 0.],\n",
       "       [0., 0., 0., ..., 0., 0., 0.],\n",
       "       ...,\n",
       "       [0., 0., 0., ..., 0., 0., 0.],\n",
       "       [0., 0., 0., ..., 0., 0., 0.],\n",
       "       [0., 0., 0., ..., 0., 0., 0.]], dtype=float32)"
      ]
     },
     "execution_count": 22,
     "metadata": {},
     "output_type": "execute_result"
    },
    {
     "data": {
      "text/plain": [
       "array([[0., 0., 0., ..., 0., 0., 0.],\n",
       "       [0., 0., 0., ..., 0., 0., 0.],\n",
       "       [0., 0., 0., ..., 0., 0., 0.],\n",
       "       ...,\n",
       "       [0., 0., 0., ..., 0., 0., 0.],\n",
       "       [0., 0., 0., ..., 0., 0., 0.],\n",
       "       [0., 0., 0., ..., 0., 0., 0.]], dtype=float32)"
      ]
     },
     "execution_count": 22,
     "metadata": {},
     "output_type": "execute_result"
    },
    {
     "data": {
      "text/plain": [
       "array([[0., 0., 0., ..., 0., 0., 0.],\n",
       "       [0., 0., 0., ..., 0., 0., 0.],\n",
       "       [0., 0., 0., ..., 0., 0., 0.],\n",
       "       ...,\n",
       "       [0., 0., 0., ..., 0., 0., 0.],\n",
       "       [0., 0., 0., ..., 0., 0., 0.],\n",
       "       [0., 0., 0., ..., 0., 0., 0.]], dtype=float32)"
      ]
     },
     "execution_count": 22,
     "metadata": {},
     "output_type": "execute_result"
    },
    {
     "data": {
      "text/plain": [
       "array([[0., 0., 0., ..., 0., 0., 0.],\n",
       "       [0., 0., 0., ..., 0., 0., 0.],\n",
       "       [0., 0., 0., ..., 0., 0., 0.],\n",
       "       ...,\n",
       "       [0., 0., 0., ..., 0., 0., 0.],\n",
       "       [0., 0., 0., ..., 0., 0., 0.],\n",
       "       [0., 0., 0., ..., 0., 0., 0.]], dtype=float32)"
      ]
     },
     "execution_count": 22,
     "metadata": {},
     "output_type": "execute_result"
    },
    {
     "data": {
      "text/plain": [
       "array([[0., 0., 0., ..., 0., 0., 0.],\n",
       "       [0., 0., 0., ..., 0., 0., 0.],\n",
       "       [0., 0., 0., ..., 0., 0., 0.],\n",
       "       ...,\n",
       "       [0., 0., 0., ..., 0., 0., 0.],\n",
       "       [0., 0., 0., ..., 0., 0., 0.],\n",
       "       [0., 0., 0., ..., 0., 0., 0.]], dtype=float32)"
      ]
     },
     "execution_count": 22,
     "metadata": {},
     "output_type": "execute_result"
    },
    {
     "data": {
      "text/plain": [
       "array([[0., 0., 0., ..., 0., 0., 0.],\n",
       "       [0., 0., 0., ..., 0., 0., 0.],\n",
       "       [0., 0., 0., ..., 0., 0., 0.],\n",
       "       ...,\n",
       "       [0., 0., 0., ..., 0., 0., 0.],\n",
       "       [0., 0., 0., ..., 0., 0., 0.],\n",
       "       [0., 0., 0., ..., 0., 0., 0.]], dtype=float32)"
      ]
     },
     "execution_count": 22,
     "metadata": {},
     "output_type": "execute_result"
    },
    {
     "data": {
      "text/plain": [
       "array([[0., 0., 0., ..., 0., 0., 0.],\n",
       "       [0., 0., 0., ..., 0., 0., 0.],\n",
       "       [0., 0., 0., ..., 0., 0., 0.],\n",
       "       ...,\n",
       "       [0., 0., 0., ..., 0., 0., 0.],\n",
       "       [0., 0., 0., ..., 0., 0., 0.],\n",
       "       [0., 0., 0., ..., 0., 0., 0.]], dtype=float32)"
      ]
     },
     "execution_count": 22,
     "metadata": {},
     "output_type": "execute_result"
    },
    {
     "data": {
      "text/plain": [
       "array([[0., 0., 0., ..., 0., 0., 0.],\n",
       "       [0., 0., 0., ..., 0., 0., 0.],\n",
       "       [0., 0., 0., ..., 0., 0., 0.],\n",
       "       ...,\n",
       "       [0., 0., 0., ..., 0., 0., 0.],\n",
       "       [0., 0., 0., ..., 0., 0., 0.],\n",
       "       [0., 0., 0., ..., 0., 0., 0.]], dtype=float32)"
      ]
     },
     "execution_count": 22,
     "metadata": {},
     "output_type": "execute_result"
    },
    {
     "data": {
      "text/plain": [
       "array([[0., 0., 0., ..., 0., 0., 0.],\n",
       "       [0., 0., 0., ..., 0., 0., 0.],\n",
       "       [0., 0., 0., ..., 0., 0., 0.],\n",
       "       ...,\n",
       "       [0., 0., 0., ..., 0., 0., 0.],\n",
       "       [0., 0., 0., ..., 0., 0., 0.],\n",
       "       [0., 0., 0., ..., 0., 0., 0.]], dtype=float32)"
      ]
     },
     "execution_count": 22,
     "metadata": {},
     "output_type": "execute_result"
    },
    {
     "data": {
      "text/plain": [
       "array([[0., 0., 0., ..., 0., 0., 0.],\n",
       "       [0., 0., 0., ..., 0., 0., 0.],\n",
       "       [0., 0., 0., ..., 0., 0., 0.],\n",
       "       ...,\n",
       "       [0., 0., 0., ..., 0., 0., 0.],\n",
       "       [0., 0., 0., ..., 0., 0., 0.],\n",
       "       [0., 0., 0., ..., 0., 0., 0.]], dtype=float32)"
      ]
     },
     "execution_count": 22,
     "metadata": {},
     "output_type": "execute_result"
    },
    {
     "data": {
      "text/plain": [
       "array([[0., 0., 0., ..., 0., 0., 0.],\n",
       "       [0., 0., 0., ..., 0., 0., 0.],\n",
       "       [0., 0., 0., ..., 0., 0., 0.],\n",
       "       ...,\n",
       "       [0., 0., 0., ..., 0., 0., 0.],\n",
       "       [0., 0., 0., ..., 0., 0., 0.],\n",
       "       [0., 0., 0., ..., 0., 0., 0.]], dtype=float32)"
      ]
     },
     "execution_count": 22,
     "metadata": {},
     "output_type": "execute_result"
    },
    {
     "data": {
      "text/plain": [
       "array([[0., 0., 0., ..., 0., 0., 0.],\n",
       "       [0., 0., 0., ..., 0., 0., 0.],\n",
       "       [0., 0., 0., ..., 0., 0., 0.],\n",
       "       ...,\n",
       "       [0., 0., 0., ..., 0., 0., 0.],\n",
       "       [0., 0., 0., ..., 0., 0., 0.],\n",
       "       [0., 0., 0., ..., 0., 0., 0.]], dtype=float32)"
      ]
     },
     "execution_count": 22,
     "metadata": {},
     "output_type": "execute_result"
    },
    {
     "data": {
      "text/plain": [
       "array([[0., 0., 0., ..., 0., 0., 0.],\n",
       "       [0., 0., 0., ..., 0., 0., 0.],\n",
       "       [0., 0., 0., ..., 0., 0., 0.],\n",
       "       ...,\n",
       "       [0., 0., 0., ..., 0., 0., 0.],\n",
       "       [0., 0., 0., ..., 0., 0., 0.],\n",
       "       [0., 0., 0., ..., 0., 0., 0.]], dtype=float32)"
      ]
     },
     "execution_count": 22,
     "metadata": {},
     "output_type": "execute_result"
    },
    {
     "data": {
      "text/plain": [
       "array([[0., 0., 0., ..., 0., 0., 0.],\n",
       "       [0., 0., 0., ..., 0., 0., 0.],\n",
       "       [0., 0., 0., ..., 0., 0., 0.],\n",
       "       ...,\n",
       "       [0., 0., 0., ..., 0., 0., 0.],\n",
       "       [0., 0., 0., ..., 0., 0., 0.],\n",
       "       [0., 0., 0., ..., 0., 0., 0.]], dtype=float32)"
      ]
     },
     "execution_count": 22,
     "metadata": {},
     "output_type": "execute_result"
    },
    {
     "data": {
      "text/plain": [
       "array([[0., 0., 0., ..., 0., 0., 0.],\n",
       "       [0., 0., 0., ..., 0., 0., 0.],\n",
       "       [0., 0., 0., ..., 0., 0., 0.],\n",
       "       ...,\n",
       "       [0., 0., 0., ..., 0., 0., 0.],\n",
       "       [0., 0., 0., ..., 0., 0., 0.],\n",
       "       [0., 0., 0., ..., 0., 0., 0.]], dtype=float32)"
      ]
     },
     "execution_count": 22,
     "metadata": {},
     "output_type": "execute_result"
    },
    {
     "data": {
      "text/plain": [
       "array([[0., 0., 0., ..., 0., 0., 0.],\n",
       "       [0., 0., 0., ..., 0., 0., 0.],\n",
       "       [0., 0., 0., ..., 0., 0., 0.],\n",
       "       ...,\n",
       "       [0., 0., 0., ..., 0., 0., 0.],\n",
       "       [0., 0., 0., ..., 0., 0., 0.],\n",
       "       [0., 0., 0., ..., 0., 0., 0.]], dtype=float32)"
      ]
     },
     "execution_count": 22,
     "metadata": {},
     "output_type": "execute_result"
    }
   ],
   "source": [
    "for k in range(num_objs):\n",
    "  ann = anns[k]\n",
    "  bbox = self._coco_box_to_bbox(ann['bbox'])\n",
    "  cls_id = int(self.cat_ids[ann['category_id']])\n",
    "  if cls_id <= -99:\n",
    "    continue\n",
    "  # if flipped:\n",
    "  #   bbox[[0, 2]] = width - bbox[[2, 0]] - 1\n",
    "  #   使bbox的gt也会随着特征图缩小而缩小     \n",
    "  bbox[:2] = affine_transform(bbox[:2], trans_output)\n",
    "  bbox[2:] = affine_transform(bbox[2:], trans_output)\n",
    "  bbox[[0, 2]] = np.clip(bbox[[0, 2]], 0, self.opt.output_w - 1)\n",
    "  bbox[[1, 3]] = np.clip(bbox[[1, 3]], 0, self.opt.output_h - 1)\n",
    "  h, w = bbox[3] - bbox[1], bbox[2] - bbox[0]\n",
    "  if h > 0 and w > 0:\n",
    "    radius = gaussian_radius((h, w))\n",
    "    radius = max(0, int(radius))\n",
    "    ct = np.array(\n",
    "      [(bbox[0] + bbox[2]) / 2, (bbox[1] + bbox[3]) / 2], dtype=np.float32)\n",
    "    ct_int = ct.astype(np.int32)\n",
    "    if cls_id < 0:\n",
    "      ignore_id = [_ for _ in range(num_classes)] \\\n",
    "                  if cls_id == - 1 else  [- cls_id - 2]\n",
    "      if self.opt.rect_mask:\n",
    "        hm[ignore_id, int(bbox[1]): int(bbox[3]) + 1, \n",
    "          int(bbox[0]): int(bbox[2]) + 1] = 0.9999\n",
    "      else:\n",
    "        for cc in ignore_id:\n",
    "          draw_gaussian(hm[cc], ct, radius)\n",
    "        hm[ignore_id, ct_int[1], ct_int[0]] = 0.9999\n",
    "      continue\n",
    "    draw_gaussian(hm[cls_id], ct, radius)\n",
    "\n",
    "\n",
    "    for j in range(9):\n",
    "      if 'vertex' in ann.keys():\n",
    "        vertexes = np.array(ann['vertex'], dtype=np.float32)\n",
    "        #  do affine transform for gt vertexes\n",
    "        vertexes[j] = affine_transform(vertexes[j], trans_output)\n",
    "        vertexes_int = vertexes.astype(np.int32)\n",
    "        if vertexes[j,0] >= 0 and vertexes[j,0] <= self.opt.output_w and \\\n",
    "        vertexes[j,1] >= 0 and vertexes[j,1] <= self.opt.output_h :\n",
    "          vertex_coordinate[k,j * 2: j * 2 + 2] = vertexes[j] - ct_int\n",
    "          vertex_coordinate_mask[k, j * 2: j * 2 + 2] = 1\n",
    "          vertex_reg_offset[k * 9 + j] = vertexes[j] - vertexes_int[j]\n",
    "          vertex_ind[k * 9 +j] = vertexes_int[j,1] * self.opt.output_w + vertexes_int[j,0]\n",
    "          vertex_offfset_mask[k * 9 +j] = 1\n",
    "          # gaussian in vertexes heatmap\n",
    "          draw_gaussian(vertex_hm[j], vertexes_int[j], radius)\n",
    "\n",
    "    wh[k] = 1. * w, 1. * h\n",
    "    gt_det.append([ct[0], ct[1], 1] + \\\n",
    "                  self._alpha_to_8(self._convert_alpha(ann['alpha'])) + \\\n",
    "                  [ann['depth']] + (np.array(ann['dim']) / 1).tolist() + [cls_id])\n",
    "    if self.opt.reg_bbox:\n",
    "      gt_det[-1] = gt_det[-1][:-1] + [w, h] + [gt_det[-1][-1]]\n",
    "    # if (not self.opt.car_only) or cls_id == 1: # Only estimate ADD for cars !!!\n",
    "    if 1:\n",
    "      alpha = self._convert_alpha(ann['alpha'])\n",
    "      # print('img_id cls_id alpha rot_y', img_path, cls_id, alpha, ann['rotation_y'])\n",
    "      if alpha < np.pi / 6. or alpha > 5 * np.pi / 6.:\n",
    "        rotbin[k, 0] = 1\n",
    "        rotres[k, 0] = alpha - (-0.5 * np.pi)    \n",
    "      if alpha > -np.pi / 6. or alpha < -5 * np.pi / 6.:\n",
    "        rotbin[k, 1] = 1\n",
    "        rotres[k, 1] = alpha - (0.5 * np.pi)\n",
    "      dep[k] = ann['depth']\n",
    "      dim[k] = ann['dim']\n",
    "      # print('        cat dim', cls_id, dim[k])\n",
    "      ind[k] = ct_int[1] * self.opt.output_w + ct_int[0]\n",
    "      reg[k] = ct - ct_int\n",
    "      reg_mask[k] = 1 if not aug else 0\n",
    "      rot_mask[k] = 1\n",
    "# print('gt_det', gt_det)\n",
    "# print('')\n",
    "#     ret = {'input': inp, 'hm': hm, 'dep': dep, 'dim': dim, 'ind': ind, \n",
    "#            'rotbin': rotbin, 'rotres': rotres, 'reg_mask': reg_mask,\n",
    "#            'rot_mask': rot_mask}\n",
    "ret = {'input': inp, 'hm': hm,'vertex_hm':vertex_hm,'vertex_coordinate':vertex_coordinate,\n",
    "       'dep': dep, 'dim': dim, 'ind': ind, 'vertex_ind':vertex_ind,\n",
    "       'vertex_coordinate_mask':vertex_coordinate_mask,\n",
    "       'rotbin': rotbin, 'rotres': rotres, 'reg_mask': reg_mask,'vertex_offfset_mask':vertex_offfset_mask,\n",
    "       'rot_mask': rot_mask}\n",
    "if self.opt.reg_bbox:\n",
    "  ret.update({'wh': wh})\n",
    "if self.opt.reg_offset:\n",
    "  ret.update({'reg': reg})\n",
    "if self.opt.vertex_reg_offset:\n",
    "  ret.update({'vertex_reg_offset': vertex_reg_offset})  \n",
    "if self.opt.debug > 0 or not ('train' in self.split):\n",
    "  gt_det = np.array(gt_det, dtype=np.float32) if len(gt_det) > 0 else \\\n",
    "           np.zeros((1, 18), dtype=np.float32)\n",
    "  meta = {'c': c, 's': s, 'gt_det': gt_det, 'calib': calib,\n",
    "          'image_path': img_path, 'img_id': img_id}\n",
    "  ret['meta'] = meta"
   ]
  },
  {
   "cell_type": "code",
   "execution_count": 23,
   "metadata": {},
   "outputs": [
    {
     "name": "stdout",
     "output_type": "stream",
     "text": [
      "input (3, 384, 1280)\n",
      "hm (3, 96, 320)\n",
      "vertex_hm (9, 96, 320)\n",
      "vertex_coordinate (50, 18)\n",
      "dep (50, 1)\n",
      "dim (50, 3)\n",
      "ind (50,)\n",
      "vertex_ind (450,)\n",
      "vertex_coordinate_mask (50, 18)\n",
      "rotbin (50, 2)\n",
      "rotres (50, 2)\n",
      "reg_mask (50,)\n",
      "vertex_offfset_mask (450,)\n",
      "rot_mask (50,)\n",
      "wh (50, 2)\n",
      "reg (50, 2)\n",
      "vertex_reg_offset (450, 2)\n",
      "c [621.  187.5]\n",
      "s [1242  375]\n",
      "gt_det [[ 1.0453333e+02  4.9244442e+01  1.0000000e+00  0.0000000e+00\n",
      "   0.0000000e+00  0.0000000e+00  1.0000000e+00  0.0000000e+00\n",
      "   1.0000000e+00  2.7559024e-01  9.6127522e-01  5.8490002e+01\n",
      "   1.6700000e+00  1.8700000e+00  3.6900001e+00  9.3217316e+00\n",
      "   5.5600662e+00  1.0000000e+00]\n",
      " [ 1.7592012e+02  4.5794525e+01  1.0000000e+00  0.0000000e+00\n",
      "   1.0000000e+00 -7.9120889e-02  9.9686503e-01  0.0000000e+00\n",
      "   0.0000000e+00  0.0000000e+00  1.0000000e+00  4.5840000e+01\n",
      "   1.8600000e+00  6.0000002e-01  2.0200000e+00  3.1896973e+00\n",
      "   7.7243156e+00  2.0000000e+00]]\n",
      "calib [[7.215377e+02 0.000000e+00 6.095593e+02 4.485728e+01]\n",
      " [0.000000e+00 7.215377e+02 1.728540e+02 2.163791e-01]\n",
      " [0.000000e+00 0.000000e+00 1.000000e+00 2.745884e-03]]\n",
      "image_path /home/kaixin1/Project/RTM/src/lib/../../data/kitti/images/trainval/000001.png\n",
      "img_id 1\n"
     ]
    }
   ],
   "source": [
    "for u,v in ret.items():\n",
    "    if type(v)!= dict:\n",
    "        print(u,v.shape)\n",
    "    else:\n",
    "        for i ,j in v.items():\n",
    "            print(i,j)"
   ]
  },
  {
   "cell_type": "code",
   "execution_count": null,
   "metadata": {},
   "outputs": [],
   "source": []
  },
  {
   "cell_type": "code",
   "execution_count": null,
   "metadata": {},
   "outputs": [],
   "source": []
  },
  {
   "cell_type": "code",
   "execution_count": null,
   "metadata": {},
   "outputs": [],
   "source": []
  },
  {
   "cell_type": "code",
   "execution_count": null,
   "metadata": {},
   "outputs": [],
   "source": []
  },
  {
   "cell_type": "code",
   "execution_count": null,
   "metadata": {},
   "outputs": [],
   "source": []
  },
  {
   "cell_type": "code",
   "execution_count": 24,
   "metadata": {},
   "outputs": [
    {
     "data": {
      "text/plain": [
       "ModelWithLoss(\n",
       "  (model): ResNet_FP(\n",
       "    (conv1): Conv2d(3, 64, kernel_size=(7, 7), stride=(2, 2), padding=(3, 3), bias=False)\n",
       "    (bn1): BatchNorm2d(64, eps=1e-05, momentum=0.1, affine=True, track_running_stats=True)\n",
       "    (relu): ReLU(inplace)\n",
       "    (maxpool): MaxPool2d(kernel_size=3, stride=2, padding=1, dilation=1, ceil_mode=False)\n",
       "    (layer1): Sequential(\n",
       "      (0): BasicBlock(\n",
       "        (conv1): Conv2d(64, 64, kernel_size=(3, 3), stride=(1, 1), padding=(1, 1), bias=False)\n",
       "        (bn1): BatchNorm2d(64, eps=1e-05, momentum=0.1, affine=True, track_running_stats=True)\n",
       "        (relu): ReLU(inplace)\n",
       "        (conv2): Conv2d(64, 64, kernel_size=(3, 3), stride=(1, 1), padding=(1, 1), bias=False)\n",
       "        (bn2): BatchNorm2d(64, eps=1e-05, momentum=0.1, affine=True, track_running_stats=True)\n",
       "      )\n",
       "      (1): BasicBlock(\n",
       "        (conv1): Conv2d(64, 64, kernel_size=(3, 3), stride=(1, 1), padding=(1, 1), bias=False)\n",
       "        (bn1): BatchNorm2d(64, eps=1e-05, momentum=0.1, affine=True, track_running_stats=True)\n",
       "        (relu): ReLU(inplace)\n",
       "        (conv2): Conv2d(64, 64, kernel_size=(3, 3), stride=(1, 1), padding=(1, 1), bias=False)\n",
       "        (bn2): BatchNorm2d(64, eps=1e-05, momentum=0.1, affine=True, track_running_stats=True)\n",
       "      )\n",
       "    )\n",
       "    (layer2): Sequential(\n",
       "      (0): BasicBlock(\n",
       "        (conv1): Conv2d(64, 128, kernel_size=(3, 3), stride=(2, 2), padding=(1, 1), bias=False)\n",
       "        (bn1): BatchNorm2d(128, eps=1e-05, momentum=0.1, affine=True, track_running_stats=True)\n",
       "        (relu): ReLU(inplace)\n",
       "        (conv2): Conv2d(128, 128, kernel_size=(3, 3), stride=(1, 1), padding=(1, 1), bias=False)\n",
       "        (bn2): BatchNorm2d(128, eps=1e-05, momentum=0.1, affine=True, track_running_stats=True)\n",
       "        (downsample): Sequential(\n",
       "          (0): Conv2d(64, 128, kernel_size=(1, 1), stride=(2, 2), bias=False)\n",
       "          (1): BatchNorm2d(128, eps=1e-05, momentum=0.1, affine=True, track_running_stats=True)\n",
       "        )\n",
       "      )\n",
       "      (1): BasicBlock(\n",
       "        (conv1): Conv2d(128, 128, kernel_size=(3, 3), stride=(1, 1), padding=(1, 1), bias=False)\n",
       "        (bn1): BatchNorm2d(128, eps=1e-05, momentum=0.1, affine=True, track_running_stats=True)\n",
       "        (relu): ReLU(inplace)\n",
       "        (conv2): Conv2d(128, 128, kernel_size=(3, 3), stride=(1, 1), padding=(1, 1), bias=False)\n",
       "        (bn2): BatchNorm2d(128, eps=1e-05, momentum=0.1, affine=True, track_running_stats=True)\n",
       "      )\n",
       "    )\n",
       "    (layer3): Sequential(\n",
       "      (0): BasicBlock(\n",
       "        (conv1): Conv2d(128, 256, kernel_size=(3, 3), stride=(2, 2), padding=(1, 1), bias=False)\n",
       "        (bn1): BatchNorm2d(256, eps=1e-05, momentum=0.1, affine=True, track_running_stats=True)\n",
       "        (relu): ReLU(inplace)\n",
       "        (conv2): Conv2d(256, 256, kernel_size=(3, 3), stride=(1, 1), padding=(1, 1), bias=False)\n",
       "        (bn2): BatchNorm2d(256, eps=1e-05, momentum=0.1, affine=True, track_running_stats=True)\n",
       "        (downsample): Sequential(\n",
       "          (0): Conv2d(128, 256, kernel_size=(1, 1), stride=(2, 2), bias=False)\n",
       "          (1): BatchNorm2d(256, eps=1e-05, momentum=0.1, affine=True, track_running_stats=True)\n",
       "        )\n",
       "      )\n",
       "      (1): BasicBlock(\n",
       "        (conv1): Conv2d(256, 256, kernel_size=(3, 3), stride=(1, 1), padding=(1, 1), bias=False)\n",
       "        (bn1): BatchNorm2d(256, eps=1e-05, momentum=0.1, affine=True, track_running_stats=True)\n",
       "        (relu): ReLU(inplace)\n",
       "        (conv2): Conv2d(256, 256, kernel_size=(3, 3), stride=(1, 1), padding=(1, 1), bias=False)\n",
       "        (bn2): BatchNorm2d(256, eps=1e-05, momentum=0.1, affine=True, track_running_stats=True)\n",
       "      )\n",
       "    )\n",
       "    (layer4): Sequential(\n",
       "      (0): BasicBlock(\n",
       "        (conv1): Conv2d(256, 512, kernel_size=(3, 3), stride=(2, 2), padding=(1, 1), bias=False)\n",
       "        (bn1): BatchNorm2d(512, eps=1e-05, momentum=0.1, affine=True, track_running_stats=True)\n",
       "        (relu): ReLU(inplace)\n",
       "        (conv2): Conv2d(512, 512, kernel_size=(3, 3), stride=(1, 1), padding=(1, 1), bias=False)\n",
       "        (bn2): BatchNorm2d(512, eps=1e-05, momentum=0.1, affine=True, track_running_stats=True)\n",
       "        (downsample): Sequential(\n",
       "          (0): Conv2d(256, 512, kernel_size=(1, 1), stride=(2, 2), bias=False)\n",
       "          (1): BatchNorm2d(512, eps=1e-05, momentum=0.1, affine=True, track_running_stats=True)\n",
       "        )\n",
       "      )\n",
       "      (1): BasicBlock(\n",
       "        (conv1): Conv2d(512, 512, kernel_size=(3, 3), stride=(1, 1), padding=(1, 1), bias=False)\n",
       "        (bn1): BatchNorm2d(512, eps=1e-05, momentum=0.1, affine=True, track_running_stats=True)\n",
       "        (relu): ReLU(inplace)\n",
       "        (conv2): Conv2d(512, 512, kernel_size=(3, 3), stride=(1, 1), padding=(1, 1), bias=False)\n",
       "        (bn2): BatchNorm2d(512, eps=1e-05, momentum=0.1, affine=True, track_running_stats=True)\n",
       "      )\n",
       "    )\n",
       "    (conv_1_1): Sequential(\n",
       "      (0): Conv2d(512, 256, kernel_size=(1, 1), stride=(1, 1), bias=False)\n",
       "      (1): BatchNorm2d(256, eps=1e-05, momentum=0.1, affine=True, track_running_stats=True)\n",
       "      (2): ReLU(inplace)\n",
       "    )\n",
       "    (conv_1_2): Sequential(\n",
       "      (0): Conv2d(512, 256, kernel_size=(1, 1), stride=(1, 1), bias=False)\n",
       "      (1): BatchNorm2d(256, eps=1e-05, momentum=0.1, affine=True, track_running_stats=True)\n",
       "      (2): ReLU(inplace)\n",
       "    )\n",
       "    (conv_2_1): Sequential(\n",
       "      (0): Conv2d(256, 128, kernel_size=(1, 1), stride=(1, 1), bias=False)\n",
       "      (1): BatchNorm2d(128, eps=1e-05, momentum=0.1, affine=True, track_running_stats=True)\n",
       "      (2): ReLU(inplace)\n",
       "    )\n",
       "    (conv_2_2): Sequential(\n",
       "      (0): Conv2d(256, 128, kernel_size=(1, 1), stride=(1, 1), bias=False)\n",
       "      (1): BatchNorm2d(128, eps=1e-05, momentum=0.1, affine=True, track_running_stats=True)\n",
       "      (2): ReLU(inplace)\n",
       "    )\n",
       "    (conv_3_1): Sequential(\n",
       "      (0): Conv2d(128, 64, kernel_size=(1, 1), stride=(1, 1), bias=False)\n",
       "      (1): BatchNorm2d(64, eps=1e-05, momentum=0.1, affine=True, track_running_stats=True)\n",
       "      (2): ReLU(inplace)\n",
       "    )\n",
       "    (conv_3_2): Sequential(\n",
       "      (0): Conv2d(128, 64, kernel_size=(1, 1), stride=(1, 1), bias=False)\n",
       "      (1): BatchNorm2d(64, eps=1e-05, momentum=0.1, affine=True, track_running_stats=True)\n",
       "      (2): ReLU(inplace)\n",
       "    )\n",
       "    (up_to_featmax_1): Sequential(\n",
       "      (0): ConvTranspose2d(256, 64, kernel_size=(6, 6), stride=(4, 4), padding=(1, 1), bias=False)\n",
       "      (1): BatchNorm2d(64, eps=1e-05, momentum=0.1, affine=True, track_running_stats=True)\n",
       "      (2): ReLU(inplace)\n",
       "    )\n",
       "    (up_to_featmax_2): Sequential(\n",
       "      (0): ConvTranspose2d(128, 64, kernel_size=(4, 4), stride=(2, 2), padding=(1, 1), bias=False)\n",
       "      (1): BatchNorm2d(64, eps=1e-05, momentum=0.1, affine=True, track_running_stats=True)\n",
       "      (2): ReLU(inplace)\n",
       "    )\n",
       "    (dep): Sequential(\n",
       "      (0): Conv2d(64, 64, kernel_size=(3, 3), stride=(1, 1), padding=(1, 1))\n",
       "      (1): ReLU(inplace)\n",
       "      (2): Conv2d(64, 1, kernel_size=(1, 1), stride=(1, 1))\n",
       "    )\n",
       "    (dim): Sequential(\n",
       "      (0): Conv2d(64, 64, kernel_size=(3, 3), stride=(1, 1), padding=(1, 1))\n",
       "      (1): ReLU(inplace)\n",
       "      (2): Conv2d(64, 3, kernel_size=(1, 1), stride=(1, 1))\n",
       "    )\n",
       "    (hm): Sequential(\n",
       "      (0): Conv2d(64, 64, kernel_size=(3, 3), stride=(1, 1), padding=(1, 1))\n",
       "      (1): ReLU(inplace)\n",
       "      (2): Conv2d(64, 3, kernel_size=(1, 1), stride=(1, 1))\n",
       "    )\n",
       "    (reg): Sequential(\n",
       "      (0): Conv2d(64, 64, kernel_size=(3, 3), stride=(1, 1), padding=(1, 1))\n",
       "      (1): ReLU(inplace)\n",
       "      (2): Conv2d(64, 2, kernel_size=(1, 1), stride=(1, 1))\n",
       "    )\n",
       "    (rot): Sequential(\n",
       "      (0): Conv2d(64, 64, kernel_size=(3, 3), stride=(1, 1), padding=(1, 1))\n",
       "      (1): ReLU(inplace)\n",
       "      (2): Conv2d(64, 8, kernel_size=(1, 1), stride=(1, 1))\n",
       "    )\n",
       "    (vertex_coordinate): Sequential(\n",
       "      (0): Conv2d(64, 64, kernel_size=(3, 3), stride=(1, 1), padding=(1, 1))\n",
       "      (1): ReLU(inplace)\n",
       "      (2): Conv2d(64, 18, kernel_size=(1, 1), stride=(1, 1))\n",
       "    )\n",
       "    (vertex_hm): Sequential(\n",
       "      (0): Conv2d(64, 64, kernel_size=(3, 3), stride=(1, 1), padding=(1, 1))\n",
       "      (1): ReLU(inplace)\n",
       "      (2): Conv2d(64, 9, kernel_size=(1, 1), stride=(1, 1))\n",
       "    )\n",
       "    (vertex_reg_offset): Sequential(\n",
       "      (0): Conv2d(64, 64, kernel_size=(3, 3), stride=(1, 1), padding=(1, 1))\n",
       "      (1): ReLU(inplace)\n",
       "      (2): Conv2d(64, 2, kernel_size=(1, 1), stride=(1, 1))\n",
       "    )\n",
       "    (wh): Sequential(\n",
       "      (0): Conv2d(64, 64, kernel_size=(3, 3), stride=(1, 1), padding=(1, 1))\n",
       "      (1): ReLU(inplace)\n",
       "      (2): Conv2d(64, 2, kernel_size=(1, 1), stride=(1, 1))\n",
       "    )\n",
       "  )\n",
       "  (loss): DddLoss(\n",
       "    (crit): FocalLoss()\n",
       "    (crit_reg): L1Loss()\n",
       "    (crit_rot): BinRotLoss()\n",
       "  )\n",
       ")"
      ]
     },
     "execution_count": 24,
     "metadata": {},
     "output_type": "execute_result"
    }
   ],
   "source": [
    "phase, epoch, data_loader = 'val', 0, val_loader\n",
    "model_with_loss = trainer.model_with_loss\n",
    "if phase == 'train':\n",
    "      model_with_loss.train()\n",
    "else:\n",
    "  if len(trainer.opt.gpus) > 1:\n",
    "    model_with_loss = trainer.model_with_loss.module\n",
    "  model_with_loss.eval()\n",
    "  torch.cuda.empty_cache()\n"
   ]
  },
  {
   "cell_type": "code",
   "execution_count": 25,
   "metadata": {},
   "outputs": [],
   "source": [
    "iter_id = 0\n",
    "batch = next(iter(data_loader))"
   ]
  },
  {
   "cell_type": "code",
   "execution_count": 26,
   "metadata": {},
   "outputs": [],
   "source": [
    "for k in batch:\n",
    "    if k != 'meta':\n",
    "      batch[k] = batch[k].to(device=opt.device, non_blocking=True)    "
   ]
  },
  {
   "cell_type": "code",
   "execution_count": 27,
   "metadata": {},
   "outputs": [
    {
     "name": "stdout",
     "output_type": "stream",
     "text": [
      "input torch.Size([1, 3, 384, 1280])\n",
      "hm torch.Size([1, 3, 96, 320])\n",
      "vertex_hm torch.Size([1, 9, 96, 320])\n",
      "vertex_coordinate torch.Size([1, 50, 18])\n",
      "dep torch.Size([1, 50, 1])\n",
      "dim torch.Size([1, 50, 3])\n",
      "ind torch.Size([1, 50])\n",
      "vertex_ind torch.Size([1, 450])\n",
      "vertex_coordinate_mask torch.Size([1, 50, 18])\n",
      "rotbin torch.Size([1, 50, 2])\n",
      "rotres torch.Size([1, 50, 2])\n",
      "reg_mask torch.Size([1, 50])\n",
      "vertex_offfset_mask torch.Size([1, 450])\n",
      "rot_mask torch.Size([1, 50])\n",
      "wh torch.Size([1, 50, 2])\n",
      "reg torch.Size([1, 50, 2])\n",
      "vertex_reg_offset torch.Size([1, 450, 2])\n",
      "c tensor([[621.0000, 187.5000]], dtype=torch.float64)\n",
      "s tensor([[1242,  375]], dtype=torch.int32)\n",
      "gt_det tensor([[[104.5333,  49.2444,   1.0000,   0.0000,   0.0000,   0.0000,   1.0000,\n",
      "            0.0000,   1.0000,   0.2756,   0.9613,  58.4900,   1.6700,   1.8700,\n",
      "            3.6900,   9.3217,   5.5601,   1.0000],\n",
      "         [175.9201,  45.7945,   1.0000,   0.0000,   1.0000,  -0.0791,   0.9969,\n",
      "            0.0000,   0.0000,   0.0000,   1.0000,  45.8400,   1.8600,   0.6000,\n",
      "            2.0200,   3.1897,   7.7243,   2.0000]]])\n",
      "calib tensor([[[721.5377,   0.0000, 609.5593,  44.8573],\n",
      "         [  0.0000, 721.5377, 172.8540,   0.2164],\n",
      "         [  0.0000,   0.0000,   1.0000,   0.0027]]])\n",
      "image_path ['/home/kaixin1/Project/RTM/src/lib/../../data/kitti/images/trainval/000001.png']\n",
      "img_id tensor([1])\n"
     ]
    }
   ],
   "source": [
    "for u,v in batch.items():\n",
    "    if type(v)!= dict:\n",
    "        print(u,v.shape)\n",
    "    else:\n",
    "        for i ,j in v.items():\n",
    "            print(i,j)"
   ]
  },
  {
   "cell_type": "code",
   "execution_count": 28,
   "metadata": {},
   "outputs": [
    {
     "name": "stderr",
     "output_type": "stream",
     "text": [
      "/home/kaixin1/anaconda3/envs/CenterNet/lib/python3.6/site-packages/torch/nn/functional.py:1961: UserWarning: Default upsampling behavior when mode=bilinear is changed to align_corners=False since 0.4.0. Please specify align_corners=True if the old behavior is desired. See the documentation of nn.Upsample for details.\n",
      "  \"See the documentation of nn.Upsample for details.\".format(mode))\n"
     ]
    }
   ],
   "source": [
    "outputs = model(batch['input'])"
   ]
  },
  {
   "cell_type": "code",
   "execution_count": 39,
   "metadata": {},
   "outputs": [
    {
     "name": "stderr",
     "output_type": "stream",
     "text": [
      "/home/kaixin1/anaconda3/envs/CenterNet/lib/python3.6/site-packages/torch/nn/functional.py:52: UserWarning: size_average and reduce args will be deprecated, please use reduction='sum' instead.\n",
      "  warnings.warn(warning.format(ret))\n"
     ]
    }
   ],
   "source": [
    "kp = RegWeightedL1Loss()\n",
    "hm_loss, dep_loss, rot_loss, dim_loss = 0, 0, 0, 0\n",
    "wh_loss, off_loss = 0, 0\n",
    "vertex_hm_loss,vertex_coordinate_loss, vertex_off_loss = 0, 0, 0\n",
    "for s in range(opt.num_stacks):\n",
    "  output = outputs[s]\n",
    "  output['hm'] = _sigmoid(output['hm'])\n",
    "  # add vertex loss\n",
    "  output['vertex_hm'] = _sigmoid(output['vertex_hm'])\n",
    "  output['dep'] = 1. / (output['dep'].sigmoid() + 1e-6) - 1.\n",
    "\n",
    "  if opt.eval_oracle_dep:\n",
    "    output['dep'] = torch.from_numpy(gen_oracle_map(\n",
    "      batch['dep'].detach().cpu().numpy(), \n",
    "      batch['ind'].detach().cpu().numpy(), \n",
    "      opt.output_w, opt.output_h)).to(opt.device)\n",
    "\n",
    "  hm_loss += self.crit(output['hm'], batch['hm']) / opt.num_stacks\n",
    "\n",
    "  # add weights\n",
    "  vertex_hm_loss += self.crit(output['vertex_hm'], batch['vertex_hm']) / opt.num_stacks\n",
    "\n",
    "  vertex_coordinate_loss +=  kp(output['vertex_coordinate'],batch['vertex_coordinate_mask'],batch['ind'], batch['vertex_coordinate']) / opt.num_stacks\n",
    "\n",
    "  if opt.dep_weight > 0:\n",
    "    dep_loss += self.crit_reg(output['dep'], batch['reg_mask'],\n",
    "                              batch['ind'], batch['dep']) / opt.num_stacks\n",
    "  if opt.dim_weight > 0:\n",
    "    dim_loss += self.crit_reg(output['dim'], batch['reg_mask'],\n",
    "                              batch['ind'], batch['dim']) / opt.num_stacks\n",
    "  if opt.rot_weight > 0:\n",
    "    rot_loss += self.crit_rot(output['rot'], batch['rot_mask'],\n",
    "                              batch['ind'], batch['rotbin'],\n",
    "                              batch['rotres']) / opt.num_stacks\n",
    "  if opt.reg_bbox and opt.wh_weight > 0:\n",
    "    wh_loss += self.crit_reg(output['wh'], batch['rot_mask'],\n",
    "                             batch['ind'], batch['wh']) / opt.num_stacks\n",
    "  if opt.reg_offset and opt.off_weight > 0:\n",
    "    off_loss += self.crit_reg(output['reg'], batch['rot_mask'],\n",
    "                              batch['ind'], batch['reg']) / opt.num_stacks\n",
    "\n",
    "  if opt.vertex_reg_offset and opt.vertex_off_weight > 0:\n",
    "    vertex_off_loss += self.crit_reg(output['vertex_reg_offset'], batch['vertex_offfset_mask'],batch['vertex_ind'], batch['vertex_reg_offset']) / opt.num_stacks\n",
    "loss = opt.hm_weight * hm_loss + opt.dep_weight * dep_loss + \\\n",
    "       opt.dim_weight * dim_loss + opt.rot_weight * rot_loss + \\\n",
    "       opt.wh_weight * wh_loss + opt.off_weight * off_loss + \\\n",
    "       vertex_hm_loss + vertex_coordinate_loss +  opt.vertex_off_weight * vertex_off_loss\n",
    "\n",
    "loss_stats = {'loss': loss, 'hm_loss': hm_loss, 'dep_loss': dep_loss, \n",
    "              'dim_loss': dim_loss, 'rot_loss': rot_loss, \n",
    "              'wh_loss': wh_loss, 'off_loss': off_loss,\n",
    "             'vertex_hm_loss': vertex_hm_loss,'vertex_coordinate_loss':vertex_coordinate_loss\n",
    "              , 'vertex_off_loss': vertex_off_loss}"
   ]
  },
  {
   "cell_type": "code",
   "execution_count": 41,
   "metadata": {},
   "outputs": [
    {
     "data": {
      "text/plain": [
       "tensor(28574.6074, device='cuda:0', grad_fn=<ThAddBackward>)"
      ]
     },
     "execution_count": 41,
     "metadata": {},
     "output_type": "execute_result"
    },
    {
     "data": {
      "text/plain": [
       "{'loss': tensor(28574.6074, device='cuda:0', grad_fn=<ThAddBackward>),\n",
       " 'hm_loss': tensor(21466.5488, device='cuda:0', grad_fn=<AddBackward>),\n",
       " 'dep_loss': tensor(2.0627, device='cuda:0', grad_fn=<AddBackward>),\n",
       " 'dim_loss': tensor(0.0773, device='cuda:0', grad_fn=<AddBackward>),\n",
       " 'rot_loss': tensor(2.4254, device='cuda:0', grad_fn=<AddBackward>),\n",
       " 'wh_loss': tensor(0.2611, device='cuda:0', grad_fn=<AddBackward>),\n",
       " 'off_loss': tensor(0.0254, device='cuda:0', grad_fn=<AddBackward>),\n",
       " 'vertex_hm_loss': tensor(7100.9941, device='cuda:0', grad_fn=<AddBackward>),\n",
       " 'vertex_coordinate_loss': tensor(2.4273, device='cuda:0', grad_fn=<AddBackward>),\n",
       " 'vertex_off_loss': tensor(0.0193, device='cuda:0', grad_fn=<AddBackward>)}"
      ]
     },
     "execution_count": 41,
     "metadata": {},
     "output_type": "execute_result"
    }
   ],
   "source": [
    "loss\n",
    "loss_stats"
   ]
  },
  {
   "cell_type": "code",
   "execution_count": 30,
   "metadata": {},
   "outputs": [],
   "source": [
    "output = outputs[0]\n",
    "output['hm'] = _sigmoid(output['hm'])\n",
    "output['dep'] = 1. / (output['dep'].sigmoid() + 1e-6) - 1."
   ]
  },
  {
   "cell_type": "code",
   "execution_count": 28,
   "metadata": {},
   "outputs": [],
   "source": [
    "off_loss += self.crit_reg(output['reg'], batch['rot_mask'],\n",
    "                                  batch['ind'], batch['reg']) / opt.num_stacks"
   ]
  },
  {
   "cell_type": "code",
   "execution_count": 41,
   "metadata": {},
   "outputs": [
    {
     "data": {
      "text/plain": [
       "torch.Size([1, 2, 96, 320])"
      ]
     },
     "execution_count": 41,
     "metadata": {},
     "output_type": "execute_result"
    },
    {
     "data": {
      "text/plain": [
       "torch.Size([1, 50])"
      ]
     },
     "execution_count": 41,
     "metadata": {},
     "output_type": "execute_result"
    },
    {
     "data": {
      "text/plain": [
       "torch.Size([1, 50])"
      ]
     },
     "execution_count": 41,
     "metadata": {},
     "output_type": "execute_result"
    },
    {
     "data": {
      "text/plain": [
       "torch.Size([1, 50, 2])"
      ]
     },
     "execution_count": 41,
     "metadata": {},
     "output_type": "execute_result"
    },
    {
     "data": {
      "text/plain": [
       "torch.Size([1, 50, 9])"
      ]
     },
     "execution_count": 41,
     "metadata": {},
     "output_type": "execute_result"
    }
   ],
   "source": [
    "output['reg'].shape\n",
    "batch['rot_mask'].shape\n",
    "batch['ind'].shape\n",
    "batch['reg'].shape\n",
    "batch['vertex_ind'].shape"
   ]
  },
  {
   "cell_type": "code",
   "execution_count": 32,
   "metadata": {},
   "outputs": [
    {
     "data": {
      "text/plain": [
       "torch.Size([1, 18, 96, 320])"
      ]
     },
     "execution_count": 32,
     "metadata": {},
     "output_type": "execute_result"
    }
   ],
   "source": [
    "output['vertex_coordinate'].shape"
   ]
  },
  {
   "cell_type": "code",
   "execution_count": 31,
   "metadata": {},
   "outputs": [],
   "source": [
    "if opt.vertex_reg_offset and opt.vertex_off_weight > 0:\n",
    "        for i in range(0,18,2):\n",
    "          vertex_off_loss += self.crit_reg(output['vertex_reg_offset'], batch['rot_mask'],\n",
    "                  batch['vertex_ind'][:,:,int(i/2)], batch['vertex_reg_offset'][...,i:i+2]) / opt.num_stacks"
   ]
  },
  {
   "cell_type": "code",
   "execution_count": 34,
   "metadata": {},
   "outputs": [
    {
     "data": {
      "text/plain": [
       "torch.Size([1, 3, 96, 320])"
      ]
     },
     "execution_count": 34,
     "metadata": {},
     "output_type": "execute_result"
    },
    {
     "data": {
      "text/plain": [
       "torch.Size([1, 50])"
      ]
     },
     "execution_count": 34,
     "metadata": {},
     "output_type": "execute_result"
    },
    {
     "data": {
      "text/plain": [
       "torch.Size([1, 50])"
      ]
     },
     "execution_count": 34,
     "metadata": {},
     "output_type": "execute_result"
    },
    {
     "data": {
      "text/plain": [
       "torch.Size([1, 50, 3])"
      ]
     },
     "execution_count": 34,
     "metadata": {},
     "output_type": "execute_result"
    },
    {
     "data": {
      "text/plain": [
       "torch.Size([1, 9, 96, 320])"
      ]
     },
     "execution_count": 34,
     "metadata": {},
     "output_type": "execute_result"
    },
    {
     "data": {
      "text/plain": [
       "torch.Size([1, 9, 96, 320])"
      ]
     },
     "execution_count": 34,
     "metadata": {},
     "output_type": "execute_result"
    }
   ],
   "source": [
    "output['dim'].shape\n",
    "batch['reg_mask'].shape\n",
    "batch['ind'].shape\n",
    "batch['dim'].shape\n",
    "output['vertex_hm'].shape\n",
    "batch['vertex_hm'].shape"
   ]
  },
  {
   "cell_type": "code",
   "execution_count": 30,
   "metadata": {},
   "outputs": [],
   "source": [
    "vertex_hm_loss,vertex_coordinate_loss, vertex_off_loss = 0, 0, 0\n",
    "vertex_hm_loss += self.crit(output['vertex_hm'], batch['vertex_hm']) / opt.num_stacks\n",
    "      \n",
    "for i in range(0,18,2):\n",
    "    vertex_coordinate_loss +=  self.crit_reg(output['vertex_coordinate'][:,i:i+2],\n",
    "    batch['reg_mask'],batch['vertex_ind'][:,:,int(i/2)],batch['vertex_coordinate'][...,i:i+2]) / opt.num_stacks"
   ]
  },
  {
   "cell_type": "code",
   "execution_count": 26,
   "metadata": {},
   "outputs": [],
   "source": [
    "output, mask, ind, target = output['dep'], batch['reg_mask'],batch['ind'], batch['dep']"
   ]
  },
  {
   "cell_type": "code",
   "execution_count": 78,
   "metadata": {},
   "outputs": [
    {
     "data": {
      "text/plain": [
       "torch.Size([1, 1, 96, 320])"
      ]
     },
     "execution_count": 78,
     "metadata": {},
     "output_type": "execute_result"
    }
   ],
   "source": [
    "output.shape"
   ]
  },
  {
   "cell_type": "code",
   "execution_count": null,
   "metadata": {},
   "outputs": [],
   "source": [
    "# pred = _transpose_and_gather_feat(output, ind)\n",
    "# mask = mask.unsqueeze(2).expand_as(pred).float()\n",
    "pred.shape\n",
    "mask.shape\n",
    "(pred * mask).shape\n",
    "(target * mask).shape"
   ]
  },
  {
   "cell_type": "code",
   "execution_count": null,
   "metadata": {},
   "outputs": [],
   "source": []
  },
  {
   "cell_type": "code",
   "execution_count": 32,
   "metadata": {},
   "outputs": [],
   "source": [
    "output, loss, loss_stats = model_with_loss(batch)"
   ]
  },
  {
   "cell_type": "code",
   "execution_count": 33,
   "metadata": {},
   "outputs": [
    {
     "data": {
      "text/plain": [
       "{'loss': tensor(10078.5645, device='cuda:0', grad_fn=<ThAddBackward>),\n",
       " 'hm_loss': tensor(7386.1650, device='cuda:0', grad_fn=<AddBackward>),\n",
       " 'dep_loss': tensor(2.0511, device='cuda:0', grad_fn=<AddBackward>),\n",
       " 'dim_loss': tensor(0.0773, device='cuda:0', grad_fn=<AddBackward>),\n",
       " 'rot_loss': tensor(2.4254, device='cuda:0', grad_fn=<AddBackward>),\n",
       " 'wh_loss': tensor(0.2611, device='cuda:0', grad_fn=<AddBackward>),\n",
       " 'off_loss': tensor(0.0254, device='cuda:0', grad_fn=<AddBackward>),\n",
       " 'vertex_hm_loss': tensor(2686.7683, device='cuda:0', grad_fn=<AddBackward>),\n",
       " 'vertex_coordinate_loss': tensor(0.8530, device='cuda:0', grad_fn=<ThAddBackward>),\n",
       " 'vertex_off_loss': tensor(0.1741, device='cuda:0', grad_fn=<ThAddBackward>)}"
      ]
     },
     "execution_count": 33,
     "metadata": {},
     "output_type": "execute_result"
    }
   ],
   "source": [
    "loss_stats"
   ]
  },
  {
   "cell_type": "code",
   "execution_count": null,
   "metadata": {},
   "outputs": [],
   "source": [
    "for u,v in output.items():\n",
    "    print(u,v.shape)"
   ]
  },
  {
   "cell_type": "code",
   "execution_count": 47,
   "metadata": {},
   "outputs": [],
   "source": [
    "import torch\n",
    "r = torch.rand(3,3)"
   ]
  },
  {
   "cell_type": "code",
   "execution_count": 49,
   "metadata": {},
   "outputs": [
    {
     "data": {
      "text/plain": [
       "tensor([[0.1943, 0.3623, 0.9429],\n",
       "        [0.8342, 0.9788, 0.6533],\n",
       "        [0.5609, 0.9389, 0.7679]])"
      ]
     },
     "execution_count": 49,
     "metadata": {},
     "output_type": "execute_result"
    }
   ],
   "source": [
    "r"
   ]
  },
  {
   "cell_type": "code",
   "execution_count": 48,
   "metadata": {},
   "outputs": [
    {
     "data": {
      "text/plain": [
       "tensor([[[0.1943, 0.3623, 0.9429],\n",
       "         [0.1943, 0.3623, 0.9429],\n",
       "         [0.1943, 0.3623, 0.9429],\n",
       "         [0.1943, 0.3623, 0.9429],\n",
       "         [0.1943, 0.3623, 0.9429]],\n",
       "\n",
       "        [[0.8342, 0.9788, 0.6533],\n",
       "         [0.8342, 0.9788, 0.6533],\n",
       "         [0.8342, 0.9788, 0.6533],\n",
       "         [0.8342, 0.9788, 0.6533],\n",
       "         [0.8342, 0.9788, 0.6533]],\n",
       "\n",
       "        [[0.5609, 0.9389, 0.7679],\n",
       "         [0.5609, 0.9389, 0.7679],\n",
       "         [0.5609, 0.9389, 0.7679],\n",
       "         [0.5609, 0.9389, 0.7679],\n",
       "         [0.5609, 0.9389, 0.7679]]])"
      ]
     },
     "execution_count": 48,
     "metadata": {},
     "output_type": "execute_result"
    }
   ],
   "source": [
    "r.view(3,1,3).expand(3,5,3)"
   ]
  },
  {
   "cell_type": "code",
   "execution_count": 1,
   "metadata": {},
   "outputs": [
    {
     "name": "stdout",
     "output_type": "stream",
     "text": [
      "The history saving thread hit an unexpected error (OperationalError('attempt to write a readonly database',)).History will not be written to the database.\n"
     ]
    },
    {
     "ename": "NameError",
     "evalue": "name 'r' is not defined",
     "output_type": "error",
     "traceback": [
      "\u001b[0;31m---------------------------------------------------------------------------\u001b[0m",
      "\u001b[0;31mNameError\u001b[0m                                 Traceback (most recent call last)",
      "\u001b[0;32m<ipython-input-1-3d7f6e49b68c>\u001b[0m in \u001b[0;36m<module>\u001b[0;34m\u001b[0m\n\u001b[0;32m----> 1\u001b[0;31m \u001b[0mr\u001b[0m\u001b[0;34m[\u001b[0m\u001b[0;34m...\u001b[0m\u001b[0;34m,\u001b[0m\u001b[0;34m:\u001b[0m\u001b[0;34m:\u001b[0m\u001b[0;36m2\u001b[0m\u001b[0;34m]\u001b[0m\u001b[0;34m\u001b[0m\u001b[0;34m\u001b[0m\u001b[0m\n\u001b[0m",
      "\u001b[0;31mNameError\u001b[0m: name 'r' is not defined"
     ]
    }
   ],
   "source": [
    "r[...,::2]"
   ]
  },
  {
   "cell_type": "code",
   "execution_count": 7,
   "metadata": {},
   "outputs": [],
   "source": [
    "import numpy as np"
   ]
  },
  {
   "cell_type": "code",
   "execution_count": 8,
   "metadata": {},
   "outputs": [],
   "source": [
    "input2 = np.array([315.66729736328125,\n",
    "215.83056640625,\n",
    "280.6308288574219,\n",
    "215.83221435546875,\n",
    "313.33001708984375,\n",
    "211.55223083496094,\n",
    "344.8763122558594,\n",
    "211.55088806152344,\n",
    "315.66729736328125,\n",
    "186.17977905273438,\n",
    "280.6308288574219,\n",
    "186.18028259277344,\n",
    "313.33001708984375,\n",
    "184.8531951904297,\n",
    "344.8763122558594,\n",
    "184.85276794433594,\n",
    "314.4374084472656,\n",
    "199.53054809570312])"
   ]
  },
  {
   "cell_type": "code",
   "execution_count": 11,
   "metadata": {},
   "outputs": [
    {
     "data": {
      "text/plain": [
       "True"
      ]
     },
     "execution_count": 11,
     "metadata": {},
     "output_type": "execute_result"
    }
   ],
   "source": [
    "np.any(input2[::2]>300)"
   ]
  },
  {
   "cell_type": "code",
   "execution_count": 4,
   "metadata": {},
   "outputs": [
    {
     "data": {
      "text/plain": [
       "array([215.83056641, 215.83221436, 211.55223083, 211.55088806,\n",
       "       186.17977905, 186.18028259, 184.85319519, 184.85276794,\n",
       "       199.5305481 ])"
      ]
     },
     "execution_count": 4,
     "metadata": {},
     "output_type": "execute_result"
    }
   ],
   "source": [
    "input2[1::2]"
   ]
  },
  {
   "cell_type": "code",
   "execution_count": 6,
   "metadata": {},
   "outputs": [
    {
     "data": {
      "text/plain": [
       "array([315.66729736, 280.63082886, 313.33001709, 344.87631226,\n",
       "       315.66729736, 280.63082886, 313.33001709, 344.87631226,\n",
       "       314.43740845, 215.83056641, 215.83221436, 211.55223083,\n",
       "       211.55088806, 186.17977905, 186.18028259, 184.85319519,\n",
       "       184.85276794, 199.5305481 ])"
      ]
     },
     "execution_count": 6,
     "metadata": {},
     "output_type": "execute_result"
    }
   ],
   "source": [
    "np.concatenate([input2[::2], input2[1::2]]) "
   ]
  },
  {
   "cell_type": "code",
   "execution_count": 12,
   "metadata": {},
   "outputs": [
    {
     "data": {
      "text/plain": [
       "9"
      ]
     },
     "execution_count": 12,
     "metadata": {},
     "output_type": "execute_result"
    }
   ],
   "source": [
    "np.sum(np.abs(np.array([-2,3,4])))"
   ]
  },
  {
   "cell_type": "code",
   "execution_count": 21,
   "metadata": {},
   "outputs": [
    {
     "data": {
      "text/plain": [
       "array([1, 4])"
      ]
     },
     "execution_count": 21,
     "metadata": {},
     "output_type": "execute_result"
    }
   ],
   "source": [
    "a = np.array([1,2,3,4,5])\n",
    "a[[0,3]]"
   ]
  },
  {
   "cell_type": "code",
   "execution_count": 15,
   "metadata": {},
   "outputs": [
    {
     "data": {
      "text/plain": [
       "1"
      ]
     },
     "execution_count": 15,
     "metadata": {},
     "output_type": "execute_result"
    }
   ],
   "source": [
    "a.ndim"
   ]
  },
  {
   "cell_type": "code",
   "execution_count": null,
   "metadata": {},
   "outputs": [],
   "source": []
  }
 ],
 "metadata": {
  "kernelspec": {
   "display_name": "torch0.4",
   "language": "python",
   "name": "centernet"
  },
  "language_info": {
   "codemirror_mode": {
    "name": "ipython",
    "version": 3
   },
   "file_extension": ".py",
   "mimetype": "text/x-python",
   "name": "python",
   "nbconvert_exporter": "python",
   "pygments_lexer": "ipython3",
   "version": "3.6.10"
  }
 },
 "nbformat": 4,
 "nbformat_minor": 4
}
